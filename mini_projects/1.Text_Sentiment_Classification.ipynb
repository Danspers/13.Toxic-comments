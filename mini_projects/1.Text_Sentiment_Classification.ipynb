{
 "cells": [
  {
   "cell_type": "markdown",
   "metadata": {},
   "source": [
    "# Классификация тональности текста"
   ]
  },
  {
   "cell_type": "markdown",
   "metadata": {},
   "source": [
    "Для определения тональности применим величины **TF-IDF** как признаки.\n",
    "Анализ тональности текста, или **сентимент-анализ** (от англ. sentiment, «настроение»), выявляет эмоционально окрашенные слова. Этот инструмент помогает компаниям оценивать, например, реакцию на запуск нового продукта в интернете. На разбор тысячи отзывов человек потратит несколько часов, а компьютер — пару минут.\n",
    "\n",
    "Оценить тональность — значит отметить текст как позитивный или негативный. То есть мы решаем задачу классификации, где целевой признак равен «1» для положительного текста и «0» для отрицательного. Признаки — это слова из корпуса и их величины TF-IDF для каждого текста."
   ]
  },
  {
   "cell_type": "markdown",
   "metadata": {},
   "source": [
    "**Задача:**\n",
    "- Обучите _логистическую регрессию_ так, чтобы она определяла тональность текста.  \n",
    "- Подсчитайте величину _TF-IDF_ для текстов. Лемматизированные тексты твитов для обучения находятся в файле tweets_lemm_train.csv. Целевой признак вы найдёте в столбце `positive`.\n",
    "- Обученной моделью классификации определите результаты _предсказания для тестовой выборки_ твитов, которая лежит в файле tweets_lemm_test.csv. В этой выборке целевого признака нет.\n",
    "- Сохраните предсказания в столбце `positive`. Таблицу с результатом сохраните как csv-файл, но чтобы тренажёр принял файл, не указывайте расширение (например, назовите файл 'predictions')\n",
    "\n",
    "Значение `accuracy` вашей модели должно быть не меньше 0.62."
   ]
  },
  {
   "cell_type": "code",
   "execution_count": 1,
   "metadata": {},
   "outputs": [],
   "source": [
    "# импорт основных библиотек\n",
    "import pandas as pd\n",
    "import matplotlib.pyplot as plt\n",
    "\n",
    "# импорт спец. библиотек\n",
    "import nltk\n",
    "from nltk.corpus import stopwords as nltk_stopwords\n",
    "from sklearn.metrics import accuracy_score, roc_curve\n",
    "from sklearn.linear_model import LogisticRegression\n",
    "from sklearn.model_selection import train_test_split\n",
    "from sklearn.feature_extraction.text import TfidfVectorizer\n",
    "\n",
    "#import warnings\n",
    "#warnings.filterwarnings(\"ignore\")\n",
    "\n",
    "# константы\n",
    "RANDOM_STATE = 12345"
   ]
  },
  {
   "cell_type": "markdown",
   "metadata": {},
   "source": [
    "<a id='section_1A'></a>\n",
    "### Чтение и знакомство с данными"
   ]
  },
  {
   "cell_type": "code",
   "execution_count": 2,
   "metadata": {
    "scrolled": false
   },
   "outputs": [
    {
     "name": "stdout",
     "output_type": "stream",
     "text": [
      "Файлы прочитаны.\n"
     ]
    }
   ],
   "source": [
    "# чтение файлов\n",
    "df_train = pd.read_csv('datasets/tweets_lemm_train.csv')\n",
    "df_test  = pd.read_csv('datasets/tweets_lemm_test.csv')\n",
    "print('Файлы прочитаны.')"
   ]
  },
  {
   "cell_type": "code",
   "execution_count": 3,
   "metadata": {},
   "outputs": [
    {
     "data": {
      "text/html": [
       "<div>\n",
       "<style scoped>\n",
       "    .dataframe tbody tr th:only-of-type {\n",
       "        vertical-align: middle;\n",
       "    }\n",
       "\n",
       "    .dataframe tbody tr th {\n",
       "        vertical-align: top;\n",
       "    }\n",
       "\n",
       "    .dataframe thead th {\n",
       "        text-align: right;\n",
       "    }\n",
       "</style>\n",
       "<table border=\"1\" class=\"dataframe\">\n",
       "  <thead>\n",
       "    <tr style=\"text-align: right;\">\n",
       "      <th></th>\n",
       "      <th>text</th>\n",
       "      <th>positive</th>\n",
       "      <th>lemm_text</th>\n",
       "    </tr>\n",
       "  </thead>\n",
       "  <tbody>\n",
       "    <tr>\n",
       "      <th>0</th>\n",
       "      <td>@first_timee хоть я и школота, но поверь, у на...</td>\n",
       "      <td>1</td>\n",
       "      <td>хоть я и школотый но поверь у мы то же самый о...</td>\n",
       "    </tr>\n",
       "    <tr>\n",
       "      <th>1</th>\n",
       "      <td>Да, все-таки он немного похож на него. Но мой ...</td>\n",
       "      <td>1</td>\n",
       "      <td>да весь таки он немного похожий на он но мой м...</td>\n",
       "    </tr>\n",
       "    <tr>\n",
       "      <th>2</th>\n",
       "      <td>RT @KatiaCheh: Ну ты идиотка) я испугалась за ...</td>\n",
       "      <td>1</td>\n",
       "      <td>ну ты идиотка я испугаться за ты</td>\n",
       "    </tr>\n",
       "    <tr>\n",
       "      <th>3</th>\n",
       "      <td>RT @digger2912: \"Кто то в углу сидит и погибае...</td>\n",
       "      <td>1</td>\n",
       "      <td>кто то в угол сидеть и погибать от голод а мы ...</td>\n",
       "    </tr>\n",
       "    <tr>\n",
       "      <th>4</th>\n",
       "      <td>@irina_dyshkant Вот что значит страшилка :D\\r\\...</td>\n",
       "      <td>1</td>\n",
       "      <td>вот что значит страшилка но блин посмотреть ве...</td>\n",
       "    </tr>\n",
       "    <tr>\n",
       "      <th>...</th>\n",
       "      <td>...</td>\n",
       "      <td>...</td>\n",
       "      <td>...</td>\n",
       "    </tr>\n",
       "    <tr>\n",
       "      <th>4995</th>\n",
       "      <td>Вроде дружили 10 лет и в один момент все разру...</td>\n",
       "      <td>0</td>\n",
       "      <td>вроде дружить год и в один момент весь разруши...</td>\n",
       "    </tr>\n",
       "    <tr>\n",
       "      <th>4996</th>\n",
       "      <td>@m_gulko \\r\\nПоэтому и поздравляю заранее, что...</td>\n",
       "      <td>0</td>\n",
       "      <td>поэтому и поздравлять заранее что не получитьс...</td>\n",
       "    </tr>\n",
       "    <tr>\n",
       "      <th>4997</th>\n",
       "      <td>RT @kubudojede: черт, ну зачем они переделали ...</td>\n",
       "      <td>0</td>\n",
       "      <td>черта ну зачем они переделать</td>\n",
       "    </tr>\n",
       "    <tr>\n",
       "      <th>4998</th>\n",
       "      <td>RT @xidewojopiba: Вроде бы и любим друг друга,...</td>\n",
       "      <td>0</td>\n",
       "      <td>вроде бы и любим друг друг и быть вместе не мо...</td>\n",
       "    </tr>\n",
       "    <tr>\n",
       "      <th>4999</th>\n",
       "      <td>Одна из самых скучных суббот за последнее врем...</td>\n",
       "      <td>0</td>\n",
       "      <td>один из самый скучный суббота за последний вре...</td>\n",
       "    </tr>\n",
       "  </tbody>\n",
       "</table>\n",
       "<p>5000 rows × 3 columns</p>\n",
       "</div>"
      ],
      "text/plain": [
       "                                                   text  positive  \\\n",
       "0     @first_timee хоть я и школота, но поверь, у на...         1   \n",
       "1     Да, все-таки он немного похож на него. Но мой ...         1   \n",
       "2     RT @KatiaCheh: Ну ты идиотка) я испугалась за ...         1   \n",
       "3     RT @digger2912: \"Кто то в углу сидит и погибае...         1   \n",
       "4     @irina_dyshkant Вот что значит страшилка :D\\r\\...         1   \n",
       "...                                                 ...       ...   \n",
       "4995  Вроде дружили 10 лет и в один момент все разру...         0   \n",
       "4996  @m_gulko \\r\\nПоэтому и поздравляю заранее, что...         0   \n",
       "4997  RT @kubudojede: черт, ну зачем они переделали ...         0   \n",
       "4998  RT @xidewojopiba: Вроде бы и любим друг друга,...         0   \n",
       "4999  Одна из самых скучных суббот за последнее врем...         0   \n",
       "\n",
       "                                              lemm_text  \n",
       "0     хоть я и школотый но поверь у мы то же самый о...  \n",
       "1     да весь таки он немного похожий на он но мой м...  \n",
       "2                     ну ты идиотка я испугаться за ты   \n",
       "3     кто то в угол сидеть и погибать от голод а мы ...  \n",
       "4     вот что значит страшилка но блин посмотреть ве...  \n",
       "...                                                 ...  \n",
       "4995  вроде дружить год и в один момент весь разруши...  \n",
       "4996  поэтому и поздравлять заранее что не получитьс...  \n",
       "4997                     черта ну зачем они переделать   \n",
       "4998  вроде бы и любим друг друг и быть вместе не мо...  \n",
       "4999  один из самый скучный суббота за последний вре...  \n",
       "\n",
       "[5000 rows x 3 columns]"
      ]
     },
     "metadata": {},
     "output_type": "display_data"
    },
    {
     "data": {
      "text/html": [
       "<div>\n",
       "<style scoped>\n",
       "    .dataframe tbody tr th:only-of-type {\n",
       "        vertical-align: middle;\n",
       "    }\n",
       "\n",
       "    .dataframe tbody tr th {\n",
       "        vertical-align: top;\n",
       "    }\n",
       "\n",
       "    .dataframe thead th {\n",
       "        text-align: right;\n",
       "    }\n",
       "</style>\n",
       "<table border=\"1\" class=\"dataframe\">\n",
       "  <thead>\n",
       "    <tr style=\"text-align: right;\">\n",
       "      <th></th>\n",
       "      <th>text</th>\n",
       "      <th>lemm_text</th>\n",
       "    </tr>\n",
       "  </thead>\n",
       "  <tbody>\n",
       "    <tr>\n",
       "      <th>0</th>\n",
       "      <td>RT @tiredfennel: если криса так интересуют дет...</td>\n",
       "      <td>если крис так интересовать ребёнок то либо они...</td>\n",
       "    </tr>\n",
       "    <tr>\n",
       "      <th>1</th>\n",
       "      <td>@xsealord по 200 руб. в месяц можно разместить...</td>\n",
       "      <td>по рубль в месяц можно разместить ссылка на те...</td>\n",
       "    </tr>\n",
       "    <tr>\n",
       "      <th>2</th>\n",
       "      <td>@haosANDlaw @Etishkindyx учитывая, что сейчас ...</td>\n",
       "      <td>учитывать что сейчас преобладать один половина...</td>\n",
       "    </tr>\n",
       "    <tr>\n",
       "      <th>3</th>\n",
       "      <td>Товарищ    :) Но я никак не могу отдельно не о...</td>\n",
       "      <td>товарищ но я никак не мочь отдельно не отметит...</td>\n",
       "    </tr>\n",
       "    <tr>\n",
       "      <th>4</th>\n",
       "      <td>RT @BodyaNick: Квн был отличный !) Оооочень по...</td>\n",
       "      <td>квн быть отличный оооочень понравиться женский...</td>\n",
       "    </tr>\n",
       "    <tr>\n",
       "      <th>...</th>\n",
       "      <td>...</td>\n",
       "      <td>...</td>\n",
       "    </tr>\n",
       "    <tr>\n",
       "      <th>2995</th>\n",
       "      <td>жуйк, ачивки в контре — зло! мой младший брат ...</td>\n",
       "      <td>жуйк ачивка в контра зло мой младший брат втян...</td>\n",
       "    </tr>\n",
       "    <tr>\n",
       "      <th>2996</th>\n",
       "      <td>Не хочу идти на танцы :( http://t.co/5OdPjbYXOC</td>\n",
       "      <td>не хотеть идти на танец</td>\n",
       "    </tr>\n",
       "    <tr>\n",
       "      <th>2997</th>\n",
       "      <td>На улице пусто!ни людей,ни машин,наверно холод...</td>\n",
       "      <td>на улица пусто ни человек ни машина наверно хо...</td>\n",
       "    </tr>\n",
       "    <tr>\n",
       "      <th>2998</th>\n",
       "      <td>По-моему мы и ходили за водкой в три часа за э...</td>\n",
       "      <td>по мой мы и ходить за водка в три час за это ч...</td>\n",
       "    </tr>\n",
       "    <tr>\n",
       "      <th>2999</th>\n",
       "      <td>Р.В сказал,что с утра будет самостоятельная,ну...</td>\n",
       "      <td>р в сказать что с утро быть самостоятельный ну...</td>\n",
       "    </tr>\n",
       "  </tbody>\n",
       "</table>\n",
       "<p>3000 rows × 2 columns</p>\n",
       "</div>"
      ],
      "text/plain": [
       "                                                   text  \\\n",
       "0     RT @tiredfennel: если криса так интересуют дет...   \n",
       "1     @xsealord по 200 руб. в месяц можно разместить...   \n",
       "2     @haosANDlaw @Etishkindyx учитывая, что сейчас ...   \n",
       "3     Товарищ    :) Но я никак не могу отдельно не о...   \n",
       "4     RT @BodyaNick: Квн был отличный !) Оооочень по...   \n",
       "...                                                 ...   \n",
       "2995  жуйк, ачивки в контре — зло! мой младший брат ...   \n",
       "2996    Не хочу идти на танцы :( http://t.co/5OdPjbYXOC   \n",
       "2997  На улице пусто!ни людей,ни машин,наверно холод...   \n",
       "2998  По-моему мы и ходили за водкой в три часа за э...   \n",
       "2999  Р.В сказал,что с утра будет самостоятельная,ну...   \n",
       "\n",
       "                                              lemm_text  \n",
       "0     если крис так интересовать ребёнок то либо они...  \n",
       "1     по рубль в месяц можно разместить ссылка на те...  \n",
       "2     учитывать что сейчас преобладать один половина...  \n",
       "3     товарищ но я никак не мочь отдельно не отметит...  \n",
       "4     квн быть отличный оооочень понравиться женский...  \n",
       "...                                                 ...  \n",
       "2995  жуйк ачивка в контра зло мой младший брат втян...  \n",
       "2996                           не хотеть идти на танец   \n",
       "2997  на улица пусто ни человек ни машина наверно хо...  \n",
       "2998  по мой мы и ходить за водка в три час за это ч...  \n",
       "2999  р в сказать что с утро быть самостоятельный ну...  \n",
       "\n",
       "[3000 rows x 2 columns]"
      ]
     },
     "metadata": {},
     "output_type": "display_data"
    }
   ],
   "source": [
    "# знакомство с данными\n",
    "display(df_train)\n",
    "display(df_test)"
   ]
  },
  {
   "cell_type": "code",
   "execution_count": 4,
   "metadata": {},
   "outputs": [
    {
     "name": "stdout",
     "output_type": "stream",
     "text": [
      "(5000,)\n",
      "(3000,)\n"
     ]
    }
   ],
   "source": [
    "# выделение корпусов\n",
    "corpus_train = df_train['lemm_text'].values.astype('U')\n",
    "corpus_test  = df_test['lemm_text'].values.astype('U')\n",
    "\n",
    "print(corpus_train.shape)\n",
    "print(corpus_test.shape)"
   ]
  },
  {
   "cell_type": "code",
   "execution_count": 5,
   "metadata": {},
   "outputs": [
    {
     "name": "stderr",
     "output_type": "stream",
     "text": [
      "[nltk_data] Downloading package stopwords to\n",
      "[nltk_data]     C:\\Users\\user\\AppData\\Roaming\\nltk_data...\n",
      "[nltk_data]   Package stopwords is already up-to-date!\n"
     ]
    }
   ],
   "source": [
    "# скачивание стоп слов\n",
    "nltk.download('stopwords')\n",
    "stop_words = set(nltk_stopwords.words('russian'))\n",
    "\n",
    "# создание TF-IDF векторизатора с стопсловами (слова без смысловой нагрузки)\n",
    "count_tf_idf = TfidfVectorizer(stop_words=stop_words)"
   ]
  },
  {
   "cell_type": "code",
   "execution_count": 6,
   "metadata": {
    "scrolled": false
   },
   "outputs": [
    {
     "data": {
      "text/plain": [
       "(3750, 8053)"
      ]
     },
     "metadata": {},
     "output_type": "display_data"
    }
   ],
   "source": [
    "# подготовка обучающей выборки\n",
    "target = df_train['positive']\n",
    "features = corpus_train\n",
    "\n",
    "# выделение валидационной выборки\n",
    "corpus_train, corpus_valid, target_train, target_valid = train_test_split(features,\n",
    "                                                                          target,\n",
    "                                                                          train_size = 0.75,\n",
    "                                                                          random_state = RANDOM_STATE)\n",
    "count_tf_idf.fit(corpus_train)\n",
    "features_train = count_tf_idf.transform(corpus_train)\n",
    "features_valid = count_tf_idf.transform(corpus_valid)\n",
    "\n",
    "display(features_train.shape)"
   ]
  },
  {
   "cell_type": "code",
   "execution_count": 7,
   "metadata": {},
   "outputs": [
    {
     "data": {
      "text/plain": [
       "LogisticRegression(random_state=12345)"
      ]
     },
     "execution_count": 7,
     "metadata": {},
     "output_type": "execute_result"
    }
   ],
   "source": [
    "# обучение логистической регрессии\n",
    "model = LogisticRegression(solver='lbfgs', random_state = RANDOM_STATE) # , class_weight='balanced'\n",
    "model.fit(features_train, target_train)"
   ]
  },
  {
   "cell_type": "code",
   "execution_count": 8,
   "metadata": {},
   "outputs": [
    {
     "name": "stdout",
     "output_type": "stream",
     "text": [
      "Точность на валидационной выборке: 0.6208\n",
      "Точность на тренировочной выборке: 0.916\n"
     ]
    }
   ],
   "source": [
    "# предсказание на валидационной выборке\n",
    "prediction_valid = model.predict(features_valid)\n",
    "prediction_train = model.predict(features_train)\n",
    "print('Точность на валидационной выборке:', accuracy_score(target_valid, prediction_valid))\n",
    "print('Точность на тренировочной выборке:', accuracy_score(target_train, prediction_train))"
   ]
  },
  {
   "cell_type": "code",
   "execution_count": 9,
   "metadata": {},
   "outputs": [
    {
     "name": "stdout",
     "output_type": "stream",
     "text": [
      "Наивысший показатель accuracy = 0.625, при смещении порога до значения 0.48\n"
     ]
    }
   ],
   "source": [
    "# подбор порога\n",
    "probabilities_valid = model.predict_proba(features_valid)\n",
    "probabilities_one_valid = probabilities_valid[:, 1]\n",
    "\n",
    "fpr, tpr, thresholds = roc_curve(target_valid, probabilities_one_valid)\n",
    "\n",
    "best_accuracy = 0\n",
    "for threshold in thresholds:\n",
    "    prediction_valid = probabilities_one_valid > threshold\n",
    "    accuracy = accuracy_score(target_valid, prediction_valid)\n",
    "    if best_accuracy < accuracy:\n",
    "        best_accuracy = accuracy\n",
    "        best_threshold = threshold\n",
    "        best_prediction = prediction_valid\n",
    "\n",
    "print(\"Наивысший показатель accuracy = {:.3f}, при смещении порога до значения {:.2f}\".format(best_accuracy, best_threshold))"
   ]
  },
  {
   "cell_type": "code",
   "execution_count": 10,
   "metadata": {},
   "outputs": [
    {
     "data": {
      "image/png": "[encoded data removed]",
      "text/plain": [
       "<Figure size 432x432 with 1 Axes>"
      ]
     },
     "metadata": {
      "needs_background": "light"
     },
     "output_type": "display_data"
    }
   ],
   "source": [
    "# визуализация кривой ROC_AUC\n",
    "plt.figure(figsize = (6, 6))\n",
    "plt.step(fpr, tpr, where='post')\n",
    "plt.xlim(0, 1)\n",
    "plt.ylim(0, 1)\n",
    "plt.xlabel('FPR')\n",
    "plt.ylabel('TPR')\n",
    "plt.title('ROC-кривая')\n",
    "plt.plot([0, 1], [0, 1], linestyle='--')\n",
    "plt.show();"
   ]
  },
  {
   "cell_type": "code",
   "execution_count": 14,
   "metadata": {
    "scrolled": false
   },
   "outputs": [
    {
     "data": {
      "text/plain": [
       "(3000, 8053)"
      ]
     },
     "metadata": {},
     "output_type": "display_data"
    }
   ],
   "source": [
    "# подготовка тестовой выборки\n",
    "features_test = count_tf_idf.transform(corpus_test)\n",
    "display(features_test.toarray().shape)"
   ]
  },
  {
   "cell_type": "code",
   "execution_count": 20,
   "metadata": {},
   "outputs": [
    {
     "data": {
      "text/plain": [
       "(3000, 2)"
      ]
     },
     "metadata": {},
     "output_type": "display_data"
    },
    {
     "data": {
      "text/plain": [
       "(3000,)"
      ]
     },
     "metadata": {},
     "output_type": "display_data"
    },
    {
     "data": {
      "text/plain": [
       "(3000,)"
      ]
     },
     "metadata": {},
     "output_type": "display_data"
    }
   ],
   "source": [
    "# предсказание тональности для тестовой выборки с помощью обученной модели\n",
    "probabilities_test = model.predict_proba(features_test)\n",
    "probabilities_one_test = probabilities_test[:, 1]\n",
    "prediction_test = probabilities_one_test > best_threshold"
   ]
  },
  {
   "cell_type": "code",
   "execution_count": 22,
   "metadata": {},
   "outputs": [
    {
     "data": {
      "text/html": [
       "<div>\n",
       "<style scoped>\n",
       "    .dataframe tbody tr th:only-of-type {\n",
       "        vertical-align: middle;\n",
       "    }\n",
       "\n",
       "    .dataframe tbody tr th {\n",
       "        vertical-align: top;\n",
       "    }\n",
       "\n",
       "    .dataframe thead th {\n",
       "        text-align: right;\n",
       "    }\n",
       "</style>\n",
       "<table border=\"1\" class=\"dataframe\">\n",
       "  <thead>\n",
       "    <tr style=\"text-align: right;\">\n",
       "      <th></th>\n",
       "      <th>positive</th>\n",
       "    </tr>\n",
       "  </thead>\n",
       "  <tbody>\n",
       "    <tr>\n",
       "      <th>0</th>\n",
       "      <td>True</td>\n",
       "    </tr>\n",
       "    <tr>\n",
       "      <th>1</th>\n",
       "      <td>True</td>\n",
       "    </tr>\n",
       "    <tr>\n",
       "      <th>2</th>\n",
       "      <td>False</td>\n",
       "    </tr>\n",
       "    <tr>\n",
       "      <th>3</th>\n",
       "      <td>True</td>\n",
       "    </tr>\n",
       "    <tr>\n",
       "      <th>4</th>\n",
       "      <td>True</td>\n",
       "    </tr>\n",
       "    <tr>\n",
       "      <th>...</th>\n",
       "      <td>...</td>\n",
       "    </tr>\n",
       "    <tr>\n",
       "      <th>2995</th>\n",
       "      <td>True</td>\n",
       "    </tr>\n",
       "    <tr>\n",
       "      <th>2996</th>\n",
       "      <td>False</td>\n",
       "    </tr>\n",
       "    <tr>\n",
       "      <th>2997</th>\n",
       "      <td>False</td>\n",
       "    </tr>\n",
       "    <tr>\n",
       "      <th>2998</th>\n",
       "      <td>False</td>\n",
       "    </tr>\n",
       "    <tr>\n",
       "      <th>2999</th>\n",
       "      <td>True</td>\n",
       "    </tr>\n",
       "  </tbody>\n",
       "</table>\n",
       "<p>3000 rows × 1 columns</p>\n",
       "</div>"
      ],
      "text/plain": [
       "      positive\n",
       "0         True\n",
       "1         True\n",
       "2        False\n",
       "3         True\n",
       "4         True\n",
       "...        ...\n",
       "2995      True\n",
       "2996     False\n",
       "2997     False\n",
       "2998     False\n",
       "2999      True\n",
       "\n",
       "[3000 rows x 1 columns]"
      ]
     },
     "metadata": {},
     "output_type": "display_data"
    }
   ],
   "source": [
    "# сохранение предсказания\n",
    "prediction_test = pd.DataFrame(prediction_test, columns=['positive'])\n",
    "display(prediction_test)\n",
    "prediction_test.to_csv(path_or_buf = 'datasets/predictions.csv')"
   ]
  },
  {
   "cell_type": "markdown",
   "metadata": {},
   "source": [
    "**План работы:**\n",
    "- чтение данных для тренировки и создание корпуса и лейблов\n",
    "- создание векторизатора с стопсловами\n",
    "- подготовка выборки для обучения с помощью векторизатора\n",
    "- обучение логистической регрессии на этой выборке\n",
    "- чтение данных для теста и создание корпуса и лейблов\n",
    "- предсказание тональности для тестовой выборки с помощью обученной модели\n",
    "- запись результатов в csv файле ('predictions.csv') с названием столбца предсказаний 'positive'"
   ]
  }
 ],
 "metadata": {
  "ExecuteTimeLog": [
   {
    "duration": 7588,
    "start_time": "2023-03-16T05:50:42.820Z"
   },
   {
    "duration": 386,
    "start_time": "2023-03-16T05:50:50.429Z"
   },
   {
    "duration": 946,
    "start_time": "2023-03-16T05:51:09.652Z"
   },
   {
    "duration": 120,
    "start_time": "2023-03-16T05:52:20.236Z"
   },
   {
    "duration": 614,
    "start_time": "2023-03-16T05:57:11.165Z"
   },
   {
    "duration": 18,
    "start_time": "2023-03-16T05:57:12.110Z"
   },
   {
    "duration": 675,
    "start_time": "2023-03-16T05:57:12.809Z"
   },
   {
    "duration": 531,
    "start_time": "2023-03-16T05:57:21.423Z"
   },
   {
    "duration": 597,
    "start_time": "2023-03-16T05:57:22.037Z"
   },
   {
    "duration": 9,
    "start_time": "2023-03-16T05:57:23.617Z"
   },
   {
    "duration": 4,
    "start_time": "2023-03-16T06:00:19.430Z"
   },
   {
    "duration": 387,
    "start_time": "2023-03-16T06:00:20.830Z"
   },
   {
    "duration": 1006,
    "start_time": "2023-03-16T06:00:22.324Z"
   },
   {
    "duration": 1031,
    "start_time": "2023-03-16T06:00:23.784Z"
   },
   {
    "duration": 5,
    "start_time": "2023-03-16T06:00:26.439Z"
   },
   {
    "duration": 65,
    "start_time": "2023-03-16T06:02:42.675Z"
   },
   {
    "duration": 51,
    "start_time": "2023-03-16T06:02:59.773Z"
   },
   {
    "duration": 8,
    "start_time": "2023-03-16T06:03:31.542Z"
   },
   {
    "duration": 6,
    "start_time": "2023-03-16T06:03:32.099Z"
   },
   {
    "duration": 643,
    "start_time": "2023-03-16T06:03:41.446Z"
   }
  ],
  "kernelspec": {
   "display_name": "Python 3",
   "language": "python",
   "name": "python3"
  },
  "language_info": {
   "codemirror_mode": {
    "name": "ipython",
    "version": 3
   },
   "file_extension": ".py",
   "mimetype": "text/x-python",
   "name": "python",
   "nbconvert_exporter": "python",
   "pygments_lexer": "ipython3",
   "version": "3.8.8"
  },
  "toc": {
   "base_numbering": 1,
   "nav_menu": {},
   "number_sections": true,
   "sideBar": true,
   "skip_h1_title": true,
   "title_cell": "Table of Contents",
   "title_sidebar": "Contents",
   "toc_cell": false,
   "toc_position": {},
   "toc_section_display": true,
   "toc_window_display": false
  }
 },
 "nbformat": 4,
 "nbformat_minor": 2
}
