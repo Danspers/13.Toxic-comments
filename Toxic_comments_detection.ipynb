{
  "cells": [
    {
      "cell_type": "markdown",
      "metadata": {
        "id": "31oamE6K03Dv"
      },
      "source": [
        "# Проект для «Викишоп» c SentanceTranformer"
      ]
    },
    {
      "cell_type": "markdown",
      "metadata": {
        "id": "QMwhFXAW03D0"
      },
      "source": [
        "Интернет-магазин **«Викишоп»** запускает новый сервис. Теперь пользователи могут редактировать и дополнять описания товаров, как в вики-сообществах. То есть клиенты предлагают свои правки и комментируют изменения других. Магазину нужен инструмент, который будет искать токсичные комментарии и отправлять их на модерацию.\n",
        "\n",
        "Требуется обучить модель классифицировать комментарии на позитивные и негативные. Качество модели должно оцениваться метрикой *F1*, и её значение не должно быть меньше 0.75.\n",
        "\n",
        "В распоряжении набор данных с разметкой о токсичности комментариев. Столбец `text` содержит текст комментария, а `toxic` — оценка этих комментариев: 0 - позитивный, 1 - негативный (целевой класс)."
      ]
    },
    {
      "cell_type": "markdown",
      "metadata": {
        "id": "5QtFBKlBQZgT",
        "toc": true
      },
      "source": [
        "<h1>Содержание<span class=\"tocSkip\"></span></h1>\n",
        "<div class=\"toc\"><ul class=\"toc-item\"><li><span><a href=\"#Подготовка\" data-toc-modified-id=\"Подготовка-1\"><span class=\"toc-item-num\">1&nbsp;&nbsp;</span>Подготовка</a></span></li><li><span><a href=\"#Чтение-и-знакомство-с-данными\" data-toc-modified-id=\"Чтение-и-знакомство-с-данными-2\"><span class=\"toc-item-num\">2&nbsp;&nbsp;</span>Чтение и знакомство с данными</a></span></li><li><span><a href=\"#TF-IDF-(CPU)\" data-toc-modified-id=\"TF-IDF-(CPU)-3\"><span class=\"toc-item-num\">3&nbsp;&nbsp;</span>TF-IDF (CPU)</a></span><ul class=\"toc-item\"><li><span><a href=\"#LogisticRegression\" data-toc-modified-id=\"LogisticRegression-3.1\"><span class=\"toc-item-num\">3.1&nbsp;&nbsp;</span>LogisticRegression</a></span></li><li><span><a href=\"#CatBoost\" data-toc-modified-id=\"CatBoost-3.2\"><span class=\"toc-item-num\">3.2&nbsp;&nbsp;</span>CatBoost</a></span></li></ul></li><li><span><a href=\"#SentanceTranformer-(GPU)\" data-toc-modified-id=\"SentanceTranformer-(GPU)-4\"><span class=\"toc-item-num\">4&nbsp;&nbsp;</span>SentanceTranformer (GPU)</a></span><ul class=\"toc-item\"><li><span><a href=\"#LogisticRegression\" data-toc-modified-id=\"LogisticRegression-4.1\"><span class=\"toc-item-num\">4.1&nbsp;&nbsp;</span>LogisticRegression</a></span></li><li><span><a href=\"#CatBoost-(CPU)\" data-toc-modified-id=\"CatBoost-(CPU)-4.2\"><span class=\"toc-item-num\">4.2&nbsp;&nbsp;</span>CatBoost (CPU)</a></span></li><li><span><a href=\"#CatBoost-(+-GPU)\" data-toc-modified-id=\"CatBoost-(+-GPU)-4.3\"><span class=\"toc-item-num\">4.3&nbsp;&nbsp;</span>CatBoost (+ GPU)</a></span></li></ul></li><li><span><a href=\"#Борьба-с-дисбалансом\" data-toc-modified-id=\"Борьба-с-дисбалансом-5\"><span class=\"toc-item-num\">5&nbsp;&nbsp;</span>Борьба с дисбалансом</a></span><ul class=\"toc-item\"><li><span><a href=\"#Баланс-классов\" data-toc-modified-id=\"Баланс-классов-5.1\"><span class=\"toc-item-num\">5.1&nbsp;&nbsp;</span>Баланс классов</a></span></li><li><span><a href=\"#Изменение-порога-классификации\" data-toc-modified-id=\"Изменение-порога-классификации-5.2\"><span class=\"toc-item-num\">5.2&nbsp;&nbsp;</span>Изменение порога классификации</a></span></li><li><span><a href=\"#Уменьшение-выборки-(DownSampling)\" data-toc-modified-id=\"Уменьшение-выборки-(DownSampling)-5.3\"><span class=\"toc-item-num\">5.3&nbsp;&nbsp;</span>Уменьшение выборки (DownSampling)</a></span></li></ul></li><li><span><a href=\"#Итоговое-тестирование\" data-toc-modified-id=\"Итоговое-тестирование-6\"><span class=\"toc-item-num\">6&nbsp;&nbsp;</span>Итоговое тестирование</a></span></li><li><span><a href=\"#Чек-лист-проверки\" data-toc-modified-id=\"Чек-лист-проверки-7\"><span class=\"toc-item-num\">7&nbsp;&nbsp;</span>Чек-лист проверки</a></span></li></ul></div>"
      ]
    },
    {
      "cell_type": "markdown",
      "metadata": {
        "id": "XM8wNiE903D3"
      },
      "source": [
        "<a id='section_1'></a>\n",
        "## Подготовка"
      ]
    },
    {
      "cell_type": "code",
      "execution_count": 1,
      "metadata": {
        "id": "oXPwAVmgKazq"
      },
      "outputs": [],
      "source": [
        "!pip install -q sentence_transformers catboost"
      ]
    },
    {
      "cell_type": "code",
      "execution_count": 2,
      "metadata": {
        "id": "RMDUftVhh29W"
      },
      "outputs": [],
      "source": [
        "# импорт основных библиотек\n",
        "import numpy as np\n",
        "import pandas as pd\n",
        "import matplotlib.pyplot as plt"
      ]
    },
    {
      "cell_type": "code",
      "execution_count": 3,
      "metadata": {
        "id": "DLX8XaIBiBz_"
      },
      "outputs": [],
      "source": [
        "# импорт спец. библиотек\n",
        "import os\n",
        "import re\n",
        "import nltk\n",
        "import tensorflow as tf\n",
        "from nltk.corpus import wordnet\n",
        "from pymystem3 import Mystem\n",
        "from catboost import CatBoostClassifier\n",
        "from tqdm.notebook import tqdm\n",
        "from sentence_transformers import SentenceTransformer"
      ]
    },
    {
      "cell_type": "code",
      "execution_count": 4,
      "metadata": {
        "id": "pPJdEEWn03D4"
      },
      "outputs": [],
      "source": [
        "# импорт элементов библиотеки Scikit-Learn\n",
        "from sklearn.metrics import average_precision_score, precision_score, recall_score, f1_score, precision_recall_curve\n",
        "from sklearn.linear_model import LogisticRegression\n",
        "from sklearn.model_selection import train_test_split, cross_val_score\n",
        "from sklearn.feature_extraction.text import TfidfVectorizer"
      ]
    },
    {
      "cell_type": "code",
      "execution_count": 5,
      "metadata": {
        "id": "rf3_ag9lh6vz"
      },
      "outputs": [],
      "source": [
        "# константы\n",
        "FIG_SIZE = (7, 6)\n",
        "RANDOM_STATE = 42\n",
        "\n",
        "# адреса расположения датасета\n",
        "HOME_PATH = 'datasets/toxic_comments.csv'\n",
        "SERVER_PATH = '/datasets/toxic_comments.csv'\n",
        "GOOGLE_PATH = '/content/drive/Othercomputers/ThinkBook/Yandex_Practicum/datasets/toxic_comments.csv'"
      ]
    },
    {
      "cell_type": "markdown",
      "metadata": {
        "id": "-TKA7ipV03D6"
      },
      "source": [
        "<a id='section_2'></a>\n",
        "## Чтение и знакомство с данными"
      ]
    },
    {
      "cell_type": "code",
      "execution_count": 54,
      "metadata": {
        "colab": {
          "base_uri": "https://localhost:8080/"
        },
        "id": "WSMv5MEB03D7",
        "outputId": "2a913eda-fb49-4100-a181-1dd7c9d6e96b"
      },
      "outputs": [
        {
          "name": "stdout",
          "output_type": "stream",
          "text": [
            "Drive already mounted at /content/drive; to attempt to forcibly remount, call drive.mount(\"/content/drive\", force_remount=True).\n",
            "Файл прочитан.\n"
          ]
        }
      ],
      "source": [
        "# домашняя версия\n",
        "if os.path.exists(HOME_PATH):\n",
        "    df = pd.read_csv(HOME_PATH)\n",
        "    df.drop(['Unnamed: 0'], axis=1, inplace=True)\n",
        "    print('Файл прочитан.')\n",
        "\n",
        "# сетевая версия\n",
        "elif os.path.exists(SERVER_PATH):\n",
        "    df = pd.read_csv(SERVER_PATH)\n",
        "    df.drop(['Unnamed: 0'], axis=1, inplace=True)\n",
        "    print('Файл прочитан.')\n",
        "\n",
        "else: # google версия\n",
        "    from google.colab import drive\n",
        "    drive.mount('/content/drive')\n",
        "    if os.path.exists(GOOGLE_PATH):\n",
        "        df = pd.read_csv(GOOGLE_PATH)\n",
        "        df.drop(['Unnamed: 0'], axis=1, inplace=True)\n",
        "        print('Файл прочитан.')\n",
        "\n",
        "    # обработка ошибки\n",
        "    else:\n",
        "        raise SystemError('Reading was failed. Perhaps, the path was wrong.')"
      ]
    },
    {
      "cell_type": "code",
      "execution_count": 55,
      "metadata": {
        "colab": {
          "base_uri": "https://localhost:8080/",
          "height": 895
        },
        "id": "Gw1Sh2l8aehw",
        "outputId": "58ec5587-0a7c-4b67-c6bf-8a81fe8e5954"
      },
      "outputs": [
        {
          "name": "stdout",
          "output_type": "stream",
          "text": [
            "----------------< Исходный датасет >----------------\n"
          ]
        },
        {
          "data": {
            "text/html": [
              "\n",
              "  <div id=\"df-8a99fd02-0e75-4110-9f11-8ce7d0afdc4a\" class=\"colab-df-container\">\n",
              "    <div>\n",
              "<style scoped>\n",
              "    .dataframe tbody tr th:only-of-type {\n",
              "        vertical-align: middle;\n",
              "    }\n",
              "\n",
              "    .dataframe tbody tr th {\n",
              "        vertical-align: top;\n",
              "    }\n",
              "\n",
              "    .dataframe thead th {\n",
              "        text-align: right;\n",
              "    }\n",
              "</style>\n",
              "<table border=\"1\" class=\"dataframe\">\n",
              "  <thead>\n",
              "    <tr style=\"text-align: right;\">\n",
              "      <th></th>\n",
              "      <th>text</th>\n",
              "      <th>toxic</th>\n",
              "    </tr>\n",
              "  </thead>\n",
              "  <tbody>\n",
              "    <tr>\n",
              "      <th>0</th>\n",
              "      <td>Explanation\\nWhy the edits made under my usern...</td>\n",
              "      <td>0</td>\n",
              "    </tr>\n",
              "    <tr>\n",
              "      <th>1</th>\n",
              "      <td>D'aww! He matches this background colour I'm s...</td>\n",
              "      <td>0</td>\n",
              "    </tr>\n",
              "    <tr>\n",
              "      <th>2</th>\n",
              "      <td>Hey man, I'm really not trying to edit war. It...</td>\n",
              "      <td>0</td>\n",
              "    </tr>\n",
              "    <tr>\n",
              "      <th>3</th>\n",
              "      <td>\"\\nMore\\nI can't make any real suggestions on ...</td>\n",
              "      <td>0</td>\n",
              "    </tr>\n",
              "    <tr>\n",
              "      <th>4</th>\n",
              "      <td>You, sir, are my hero. Any chance you remember...</td>\n",
              "      <td>0</td>\n",
              "    </tr>\n",
              "  </tbody>\n",
              "</table>\n",
              "</div>\n",
              "    <div class=\"colab-df-buttons\">\n",
              "\n",
              "  <div class=\"colab-df-container\">\n",
              "    <button class=\"colab-df-convert\" onclick=\"convertToInteractive('df-8a99fd02-0e75-4110-9f11-8ce7d0afdc4a')\"\n",
              "            title=\"Convert this dataframe to an interactive table.\"\n",
              "            style=\"display:none;\">\n",
              "\n",
              "  <svg xmlns=\"http://www.w3.org/2000/svg\" height=\"24px\" viewBox=\"0 -960 960 960\">\n",
              "    <path d=\"M120-120v-720h720v720H120Zm60-500h600v-160H180v160Zm220 220h160v-160H400v160Zm0 220h160v-160H400v160ZM180-400h160v-160H180v160Zm440 0h160v-160H620v160ZM180-180h160v-160H180v160Zm440 0h160v-160H620v160Z\"/>\n",
              "  </svg>\n",
              "    </button>\n",
              "\n",
              "  <style>\n",
              "    .colab-df-container {\n",
              "      display:flex;\n",
              "      gap: 12px;\n",
              "    }\n",
              "\n",
              "    .colab-df-convert {\n",
              "      background-color: #E8F0FE;\n",
              "      border: none;\n",
              "      border-radius: 50%;\n",
              "      cursor: pointer;\n",
              "      display: none;\n",
              "      fill: #1967D2;\n",
              "      height: 32px;\n",
              "      padding: 0 0 0 0;\n",
              "      width: 32px;\n",
              "    }\n",
              "\n",
              "    .colab-df-convert:hover {\n",
              "      background-color: #E2EBFA;\n",
              "      box-shadow: 0px 1px 2px rgba(60, 64, 67, 0.3), 0px 1px 3px 1px rgba(60, 64, 67, 0.15);\n",
              "      fill: #174EA6;\n",
              "    }\n",
              "\n",
              "    .colab-df-buttons div {\n",
              "      margin-bottom: 4px;\n",
              "    }\n",
              "\n",
              "    [theme=dark] .colab-df-convert {\n",
              "      background-color: #3B4455;\n",
              "      fill: #D2E3FC;\n",
              "    }\n",
              "\n",
              "    [theme=dark] .colab-df-convert:hover {\n",
              "      background-color: #434B5C;\n",
              "      box-shadow: 0px 1px 3px 1px rgba(0, 0, 0, 0.15);\n",
              "      filter: drop-shadow(0px 1px 2px rgba(0, 0, 0, 0.3));\n",
              "      fill: #FFFFFF;\n",
              "    }\n",
              "  </style>\n",
              "\n",
              "    <script>\n",
              "      const buttonEl =\n",
              "        document.querySelector('#df-8a99fd02-0e75-4110-9f11-8ce7d0afdc4a button.colab-df-convert');\n",
              "      buttonEl.style.display =\n",
              "        google.colab.kernel.accessAllowed ? 'block' : 'none';\n",
              "\n",
              "      async function convertToInteractive(key) {\n",
              "        const element = document.querySelector('#df-8a99fd02-0e75-4110-9f11-8ce7d0afdc4a');\n",
              "        const dataTable =\n",
              "          await google.colab.kernel.invokeFunction('convertToInteractive',\n",
              "                                                    [key], {});\n",
              "        if (!dataTable) return;\n",
              "\n",
              "        const docLinkHtml = 'Like what you see? Visit the ' +\n",
              "          '<a target=\"_blank\" href=https://colab.research.google.com/notebooks/data_table.ipynb>data table notebook</a>'\n",
              "          + ' to learn more about interactive tables.';\n",
              "        element.innerHTML = '';\n",
              "        dataTable['output_type'] = 'display_data';\n",
              "        await google.colab.output.renderOutput(dataTable, element);\n",
              "        const docLink = document.createElement('div');\n",
              "        docLink.innerHTML = docLinkHtml;\n",
              "        element.appendChild(docLink);\n",
              "      }\n",
              "    </script>\n",
              "  </div>\n",
              "\n",
              "\n",
              "<div id=\"df-ec580b99-7491-4130-be27-1b3d1eafe05c\">\n",
              "  <button class=\"colab-df-quickchart\" onclick=\"quickchart('df-ec580b99-7491-4130-be27-1b3d1eafe05c')\"\n",
              "            title=\"Suggest charts.\"\n",
              "            style=\"display:none;\">\n",
              "\n",
              "<svg xmlns=\"http://www.w3.org/2000/svg\" height=\"24px\"viewBox=\"0 0 24 24\"\n",
              "     width=\"24px\">\n",
              "    <g>\n",
              "        <path d=\"M19 3H5c-1.1 0-2 .9-2 2v14c0 1.1.9 2 2 2h14c1.1 0 2-.9 2-2V5c0-1.1-.9-2-2-2zM9 17H7v-7h2v7zm4 0h-2V7h2v10zm4 0h-2v-4h2v4z\"/>\n",
              "    </g>\n",
              "</svg>\n",
              "  </button>\n",
              "\n",
              "<style>\n",
              "  .colab-df-quickchart {\n",
              "      --bg-color: #E8F0FE;\n",
              "      --fill-color: #1967D2;\n",
              "      --hover-bg-color: #E2EBFA;\n",
              "      --hover-fill-color: #174EA6;\n",
              "      --disabled-fill-color: #AAA;\n",
              "      --disabled-bg-color: #DDD;\n",
              "  }\n",
              "\n",
              "  [theme=dark] .colab-df-quickchart {\n",
              "      --bg-color: #3B4455;\n",
              "      --fill-color: #D2E3FC;\n",
              "      --hover-bg-color: #434B5C;\n",
              "      --hover-fill-color: #FFFFFF;\n",
              "      --disabled-bg-color: #3B4455;\n",
              "      --disabled-fill-color: #666;\n",
              "  }\n",
              "\n",
              "  .colab-df-quickchart {\n",
              "    background-color: var(--bg-color);\n",
              "    border: none;\n",
              "    border-radius: 50%;\n",
              "    cursor: pointer;\n",
              "    display: none;\n",
              "    fill: var(--fill-color);\n",
              "    height: 32px;\n",
              "    padding: 0;\n",
              "    width: 32px;\n",
              "  }\n",
              "\n",
              "  .colab-df-quickchart:hover {\n",
              "    background-color: var(--hover-bg-color);\n",
              "    box-shadow: 0 1px 2px rgba(60, 64, 67, 0.3), 0 1px 3px 1px rgba(60, 64, 67, 0.15);\n",
              "    fill: var(--button-hover-fill-color);\n",
              "  }\n",
              "\n",
              "  .colab-df-quickchart-complete:disabled,\n",
              "  .colab-df-quickchart-complete:disabled:hover {\n",
              "    background-color: var(--disabled-bg-color);\n",
              "    fill: var(--disabled-fill-color);\n",
              "    box-shadow: none;\n",
              "  }\n",
              "\n",
              "  .colab-df-spinner {\n",
              "    border: 2px solid var(--fill-color);\n",
              "    border-color: transparent;\n",
              "    border-bottom-color: var(--fill-color);\n",
              "    animation:\n",
              "      spin 1s steps(1) infinite;\n",
              "  }\n",
              "\n",
              "  @keyframes spin {\n",
              "    0% {\n",
              "      border-color: transparent;\n",
              "      border-bottom-color: var(--fill-color);\n",
              "      border-left-color: var(--fill-color);\n",
              "    }\n",
              "    20% {\n",
              "      border-color: transparent;\n",
              "      border-left-color: var(--fill-color);\n",
              "      border-top-color: var(--fill-color);\n",
              "    }\n",
              "    30% {\n",
              "      border-color: transparent;\n",
              "      border-left-color: var(--fill-color);\n",
              "      border-top-color: var(--fill-color);\n",
              "      border-right-color: var(--fill-color);\n",
              "    }\n",
              "    40% {\n",
              "      border-color: transparent;\n",
              "      border-right-color: var(--fill-color);\n",
              "      border-top-color: var(--fill-color);\n",
              "    }\n",
              "    60% {\n",
              "      border-color: transparent;\n",
              "      border-right-color: var(--fill-color);\n",
              "    }\n",
              "    80% {\n",
              "      border-color: transparent;\n",
              "      border-right-color: var(--fill-color);\n",
              "      border-bottom-color: var(--fill-color);\n",
              "    }\n",
              "    90% {\n",
              "      border-color: transparent;\n",
              "      border-bottom-color: var(--fill-color);\n",
              "    }\n",
              "  }\n",
              "</style>\n",
              "\n",
              "  <script>\n",
              "    async function quickchart(key) {\n",
              "      const quickchartButtonEl =\n",
              "        document.querySelector('#' + key + ' button');\n",
              "      quickchartButtonEl.disabled = true;  // To prevent multiple clicks.\n",
              "      quickchartButtonEl.classList.add('colab-df-spinner');\n",
              "      try {\n",
              "        const charts = await google.colab.kernel.invokeFunction(\n",
              "            'suggestCharts', [key], {});\n",
              "      } catch (error) {\n",
              "        console.error('Error during call to suggestCharts:', error);\n",
              "      }\n",
              "      quickchartButtonEl.classList.remove('colab-df-spinner');\n",
              "      quickchartButtonEl.classList.add('colab-df-quickchart-complete');\n",
              "    }\n",
              "    (() => {\n",
              "      let quickchartButtonEl =\n",
              "        document.querySelector('#df-ec580b99-7491-4130-be27-1b3d1eafe05c button');\n",
              "      quickchartButtonEl.style.display =\n",
              "        google.colab.kernel.accessAllowed ? 'block' : 'none';\n",
              "    })();\n",
              "  </script>\n",
              "</div>\n",
              "    </div>\n",
              "  </div>\n"
            ],
            "text/plain": [
              "                                                text  toxic\n",
              "0  Explanation\\nWhy the edits made under my usern...      0\n",
              "1  D'aww! He matches this background colour I'm s...      0\n",
              "2  Hey man, I'm really not trying to edit war. It...      0\n",
              "3  \"\\nMore\\nI can't make any real suggestions on ...      0\n",
              "4  You, sir, are my hero. Any chance you remember...      0"
            ]
          },
          "metadata": {},
          "output_type": "display_data"
        },
        {
          "name": "stdout",
          "output_type": "stream",
          "text": [
            "\n",
            "------< Техническая информация >------\n",
            "<class 'pandas.core.frame.DataFrame'>\n",
            "RangeIndex: 159292 entries, 0 to 159291\n",
            "Data columns (total 2 columns):\n",
            " #   Column  Non-Null Count   Dtype \n",
            "---  ------  --------------   ----- \n",
            " 0   text    159292 non-null  object\n",
            " 1   toxic   159292 non-null  int64 \n",
            "dtypes: int64(1), object(1)\n",
            "memory usage: 2.4+ MB\n",
            "None\n",
            "Дубликаты: 0\n",
            "Типовые значения колонки 'toxic': [0 1] \n",
            "\n"
          ]
        },
        {
          "data": {
            "image/png": "[encoded data removed]",
            "text/plain": [
              "<Figure size 640x480 with 1 Axes>"
            ]
          },
          "metadata": {},
          "output_type": "display_data"
        }
      ],
      "source": [
        "print('----------------< Исходный датасет >----------------')\n",
        "display(df.head())\n",
        "\n",
        "print('\\n------< Техническая информация >------')\n",
        "print(df.info())\n",
        "print(\"Дубликаты:\", len(df[df.duplicated()]))\n",
        "print(\"Типовые значения колонки 'toxic':\", df['toxic'].unique(), '\\n')\n",
        "\n",
        "# распределение токсичности комментариев\n",
        "plt.pie(df['toxic'].value_counts(),\n",
        "        labels=['Позитивные', 'Негативные'],\n",
        "        autopct='%1.1f%%',\n",
        "        startangle=18,\n",
        "        explode=(0.5, 0),\n",
        "        shadow=True,\n",
        "        radius=1.10)\n",
        "plt.title('Распределение типов комментариев');"
      ]
    },
    {
      "cell_type": "markdown",
      "metadata": {
        "id": "xG5w-xOk03D-"
      },
      "source": [
        "**Итог:** Датасет содержит почти **160 тыс. комментариев**.\n",
        "- Колонка `Unnamed: 0` вероятней всего содержала индексы, но в них присутствовали пропуски. По этой причине она была удалена.\n",
        "- Присутствует дисбаланс классов: позитивных комментариев больше в 9 раз.\n",
        "- Тип данных соответствует содержанию в колонка.\n",
        "- Пропуски и дубликаты - отсутствуют."
      ]
    },
    {
      "cell_type": "markdown",
      "metadata": {
        "id": "pB5yaP3OMqPs"
      },
      "source": [
        "**Кодирование текста.**\n",
        "Задача модели, предсказывающей эмоциональный оттенок комментариев, будет разделена на две подзадачи:\n",
        "- оцифровка текста;\n",
        "- поиск закономерностей и оценка текста.\n",
        "\n",
        "Каждая из этих задач будут реализованы отдельными спец. модель. В этом разделе будут разобраны несколько способов преобразования текста.\n",
        "\n",
        "___"
      ]
    },
    {
      "cell_type": "markdown",
      "metadata": {
        "id": "UYJTelKEy_pa"
      },
      "source": [
        "<a id='section_3'></a>\n",
        "## TF-IDF (CPU)"
      ]
    },
    {
      "cell_type": "markdown",
      "metadata": {
        "id": "hA3K9q0803_W"
      },
      "source": [
        "Самый примитивны способ: использовать только слова встречаемые в исходном тексте.  Обучение и предсказание происходит только на словаре, который сформировывается из слов комментариев.\n",
        "\n",
        "Оцифровка слов происходит за счёт подсчёта их важности, величиной TF-IDF. То есть TF отвечает за количество упоминаний слова в отдельном тексте, а IDF отражает частоту его употребления во всём корпусе.\n",
        "\n",
        "_Примечание_: бóльшая величина TF-IDF говорит об уникальности слова в тексте по отношению к корпусу. Чем чаще оно встречается в конкретном тексте и реже в остальных, тем выше значение TF-IDF."
      ]
    },
    {
      "cell_type": "code",
      "execution_count": 8,
      "metadata": {
        "colab": {
          "base_uri": "https://localhost:8080/"
        },
        "id": "0HdLO9A8C1u8",
        "outputId": "49eb4527-8ddf-4ddf-cacf-56c0826bcdbb"
      },
      "outputs": [
        {
          "name": "stderr",
          "output_type": "stream",
          "text": [
            "[nltk_data] Downloading package wordnet to /root/nltk_data...\n",
            "[nltk_data]   Package wordnet is already up-to-date!\n",
            "[nltk_data] Downloading package punkt to /root/nltk_data...\n",
            "[nltk_data]   Package punkt is already up-to-date!\n",
            "[nltk_data] Downloading package averaged_perceptron_tagger to\n",
            "[nltk_data]     /root/nltk_data...\n",
            "[nltk_data]   Package averaged_perceptron_tagger is already up-to-\n",
            "[nltk_data]       date!\n"
          ]
        }
      ],
      "source": [
        "# инициализация класса для лемматизации\n",
        "WNLemmatizer = nltk.stem.WordNetLemmatizer()\n",
        "nltk.download('wordnet')\n",
        "nltk.download('punkt')\n",
        "nltk.download('averaged_perceptron_tagger')\n",
        "\n",
        "# функция определение части речи\n",
        "def get_wordnet_pos(word):\n",
        "    tag = nltk.pos_tag([word])[0][1][0].upper()\n",
        "    tag_dict = {\"J\": wordnet.ADJ,\n",
        "                \"N\": wordnet.NOUN,\n",
        "                \"V\": wordnet.VERB,\n",
        "                \"R\": wordnet.ADV}\n",
        "    return tag_dict.get(tag, wordnet.NOUN)\n",
        "\n",
        "# функция лемматизации и очистки текста\n",
        "def lemm_clear_text(text):\n",
        "    word_list = nltk.word_tokenize(text)\n",
        "    lemm_text = ' '.join([WNLemmatizer.lemmatize(word, get_wordnet_pos(word)) for word in word_list])\n",
        "    lemm_text = re.sub(r'[^ a-zA-Z]', '', lemm_text)\n",
        "    lemm_text = lemm_text.split()\n",
        "    lemm_clear_text =  ' '.join(lemm_text)\n",
        "    return lemm_clear_text"
      ]
    },
    {
      "cell_type": "markdown",
      "metadata": {
        "id": "P9W4XZLAUHNx"
      },
      "source": [
        "Порядок работы функции лемматизации и очистки текста:\n",
        "1. исходный текст\n",
        "2. выделение слов и символов в самостоятельные объекты\n",
        "3. лемматизация слов по отдельности\n",
        "4. удаление посторонних символов и цифр\n",
        "5. удаление лишних пробелов. (выделение оставшиеся слов в самостоятельные объекты)\n",
        "6. финальное объединение слов в одно предложение"
      ]
    },
    {
      "cell_type": "code",
      "execution_count": 9,
      "metadata": {
        "colab": {
          "base_uri": "https://localhost:8080/",
          "height": 49,
          "referenced_widgets": [
            "ff4538ab03714ef7a65c93f503fcc65d",
            "6d5282f27c6f4bf9858e08408b25ec51",
            "2f3ee8da99724f2f8845fd5ecdfe680f",
            "8fb6c795b3fe44fd825e1c15fb9a86f1",
            "afa72b78ca2c4bd8bbf2c3bf632f07b8",
            "5dcbce49688d48299216757cb1423c5e",
            "4adfb2d0689b471b8f8360dab569a1db",
            "61cc6664c06144308bc399fa5e6cede8",
            "15f5dba3e1094f178164ae9032529530",
            "1d70c084cdad4433a245871d5c5617b3",
            "5739e20828284ab6b7dc608b52ec4c6a"
          ]
        },
        "id": "3AxHA2DrsUMx",
        "outputId": "05510509-5963-4afe-a337-2c713ae760d0"
      },
      "outputs": [
        {
          "data": {
            "application/vnd.jupyter.widget-view+json": {
              "model_id": "ff4538ab03714ef7a65c93f503fcc65d",
              "version_major": 2,
              "version_minor": 0
            },
            "text/plain": [
              "  0%|          | 0/159292 [00:00<?, ?it/s]"
            ]
          },
          "metadata": {},
          "output_type": "display_data"
        }
      ],
      "source": [
        "# лемматизация текста\n",
        "tqdm.pandas()\n",
        "df['lemm_text'] = df['text'].progress_apply(lemm_clear_text)"
      ]
    },
    {
      "cell_type": "code",
      "execution_count": 10,
      "metadata": {
        "colab": {
          "base_uri": "https://localhost:8080/"
        },
        "id": "spPAYaes_w7b",
        "outputId": "84eddbe2-c222-4ec8-98dd-7b1e1ef5cb72"
      },
      "outputs": [
        {
          "name": "stdout",
          "output_type": "stream",
          "text": [
            "Исходный текст: D'aww! He matches this background colour I'm seemingly stuck with. Thanks.  (talk) 21:51, January 11, 2016 (UTC)\n",
            "Лемматизированный: Daww He match this background colour I m seemingly stuck with Thanks talk January UTC\n"
          ]
        }
      ],
      "source": [
        "# пример лемматизации текста\n",
        "print('Исходный текст:', df.loc[1, 'text'])\n",
        "print('Лемматизированный:', df.loc[1, 'lemm_text'])"
      ]
    },
    {
      "cell_type": "markdown",
      "metadata": {
        "id": "8-j3-ikDM0R8"
      },
      "source": [
        "После лемматизации теста появились пропусти. Это комментарии состоящие только из цифр и символов. Для них не существуют леммы, и следовательно результатом лемматизации будет: `NaN`. Пример этих объектов приведён ниже. В дальнейгей работе они использованы не будут."
      ]
    },
    {
      "cell_type": "code",
      "execution_count": 78,
      "metadata": {
        "colab": {
          "base_uri": "https://localhost:8080/",
          "height": 585
        },
        "id": "-JVkvtKVMRil",
        "outputId": "4a564b70-b371-48f6-cea8-65a10c40cd4a"
      },
      "outputs": [
        {
          "name": "stdout",
          "output_type": "stream",
          "text": [
            "<class 'pandas.core.frame.DataFrame'>\n",
            "RangeIndex: 159292 entries, 0 to 159291\n",
            "Data columns (total 3 columns):\n",
            " #   Column     Non-Null Count   Dtype \n",
            "---  ------     --------------   ----- \n",
            " 0   text       159292 non-null  object\n",
            " 1   toxic      159292 non-null  int64 \n",
            " 2   lemm_text  159281 non-null  object\n",
            "dtypes: int64(1), object(2)\n",
            "memory usage: 3.6+ MB\n",
            "None\n"
          ]
        },
        {
          "data": {
            "text/html": [
              "\n",
              "  <div id=\"df-97391698-24c8-4705-9c6d-ac5cb1ad635b\" class=\"colab-df-container\">\n",
              "    <div>\n",
              "<style scoped>\n",
              "    .dataframe tbody tr th:only-of-type {\n",
              "        vertical-align: middle;\n",
              "    }\n",
              "\n",
              "    .dataframe tbody tr th {\n",
              "        vertical-align: top;\n",
              "    }\n",
              "\n",
              "    .dataframe thead th {\n",
              "        text-align: right;\n",
              "    }\n",
              "</style>\n",
              "<table border=\"1\" class=\"dataframe\">\n",
              "  <thead>\n",
              "    <tr style=\"text-align: right;\">\n",
              "      <th></th>\n",
              "      <th>text</th>\n",
              "      <th>toxic</th>\n",
              "      <th>lemm_text</th>\n",
              "    </tr>\n",
              "  </thead>\n",
              "  <tbody>\n",
              "    <tr>\n",
              "      <th>4475</th>\n",
              "      <td>1993\\n\\n1994\\n\\n1995\\n\\n1996\\n\\n1997\\n\\n1998\\n...</td>\n",
              "      <td>0</td>\n",
              "      <td>NaN</td>\n",
              "    </tr>\n",
              "    <tr>\n",
              "      <th>6289</th>\n",
              "      <td>193.61.111.53  15:00</td>\n",
              "      <td>0</td>\n",
              "      <td>NaN</td>\n",
              "    </tr>\n",
              "    <tr>\n",
              "      <th>10193</th>\n",
              "      <td>64.86.141.133\"</td>\n",
              "      <td>0</td>\n",
              "      <td>NaN</td>\n",
              "    </tr>\n",
              "    <tr>\n",
              "      <th>17280</th>\n",
              "      <td>~ \\n\\n68.193.147.157</td>\n",
              "      <td>0</td>\n",
              "      <td>NaN</td>\n",
              "    </tr>\n",
              "    <tr>\n",
              "      <th>38743</th>\n",
              "      <td>88.104.31.21\"</td>\n",
              "      <td>0</td>\n",
              "      <td>NaN</td>\n",
              "    </tr>\n",
              "    <tr>\n",
              "      <th>52336</th>\n",
              "      <td>14:53,</td>\n",
              "      <td>0</td>\n",
              "      <td>NaN</td>\n",
              "    </tr>\n",
              "    <tr>\n",
              "      <th>53679</th>\n",
              "      <td>92.24.199.233|92.24.199.233]]</td>\n",
              "      <td>0</td>\n",
              "      <td>NaN</td>\n",
              "    </tr>\n",
              "    <tr>\n",
              "      <th>61644</th>\n",
              "      <td>\"\\n\\n 199.209.144.211  \"</td>\n",
              "      <td>0</td>\n",
              "      <td>NaN</td>\n",
              "    </tr>\n",
              "    <tr>\n",
              "      <th>82541</th>\n",
              "      <td>\"\\n '''''' 2010/2013 \"</td>\n",
              "      <td>0</td>\n",
              "      <td>NaN</td>\n",
              "    </tr>\n",
              "    <tr>\n",
              "      <th>119018</th>\n",
              "      <td>\"\"\"</td>\n",
              "      <td>1</td>\n",
              "      <td>NaN</td>\n",
              "    </tr>\n",
              "    <tr>\n",
              "      <th>137400</th>\n",
              "      <td>== \"\"\"</td>\n",
              "      <td>0</td>\n",
              "      <td>NaN</td>\n",
              "    </tr>\n",
              "  </tbody>\n",
              "</table>\n",
              "</div>\n",
              "    <div class=\"colab-df-buttons\">\n",
              "\n",
              "  <div class=\"colab-df-container\">\n",
              "    <button class=\"colab-df-convert\" onclick=\"convertToInteractive('df-97391698-24c8-4705-9c6d-ac5cb1ad635b')\"\n",
              "            title=\"Convert this dataframe to an interactive table.\"\n",
              "            style=\"display:none;\">\n",
              "\n",
              "  <svg xmlns=\"http://www.w3.org/2000/svg\" height=\"24px\" viewBox=\"0 -960 960 960\">\n",
              "    <path d=\"M120-120v-720h720v720H120Zm60-500h600v-160H180v160Zm220 220h160v-160H400v160Zm0 220h160v-160H400v160ZM180-400h160v-160H180v160Zm440 0h160v-160H620v160ZM180-180h160v-160H180v160Zm440 0h160v-160H620v160Z\"/>\n",
              "  </svg>\n",
              "    </button>\n",
              "\n",
              "  <style>\n",
              "    .colab-df-container {\n",
              "      display:flex;\n",
              "      gap: 12px;\n",
              "    }\n",
              "\n",
              "    .colab-df-convert {\n",
              "      background-color: #E8F0FE;\n",
              "      border: none;\n",
              "      border-radius: 50%;\n",
              "      cursor: pointer;\n",
              "      display: none;\n",
              "      fill: #1967D2;\n",
              "      height: 32px;\n",
              "      padding: 0 0 0 0;\n",
              "      width: 32px;\n",
              "    }\n",
              "\n",
              "    .colab-df-convert:hover {\n",
              "      background-color: #E2EBFA;\n",
              "      box-shadow: 0px 1px 2px rgba(60, 64, 67, 0.3), 0px 1px 3px 1px rgba(60, 64, 67, 0.15);\n",
              "      fill: #174EA6;\n",
              "    }\n",
              "\n",
              "    .colab-df-buttons div {\n",
              "      margin-bottom: 4px;\n",
              "    }\n",
              "\n",
              "    [theme=dark] .colab-df-convert {\n",
              "      background-color: #3B4455;\n",
              "      fill: #D2E3FC;\n",
              "    }\n",
              "\n",
              "    [theme=dark] .colab-df-convert:hover {\n",
              "      background-color: #434B5C;\n",
              "      box-shadow: 0px 1px 3px 1px rgba(0, 0, 0, 0.15);\n",
              "      filter: drop-shadow(0px 1px 2px rgba(0, 0, 0, 0.3));\n",
              "      fill: #FFFFFF;\n",
              "    }\n",
              "  </style>\n",
              "\n",
              "    <script>\n",
              "      const buttonEl =\n",
              "        document.querySelector('#df-97391698-24c8-4705-9c6d-ac5cb1ad635b button.colab-df-convert');\n",
              "      buttonEl.style.display =\n",
              "        google.colab.kernel.accessAllowed ? 'block' : 'none';\n",
              "\n",
              "      async function convertToInteractive(key) {\n",
              "        const element = document.querySelector('#df-97391698-24c8-4705-9c6d-ac5cb1ad635b');\n",
              "        const dataTable =\n",
              "          await google.colab.kernel.invokeFunction('convertToInteractive',\n",
              "                                                    [key], {});\n",
              "        if (!dataTable) return;\n",
              "\n",
              "        const docLinkHtml = 'Like what you see? Visit the ' +\n",
              "          '<a target=\"_blank\" href=https://colab.research.google.com/notebooks/data_table.ipynb>data table notebook</a>'\n",
              "          + ' to learn more about interactive tables.';\n",
              "        element.innerHTML = '';\n",
              "        dataTable['output_type'] = 'display_data';\n",
              "        await google.colab.output.renderOutput(dataTable, element);\n",
              "        const docLink = document.createElement('div');\n",
              "        docLink.innerHTML = docLinkHtml;\n",
              "        element.appendChild(docLink);\n",
              "      }\n",
              "    </script>\n",
              "  </div>\n",
              "\n",
              "\n",
              "<div id=\"df-4493ed16-5aa4-413f-9b59-253f3e138727\">\n",
              "  <button class=\"colab-df-quickchart\" onclick=\"quickchart('df-4493ed16-5aa4-413f-9b59-253f3e138727')\"\n",
              "            title=\"Suggest charts.\"\n",
              "            style=\"display:none;\">\n",
              "\n",
              "<svg xmlns=\"http://www.w3.org/2000/svg\" height=\"24px\"viewBox=\"0 0 24 24\"\n",
              "     width=\"24px\">\n",
              "    <g>\n",
              "        <path d=\"M19 3H5c-1.1 0-2 .9-2 2v14c0 1.1.9 2 2 2h14c1.1 0 2-.9 2-2V5c0-1.1-.9-2-2-2zM9 17H7v-7h2v7zm4 0h-2V7h2v10zm4 0h-2v-4h2v4z\"/>\n",
              "    </g>\n",
              "</svg>\n",
              "  </button>\n",
              "\n",
              "<style>\n",
              "  .colab-df-quickchart {\n",
              "      --bg-color: #E8F0FE;\n",
              "      --fill-color: #1967D2;\n",
              "      --hover-bg-color: #E2EBFA;\n",
              "      --hover-fill-color: #174EA6;\n",
              "      --disabled-fill-color: #AAA;\n",
              "      --disabled-bg-color: #DDD;\n",
              "  }\n",
              "\n",
              "  [theme=dark] .colab-df-quickchart {\n",
              "      --bg-color: #3B4455;\n",
              "      --fill-color: #D2E3FC;\n",
              "      --hover-bg-color: #434B5C;\n",
              "      --hover-fill-color: #FFFFFF;\n",
              "      --disabled-bg-color: #3B4455;\n",
              "      --disabled-fill-color: #666;\n",
              "  }\n",
              "\n",
              "  .colab-df-quickchart {\n",
              "    background-color: var(--bg-color);\n",
              "    border: none;\n",
              "    border-radius: 50%;\n",
              "    cursor: pointer;\n",
              "    display: none;\n",
              "    fill: var(--fill-color);\n",
              "    height: 32px;\n",
              "    padding: 0;\n",
              "    width: 32px;\n",
              "  }\n",
              "\n",
              "  .colab-df-quickchart:hover {\n",
              "    background-color: var(--hover-bg-color);\n",
              "    box-shadow: 0 1px 2px rgba(60, 64, 67, 0.3), 0 1px 3px 1px rgba(60, 64, 67, 0.15);\n",
              "    fill: var(--button-hover-fill-color);\n",
              "  }\n",
              "\n",
              "  .colab-df-quickchart-complete:disabled,\n",
              "  .colab-df-quickchart-complete:disabled:hover {\n",
              "    background-color: var(--disabled-bg-color);\n",
              "    fill: var(--disabled-fill-color);\n",
              "    box-shadow: none;\n",
              "  }\n",
              "\n",
              "  .colab-df-spinner {\n",
              "    border: 2px solid var(--fill-color);\n",
              "    border-color: transparent;\n",
              "    border-bottom-color: var(--fill-color);\n",
              "    animation:\n",
              "      spin 1s steps(1) infinite;\n",
              "  }\n",
              "\n",
              "  @keyframes spin {\n",
              "    0% {\n",
              "      border-color: transparent;\n",
              "      border-bottom-color: var(--fill-color);\n",
              "      border-left-color: var(--fill-color);\n",
              "    }\n",
              "    20% {\n",
              "      border-color: transparent;\n",
              "      border-left-color: var(--fill-color);\n",
              "      border-top-color: var(--fill-color);\n",
              "    }\n",
              "    30% {\n",
              "      border-color: transparent;\n",
              "      border-left-color: var(--fill-color);\n",
              "      border-top-color: var(--fill-color);\n",
              "      border-right-color: var(--fill-color);\n",
              "    }\n",
              "    40% {\n",
              "      border-color: transparent;\n",
              "      border-right-color: var(--fill-color);\n",
              "      border-top-color: var(--fill-color);\n",
              "    }\n",
              "    60% {\n",
              "      border-color: transparent;\n",
              "      border-right-color: var(--fill-color);\n",
              "    }\n",
              "    80% {\n",
              "      border-color: transparent;\n",
              "      border-right-color: var(--fill-color);\n",
              "      border-bottom-color: var(--fill-color);\n",
              "    }\n",
              "    90% {\n",
              "      border-color: transparent;\n",
              "      border-bottom-color: var(--fill-color);\n",
              "    }\n",
              "  }\n",
              "</style>\n",
              "\n",
              "  <script>\n",
              "    async function quickchart(key) {\n",
              "      const quickchartButtonEl =\n",
              "        document.querySelector('#' + key + ' button');\n",
              "      quickchartButtonEl.disabled = true;  // To prevent multiple clicks.\n",
              "      quickchartButtonEl.classList.add('colab-df-spinner');\n",
              "      try {\n",
              "        const charts = await google.colab.kernel.invokeFunction(\n",
              "            'suggestCharts', [key], {});\n",
              "      } catch (error) {\n",
              "        console.error('Error during call to suggestCharts:', error);\n",
              "      }\n",
              "      quickchartButtonEl.classList.remove('colab-df-spinner');\n",
              "      quickchartButtonEl.classList.add('colab-df-quickchart-complete');\n",
              "    }\n",
              "    (() => {\n",
              "      let quickchartButtonEl =\n",
              "        document.querySelector('#df-4493ed16-5aa4-413f-9b59-253f3e138727 button');\n",
              "      quickchartButtonEl.style.display =\n",
              "        google.colab.kernel.accessAllowed ? 'block' : 'none';\n",
              "    })();\n",
              "  </script>\n",
              "</div>\n",
              "    </div>\n",
              "  </div>\n"
            ],
            "text/plain": [
              "                                                     text  toxic lemm_text\n",
              "4475    1993\\n\\n1994\\n\\n1995\\n\\n1996\\n\\n1997\\n\\n1998\\n...      0       NaN\n",
              "6289                                 193.61.111.53  15:00      0       NaN\n",
              "10193                                      64.86.141.133\"      0       NaN\n",
              "17280                                ~ \\n\\n68.193.147.157      0       NaN\n",
              "38743                                       88.104.31.21\"      0       NaN\n",
              "52336                                              14:53,      0       NaN\n",
              "53679                       92.24.199.233|92.24.199.233]]      0       NaN\n",
              "61644                            \"\\n\\n 199.209.144.211  \"      0       NaN\n",
              "82541                              \"\\n '''''' 2010/2013 \"      0       NaN\n",
              "119018                                                \"\"\"      1       NaN\n",
              "137400                                             == \"\"\"      0       NaN"
            ]
          },
          "metadata": {},
          "output_type": "display_data"
        }
      ],
      "source": [
        "print(df.info())\n",
        "anomaly_index = df[(df['lemm_text'].isna()) | (df['lemm_text']=='')].index\n",
        "display(df.loc[anomaly_index])\n",
        "df.drop(index=anomaly_index, inplace=True)\n",
        "df.reset_index(drop=True, inplace=True)"
      ]
    },
    {
      "cell_type": "code",
      "execution_count": 79,
      "metadata": {
        "id": "pFcM6wmWzpJc"
      },
      "outputs": [],
      "source": [
        "# (!) для работы в Google Colab без GPU\n",
        "\n",
        "'''\n",
        "lemm_dataset_path = '/content/drive/Othercomputers/ThinkBook/Yandex_Practicum/datasets/toxic_comments_lemm.csv'\n",
        "#df.to_csv(lemm_dataset_path, index_label=False) # сохранение лемматизированного теста\n",
        "df['lemm_text'] = pd.read_csv(lemm_dataset_path)['lemm_text'] # чтение лемматизированного теста\n",
        "'''"
      ]
    },
    {
      "cell_type": "code",
      "execution_count": 13,
      "metadata": {
        "colab": {
          "base_uri": "https://localhost:8080/"
        },
        "id": "qiE_EwwR1slh",
        "outputId": "46073565-3e8c-4130-81f8-1b315c9de4b0"
      },
      "outputs": [
        {
          "name": "stderr",
          "output_type": "stream",
          "text": [
            "[nltk_data] Downloading package stopwords to /root/nltk_data...\n",
            "[nltk_data]   Package stopwords is already up-to-date!\n"
          ]
        }
      ],
      "source": [
        "# скачивание стоп слов\n",
        "nltk.download('stopwords')\n",
        "stop_words = nltk.corpus.stopwords.words('english')\n",
        "\n",
        "# создание TF-IDF векторизатора с стоп словами (слова без смысловой нагрузки)\n",
        "count_tf_idf = TfidfVectorizer(stop_words=stop_words)"
      ]
    },
    {
      "cell_type": "code",
      "execution_count": 14,
      "metadata": {
        "id": "lM8w61FO1znG"
      },
      "outputs": [],
      "source": [
        "# подготовка обучающей выборки\n",
        "target = df['toxic']\n",
        "features = df['lemm_text']\n",
        "\n",
        "# выделение тренировочной выборки\n",
        "X_train_tfidf, X_other, Y_train_tfidf, Y_other = train_test_split(features,\n",
        "                                                                  target,\n",
        "                                                                  stratify = target,\n",
        "                                                                  train_size = 0.80,\n",
        "                                                                  random_state = RANDOM_STATE)\n",
        "# выделение валидационной и тестовой выборок\n",
        "X_valid_tfidf, X_test_tfidf, Y_valid_tfidf, Y_test_tfidf = train_test_split(X_other,\n",
        "                                                                            Y_other,\n",
        "                                                                            stratify = Y_other,\n",
        "                                                                            test_size = 0.50,\n",
        "                                                                            random_state = RANDOM_STATE)"
      ]
    },
    {
      "cell_type": "code",
      "execution_count": 15,
      "metadata": {
        "colab": {
          "base_uri": "https://localhost:8080/"
        },
        "id": "qaSIw0Xsv02e",
        "outputId": "0901ad95-c58e-44f7-94ef-3ce759222658"
      },
      "outputs": [
        {
          "name": "stdout",
          "output_type": "stream",
          "text": [
            "Количество признаков: 168669\n"
          ]
        }
      ],
      "source": [
        "# \"кодирование\" текста\n",
        "count_tf_idf.fit(X_train_tfidf)\n",
        "X_train_tfidf = count_tf_idf.transform(X_train_tfidf)\n",
        "X_valid_tfidf = count_tf_idf.transform(X_valid_tfidf)\n",
        "X_test_tfidf  = count_tf_idf.transform(X_test_tfidf)\n",
        "\n",
        "print('Количество признаков:', X_train_tfidf.shape[1])"
      ]
    },
    {
      "cell_type": "markdown",
      "metadata": {
        "id": "VzrMohy1YI_P"
      },
      "source": [
        "Далее следует тестирование преобразованного текста. Поскольку в датасете присутствует дисбаланс, а целевая метрика _F1_ демонстрирует условную параллельность _Recall_ и _Precision_.\n",
        "В дополнении к ней будет выводится значение этих метрик и применяться построение PR-кривой и значения порогов классификации.\n",
        "\n",
        "Для оценки качества преобразования, закодированный текст сразу будет тестироваться на следующих моделях классификации:\n",
        "- LogisticRegression;\n",
        "- CatBoostClassifier."
      ]
    },
    {
      "cell_type": "markdown",
      "metadata": {
        "id": "QpFT1R8oEAdp"
      },
      "source": [
        "<a id='section_3A'></a>\n",
        "### LogisticRegression"
      ]
    },
    {
      "cell_type": "code",
      "execution_count": 16,
      "metadata": {
        "id": "5UHmo0Y-oadW"
      },
      "outputs": [],
      "source": [
        "# объявление модели Логистической регрессии и её гиперпараметров\n",
        "LogRer_tfidf = LogisticRegression(C = 11.5,\n",
        "                                  solver = 'sag',\n",
        "                                  random_state = RANDOM_STATE)"
      ]
    },
    {
      "cell_type": "code",
      "execution_count": 17,
      "metadata": {
        "colab": {
          "base_uri": "https://localhost:8080/",
          "height": 616
        },
        "id": "S74d3sM7B7Ic",
        "outputId": "c01ec149-24b7-4eb6-e73c-eb998eec3dbc"
      },
      "outputs": [
        {
          "data": {
            "image/png": "[encoded data removed]",
            "text/plain": [
              "<Figure size 700x600 with 1 Axes>"
            ]
          },
          "metadata": {},
          "output_type": "display_data"
        },
        {
          "name": "stdout",
          "output_type": "stream",
          "text": [
            "F1 = 0.783\n",
            "Recall = 0.707\n",
            "Precision = 0.877\n"
          ]
        }
      ],
      "source": [
        "# тестирование TF-IDF на Logistic Regression\n",
        "LogRer_tfidf.fit(X_train_tfidf, Y_train_tfidf)\n",
        "prediction_valid = LogRer_tfidf.predict(X_valid_tfidf)\n",
        "proba_valid = LogRer_tfidf.predict_proba(X_valid_tfidf)\n",
        "precision, recall, thresholds = precision_recall_curve(Y_valid_tfidf, proba_valid[:, 1])\n",
        "\n",
        "# PR-кривая\n",
        "plt.figure(figsize=FIG_SIZE)\n",
        "plt.plot(recall, precision)\n",
        "plt.title('PR-кривая')\n",
        "plt.xlabel('Recall')\n",
        "plt.ylabel('Precision')\n",
        "plt.grid()\n",
        "plt.show()\n",
        "\n",
        "# метрики\n",
        "print('F1 = {:.3f}'.format(f1_score(Y_valid_tfidf, prediction_valid)))\n",
        "print('Recall = {:.3f}'.format(recall_score(Y_valid_tfidf, prediction_valid)))\n",
        "print('Precision = {:.3f}'.format(precision_score(Y_valid_tfidf, prediction_valid)))"
      ]
    },
    {
      "cell_type": "markdown",
      "metadata": {
        "id": "oRpcBXjGEQA1"
      },
      "source": [
        "<a id='section_3B'></a>\n",
        "### CatBoost"
      ]
    },
    {
      "cell_type": "code",
      "execution_count": 18,
      "metadata": {
        "id": "S7WHz4rWVMMo"
      },
      "outputs": [],
      "source": [
        "# модель градиентного бустинга CatBoost (CPU) 16 minutes\n",
        "CatBoost_tfidf = CatBoostClassifier(verbose = 100, # шаг вывода информации о процессе обучения\n",
        "                                    task_type = 'CPU', # среда работы модели\n",
        "                                    max_depth = 3, # макс. глубина базовых моделей\n",
        "                                    learning_rate = 0.9, # шаг градиентного бустинга\n",
        "                                    eval_metric = 'F1') # метрика оценки модели"
      ]
    },
    {
      "cell_type": "code",
      "execution_count": 19,
      "metadata": {
        "colab": {
          "base_uri": "https://localhost:8080/"
        },
        "id": "sSkIDy0f9WIY",
        "outputId": "aeed8886-b01b-46dd-fb5a-572c82fc979e",
        "scrolled": true
      },
      "outputs": [
        {
          "name": "stdout",
          "output_type": "stream",
          "text": [
            "0:\tlearn: 0.4315777\ttotal: 986ms\tremaining: 16m 24s\n",
            "100:\tlearn: 0.7790486\ttotal: 1m 27s\tremaining: 13m\n",
            "200:\tlearn: 0.8042378\ttotal: 2m 45s\tremaining: 10m 58s\n",
            "300:\tlearn: 0.8231284\ttotal: 4m 2s\tremaining: 9m 22s\n",
            "400:\tlearn: 0.8378751\ttotal: 5m 18s\tremaining: 7m 55s\n",
            "500:\tlearn: 0.8433735\ttotal: 6m 34s\tremaining: 6m 32s\n",
            "600:\tlearn: 0.8446679\ttotal: 7m 50s\tremaining: 5m 12s\n",
            "700:\tlearn: 0.8467062\ttotal: 9m 6s\tremaining: 3m 53s\n",
            "800:\tlearn: 0.8474576\ttotal: 10m 21s\tremaining: 2m 34s\n",
            "900:\tlearn: 0.8503526\ttotal: 11m 43s\tremaining: 1m 17s\n",
            "999:\tlearn: 0.8587136\ttotal: 12m 58s\tremaining: 0us\n"
          ]
        },
        {
          "data": {
            "text/plain": [
              "<catboost.core.CatBoostClassifier at 0x798b27903910>"
            ]
          },
          "execution_count": 19,
          "metadata": {},
          "output_type": "execute_result"
        }
      ],
      "source": [
        "# обучение CatBoost на фичах TF-IDF\n",
        "CatBoost_tfidf.fit(X_train_tfidf, Y_train_tfidf)"
      ]
    },
    {
      "cell_type": "code",
      "execution_count": 49,
      "metadata": {
        "id": "KYIzpVyJwth8"
      },
      "outputs": [],
      "source": [
        "# (!) для работы в Google Colab без GPU\n",
        "\n",
        "'''\n",
        "# сохранение / чтение предобученной модели\n",
        "CatBoost_tfidf_path = '/content/drive/Othercomputers/ThinkBook/Yandex_Practicum/CatBoost_TF-IDF.cbm'\n",
        "#CatBoost_tfidf.save_model(CatBoost_tfidf_path, format='cbm')\n",
        "CatBoost_tfidf.load_model(CatBoost_tfidf_path, format='cbm')\n",
        "'''"
      ]
    },
    {
      "cell_type": "code",
      "execution_count": 21,
      "metadata": {
        "colab": {
          "base_uri": "https://localhost:8080/",
          "height": 616
        },
        "id": "2XKKFMGLFFzu",
        "outputId": "dc948360-e13b-4829-b5bf-b2c2bfdff9dc"
      },
      "outputs": [
        {
          "data": {
            "image/png": "[encoded data removed]",
            "text/plain": [
              "<Figure size 700x600 with 1 Axes>"
            ]
          },
          "metadata": {},
          "output_type": "display_data"
        },
        {
          "name": "stdout",
          "output_type": "stream",
          "text": [
            "F1 = 0.750\n",
            "Recall = 0.684\n",
            "Precision = 0.832\n"
          ]
        }
      ],
      "source": [
        "# тестирование TF-IDF на CatBoost\n",
        "prediction_valid = CatBoost_tfidf.predict(X_valid_tfidf)\n",
        "proba_valid = CatBoost_tfidf.predict_proba(X_valid_tfidf)\n",
        "precision, recall, thresholds = precision_recall_curve(Y_valid_tfidf, proba_valid[:, 1])\n",
        "\n",
        "# PR-кривая\n",
        "plt.figure(figsize=FIG_SIZE)\n",
        "plt.plot(recall, precision)\n",
        "plt.title('PR-кривая')\n",
        "plt.xlabel('Recall')\n",
        "plt.ylabel('Precision')\n",
        "plt.grid()\n",
        "plt.show()\n",
        "\n",
        "# метрики\n",
        "print('F1 = {:.3f}'.format(f1_score(Y_valid_tfidf, prediction_valid)))\n",
        "print('Recall = {:.3f}'.format(recall_score(Y_valid_tfidf, prediction_valid)))\n",
        "print('Precision = {:.3f}'.format(precision_score(Y_valid_tfidf, prediction_valid)))"
      ]
    },
    {
      "cell_type": "markdown",
      "metadata": {
        "id": "SlhYK4Uhagjp"
      },
      "source": [
        "**Итог:**\n",
        "- Лемматизация текста занимает около 2,5 минут. На этот процесс не влияет применение графического процессора.\n",
        "- Процесс векторизации подготовленного текста с помощью `TfidfVectorizer` - мгновенный. Слова, не имеющие смысловой нагрузки - удалены.\n",
        "- Логистическая регрессия имеет значение целевой метрики F1 = 0.78\n",
        "- Градиентный бустинг CatBoost F1 = 0.75, но время обучения на CPU 15 минут. Применение GPU требует большого объема ОП, что не позволяет его запустить на базовых мощностях [Google Colab](https://colab.research.google.com/).\n",
        "\n",
        "Ключевым недостатком является большое количество признаков и объём памяти, которую они занимают. Это затрудняет использование GPU, к примеру для ускорения обучения модели CatBoost.\n",
        "\n",
        "На данном этапе результат тестирования - приемлемый. Но необходимо учесть присутствующий дисбалланс классов. Этой теме будет посвящен отдельный раздел.\n",
        "\n",
        "___"
      ]
    },
    {
      "cell_type": "markdown",
      "metadata": {
        "id": "Q3M_eBSb0DxV"
      },
      "source": [
        "<a id='section_4'></a>\n",
        "## SentanceTranformer (GPU)"
      ]
    },
    {
      "cell_type": "markdown",
      "metadata": {
        "id": "dJS4tKTIj2-y"
      },
      "source": [
        "В этом разделе будет применён альтернативный способ преобразования. TF-IDF векторизатор не учитывает контекст в отличии от предобученной модели для SentanceTranformer. Она позволяет создавать эбеддинги (вектора), которые сохраняют контекст комментариев.\n",
        "\n",
        "Меньшее количество признаков и требуемый объём ОП позволяет применять GPU и ускорять процесс работы с большим объёмом данных."
      ]
    },
    {
      "cell_type": "code",
      "execution_count": 22,
      "metadata": {
        "id": "LaiTGkbhhnwM"
      },
      "outputs": [],
      "source": [
        "# инициализация предобученной модели преобразования текста в вектора\n",
        "sentence_transformer = SentenceTransformer('all-MiniLM-L6-v2')"
      ]
    },
    {
      "cell_type": "code",
      "execution_count": 23,
      "metadata": {
        "colab": {
          "base_uri": "https://localhost:8080/"
        },
        "id": "sXnDmXR7RDr2",
        "outputId": "1c1a1f56-4c01-42d2-ad21-4f9c0e045e97"
      },
      "outputs": [
        {
          "name": "stdout",
          "output_type": "stream",
          "text": [
            "Found GPU at: /device:GPU:0\n"
          ]
        }
      ],
      "source": [
        "# назначение GPU\n",
        "device_name = tf.test.gpu_device_name()\n",
        "if device_name != '/device:GPU:0':\n",
        "  raise SystemError('GPU device not found')\n",
        "print('Found GPU at: {}'.format(device_name))"
      ]
    },
    {
      "cell_type": "code",
      "execution_count": 24,
      "metadata": {
        "colab": {
          "base_uri": "https://localhost:8080/"
        },
        "id": "iQn0h5xLqO8-",
        "outputId": "a4e9a483-6fbb-46f8-eba1-fb1148d6bdd5"
      },
      "outputs": [
        {
          "name": "stdout",
          "output_type": "stream",
          "text": [
            "CPU times: user 3min 41s, sys: 2.3 s, total: 3min 43s\n",
            "Wall time: 3min 21s\n"
          ]
        }
      ],
      "source": [
        "%%time\n",
        "# кодирование текста\n",
        "ST_embeddings = []\n",
        "\n",
        "if  device_name == '/device:GPU:0': # GPU 3:20 minutes\n",
        "    with tf.device('/device:GPU:0'):\n",
        "        ST_embeddings = sentence_transformer.encode(df['text'])\n",
        "else:\n",
        "    for i in tqdm(range(len(df['text']))): # CPU 25 minutes\n",
        "        ST_embeddings.append(sentence_transformer.encode(df.loc[i, 'text']))"
      ]
    },
    {
      "cell_type": "code",
      "execution_count": 50,
      "metadata": {
        "id": "wY8qIjaiyj6N"
      },
      "outputs": [],
      "source": [
        "# (!) для работы в Google Colab без GPU\n",
        "\n",
        "'''\n",
        "# сохранение / чтение эбеддингов\n",
        "embeddings_path = '/content/drive/Othercomputers/ThinkBook/Yandex_Practicum/datasets/ST_embeddings.csv'\n",
        "#pd.DataFrame(ST_embeddings).to_csv(embeddings_path, index_label=False)\n",
        "ST_embeddings = pd.read_csv(embeddings_path)\n",
        "'''"
      ]
    },
    {
      "cell_type": "code",
      "execution_count": 26,
      "metadata": {
        "colab": {
          "base_uri": "https://localhost:8080/",
          "height": 255
        },
        "id": "DNWX3x6rVGfA",
        "outputId": "9495bbd3-4c5d-4046-84e5-78a7ad5a703a"
      },
      "outputs": [
        {
          "data": {
            "text/html": [
              "\n",
              "  <div id=\"df-a63f4ee4-0819-438b-8624-eba63550ba17\" class=\"colab-df-container\">\n",
              "    <div>\n",
              "<style scoped>\n",
              "    .dataframe tbody tr th:only-of-type {\n",
              "        vertical-align: middle;\n",
              "    }\n",
              "\n",
              "    .dataframe tbody tr th {\n",
              "        vertical-align: top;\n",
              "    }\n",
              "\n",
              "    .dataframe thead th {\n",
              "        text-align: right;\n",
              "    }\n",
              "</style>\n",
              "<table border=\"1\" class=\"dataframe\">\n",
              "  <thead>\n",
              "    <tr style=\"text-align: right;\">\n",
              "      <th></th>\n",
              "      <th>0</th>\n",
              "      <th>1</th>\n",
              "      <th>2</th>\n",
              "      <th>3</th>\n",
              "      <th>4</th>\n",
              "      <th>5</th>\n",
              "      <th>6</th>\n",
              "      <th>7</th>\n",
              "      <th>8</th>\n",
              "      <th>9</th>\n",
              "      <th>...</th>\n",
              "      <th>374</th>\n",
              "      <th>375</th>\n",
              "      <th>376</th>\n",
              "      <th>377</th>\n",
              "      <th>378</th>\n",
              "      <th>379</th>\n",
              "      <th>380</th>\n",
              "      <th>381</th>\n",
              "      <th>382</th>\n",
              "      <th>383</th>\n",
              "    </tr>\n",
              "  </thead>\n",
              "  <tbody>\n",
              "    <tr>\n",
              "      <th>0</th>\n",
              "      <td>-0.028033</td>\n",
              "      <td>0.056780</td>\n",
              "      <td>0.091350</td>\n",
              "      <td>0.032315</td>\n",
              "      <td>0.048531</td>\n",
              "      <td>0.024905</td>\n",
              "      <td>-0.001665</td>\n",
              "      <td>-0.035811</td>\n",
              "      <td>0.015926</td>\n",
              "      <td>-0.019791</td>\n",
              "      <td>...</td>\n",
              "      <td>-0.001886</td>\n",
              "      <td>0.004119</td>\n",
              "      <td>0.005928</td>\n",
              "      <td>0.077336</td>\n",
              "      <td>-0.058341</td>\n",
              "      <td>-0.031362</td>\n",
              "      <td>0.001371</td>\n",
              "      <td>0.014139</td>\n",
              "      <td>-0.026163</td>\n",
              "      <td>-0.041901</td>\n",
              "    </tr>\n",
              "    <tr>\n",
              "      <th>1</th>\n",
              "      <td>-0.051320</td>\n",
              "      <td>0.087537</td>\n",
              "      <td>0.055453</td>\n",
              "      <td>-0.061086</td>\n",
              "      <td>0.071453</td>\n",
              "      <td>-0.035208</td>\n",
              "      <td>0.104684</td>\n",
              "      <td>-0.090925</td>\n",
              "      <td>-0.009081</td>\n",
              "      <td>-0.010960</td>\n",
              "      <td>...</td>\n",
              "      <td>0.082233</td>\n",
              "      <td>-0.088611</td>\n",
              "      <td>0.035271</td>\n",
              "      <td>0.029772</td>\n",
              "      <td>0.046203</td>\n",
              "      <td>0.039858</td>\n",
              "      <td>0.092982</td>\n",
              "      <td>0.020118</td>\n",
              "      <td>-0.092164</td>\n",
              "      <td>0.018549</td>\n",
              "    </tr>\n",
              "    <tr>\n",
              "      <th>2</th>\n",
              "      <td>0.010958</td>\n",
              "      <td>0.092103</td>\n",
              "      <td>0.051115</td>\n",
              "      <td>0.013316</td>\n",
              "      <td>0.018948</td>\n",
              "      <td>0.023738</td>\n",
              "      <td>-0.033800</td>\n",
              "      <td>-0.098386</td>\n",
              "      <td>0.031458</td>\n",
              "      <td>0.026289</td>\n",
              "      <td>...</td>\n",
              "      <td>-0.015570</td>\n",
              "      <td>0.027781</td>\n",
              "      <td>0.109071</td>\n",
              "      <td>0.068101</td>\n",
              "      <td>0.047131</td>\n",
              "      <td>0.015144</td>\n",
              "      <td>0.022232</td>\n",
              "      <td>-0.060034</td>\n",
              "      <td>0.014200</td>\n",
              "      <td>0.009034</td>\n",
              "    </tr>\n",
              "    <tr>\n",
              "      <th>3</th>\n",
              "      <td>-0.009012</td>\n",
              "      <td>-0.036221</td>\n",
              "      <td>0.051822</td>\n",
              "      <td>0.067826</td>\n",
              "      <td>0.083256</td>\n",
              "      <td>0.101421</td>\n",
              "      <td>-0.041176</td>\n",
              "      <td>0.040358</td>\n",
              "      <td>-0.090684</td>\n",
              "      <td>0.007777</td>\n",
              "      <td>...</td>\n",
              "      <td>0.019424</td>\n",
              "      <td>0.046546</td>\n",
              "      <td>0.025812</td>\n",
              "      <td>-0.015300</td>\n",
              "      <td>0.046243</td>\n",
              "      <td>-0.013108</td>\n",
              "      <td>0.030476</td>\n",
              "      <td>0.031271</td>\n",
              "      <td>0.016119</td>\n",
              "      <td>0.054877</td>\n",
              "    </tr>\n",
              "    <tr>\n",
              "      <th>4</th>\n",
              "      <td>-0.108289</td>\n",
              "      <td>-0.002620</td>\n",
              "      <td>-0.120247</td>\n",
              "      <td>-0.031936</td>\n",
              "      <td>0.018257</td>\n",
              "      <td>0.051597</td>\n",
              "      <td>-0.008284</td>\n",
              "      <td>-0.025604</td>\n",
              "      <td>-0.056420</td>\n",
              "      <td>0.014543</td>\n",
              "      <td>...</td>\n",
              "      <td>-0.022339</td>\n",
              "      <td>-0.015537</td>\n",
              "      <td>0.059215</td>\n",
              "      <td>-0.016928</td>\n",
              "      <td>0.009169</td>\n",
              "      <td>-0.014318</td>\n",
              "      <td>0.112808</td>\n",
              "      <td>0.089494</td>\n",
              "      <td>-0.086648</td>\n",
              "      <td>-0.038295</td>\n",
              "    </tr>\n",
              "  </tbody>\n",
              "</table>\n",
              "<p>5 rows × 384 columns</p>\n",
              "</div>\n",
              "    <div class=\"colab-df-buttons\">\n",
              "\n",
              "  <div class=\"colab-df-container\">\n",
              "    <button class=\"colab-df-convert\" onclick=\"convertToInteractive('df-a63f4ee4-0819-438b-8624-eba63550ba17')\"\n",
              "            title=\"Convert this dataframe to an interactive table.\"\n",
              "            style=\"display:none;\">\n",
              "\n",
              "  <svg xmlns=\"http://www.w3.org/2000/svg\" height=\"24px\" viewBox=\"0 -960 960 960\">\n",
              "    <path d=\"M120-120v-720h720v720H120Zm60-500h600v-160H180v160Zm220 220h160v-160H400v160Zm0 220h160v-160H400v160ZM180-400h160v-160H180v160Zm440 0h160v-160H620v160ZM180-180h160v-160H180v160Zm440 0h160v-160H620v160Z\"/>\n",
              "  </svg>\n",
              "    </button>\n",
              "\n",
              "  <style>\n",
              "    .colab-df-container {\n",
              "      display:flex;\n",
              "      gap: 12px;\n",
              "    }\n",
              "\n",
              "    .colab-df-convert {\n",
              "      background-color: #E8F0FE;\n",
              "      border: none;\n",
              "      border-radius: 50%;\n",
              "      cursor: pointer;\n",
              "      display: none;\n",
              "      fill: #1967D2;\n",
              "      height: 32px;\n",
              "      padding: 0 0 0 0;\n",
              "      width: 32px;\n",
              "    }\n",
              "\n",
              "    .colab-df-convert:hover {\n",
              "      background-color: #E2EBFA;\n",
              "      box-shadow: 0px 1px 2px rgba(60, 64, 67, 0.3), 0px 1px 3px 1px rgba(60, 64, 67, 0.15);\n",
              "      fill: #174EA6;\n",
              "    }\n",
              "\n",
              "    .colab-df-buttons div {\n",
              "      margin-bottom: 4px;\n",
              "    }\n",
              "\n",
              "    [theme=dark] .colab-df-convert {\n",
              "      background-color: #3B4455;\n",
              "      fill: #D2E3FC;\n",
              "    }\n",
              "\n",
              "    [theme=dark] .colab-df-convert:hover {\n",
              "      background-color: #434B5C;\n",
              "      box-shadow: 0px 1px 3px 1px rgba(0, 0, 0, 0.15);\n",
              "      filter: drop-shadow(0px 1px 2px rgba(0, 0, 0, 0.3));\n",
              "      fill: #FFFFFF;\n",
              "    }\n",
              "  </style>\n",
              "\n",
              "    <script>\n",
              "      const buttonEl =\n",
              "        document.querySelector('#df-a63f4ee4-0819-438b-8624-eba63550ba17 button.colab-df-convert');\n",
              "      buttonEl.style.display =\n",
              "        google.colab.kernel.accessAllowed ? 'block' : 'none';\n",
              "\n",
              "      async function convertToInteractive(key) {\n",
              "        const element = document.querySelector('#df-a63f4ee4-0819-438b-8624-eba63550ba17');\n",
              "        const dataTable =\n",
              "          await google.colab.kernel.invokeFunction('convertToInteractive',\n",
              "                                                    [key], {});\n",
              "        if (!dataTable) return;\n",
              "\n",
              "        const docLinkHtml = 'Like what you see? Visit the ' +\n",
              "          '<a target=\"_blank\" href=https://colab.research.google.com/notebooks/data_table.ipynb>data table notebook</a>'\n",
              "          + ' to learn more about interactive tables.';\n",
              "        element.innerHTML = '';\n",
              "        dataTable['output_type'] = 'display_data';\n",
              "        await google.colab.output.renderOutput(dataTable, element);\n",
              "        const docLink = document.createElement('div');\n",
              "        docLink.innerHTML = docLinkHtml;\n",
              "        element.appendChild(docLink);\n",
              "      }\n",
              "    </script>\n",
              "  </div>\n",
              "\n",
              "\n",
              "<div id=\"df-16199c3b-ef25-4925-85c2-5f7790b3fe69\">\n",
              "  <button class=\"colab-df-quickchart\" onclick=\"quickchart('df-16199c3b-ef25-4925-85c2-5f7790b3fe69')\"\n",
              "            title=\"Suggest charts.\"\n",
              "            style=\"display:none;\">\n",
              "\n",
              "<svg xmlns=\"http://www.w3.org/2000/svg\" height=\"24px\"viewBox=\"0 0 24 24\"\n",
              "     width=\"24px\">\n",
              "    <g>\n",
              "        <path d=\"M19 3H5c-1.1 0-2 .9-2 2v14c0 1.1.9 2 2 2h14c1.1 0 2-.9 2-2V5c0-1.1-.9-2-2-2zM9 17H7v-7h2v7zm4 0h-2V7h2v10zm4 0h-2v-4h2v4z\"/>\n",
              "    </g>\n",
              "</svg>\n",
              "  </button>\n",
              "\n",
              "<style>\n",
              "  .colab-df-quickchart {\n",
              "      --bg-color: #E8F0FE;\n",
              "      --fill-color: #1967D2;\n",
              "      --hover-bg-color: #E2EBFA;\n",
              "      --hover-fill-color: #174EA6;\n",
              "      --disabled-fill-color: #AAA;\n",
              "      --disabled-bg-color: #DDD;\n",
              "  }\n",
              "\n",
              "  [theme=dark] .colab-df-quickchart {\n",
              "      --bg-color: #3B4455;\n",
              "      --fill-color: #D2E3FC;\n",
              "      --hover-bg-color: #434B5C;\n",
              "      --hover-fill-color: #FFFFFF;\n",
              "      --disabled-bg-color: #3B4455;\n",
              "      --disabled-fill-color: #666;\n",
              "  }\n",
              "\n",
              "  .colab-df-quickchart {\n",
              "    background-color: var(--bg-color);\n",
              "    border: none;\n",
              "    border-radius: 50%;\n",
              "    cursor: pointer;\n",
              "    display: none;\n",
              "    fill: var(--fill-color);\n",
              "    height: 32px;\n",
              "    padding: 0;\n",
              "    width: 32px;\n",
              "  }\n",
              "\n",
              "  .colab-df-quickchart:hover {\n",
              "    background-color: var(--hover-bg-color);\n",
              "    box-shadow: 0 1px 2px rgba(60, 64, 67, 0.3), 0 1px 3px 1px rgba(60, 64, 67, 0.15);\n",
              "    fill: var(--button-hover-fill-color);\n",
              "  }\n",
              "\n",
              "  .colab-df-quickchart-complete:disabled,\n",
              "  .colab-df-quickchart-complete:disabled:hover {\n",
              "    background-color: var(--disabled-bg-color);\n",
              "    fill: var(--disabled-fill-color);\n",
              "    box-shadow: none;\n",
              "  }\n",
              "\n",
              "  .colab-df-spinner {\n",
              "    border: 2px solid var(--fill-color);\n",
              "    border-color: transparent;\n",
              "    border-bottom-color: var(--fill-color);\n",
              "    animation:\n",
              "      spin 1s steps(1) infinite;\n",
              "  }\n",
              "\n",
              "  @keyframes spin {\n",
              "    0% {\n",
              "      border-color: transparent;\n",
              "      border-bottom-color: var(--fill-color);\n",
              "      border-left-color: var(--fill-color);\n",
              "    }\n",
              "    20% {\n",
              "      border-color: transparent;\n",
              "      border-left-color: var(--fill-color);\n",
              "      border-top-color: var(--fill-color);\n",
              "    }\n",
              "    30% {\n",
              "      border-color: transparent;\n",
              "      border-left-color: var(--fill-color);\n",
              "      border-top-color: var(--fill-color);\n",
              "      border-right-color: var(--fill-color);\n",
              "    }\n",
              "    40% {\n",
              "      border-color: transparent;\n",
              "      border-right-color: var(--fill-color);\n",
              "      border-top-color: var(--fill-color);\n",
              "    }\n",
              "    60% {\n",
              "      border-color: transparent;\n",
              "      border-right-color: var(--fill-color);\n",
              "    }\n",
              "    80% {\n",
              "      border-color: transparent;\n",
              "      border-right-color: var(--fill-color);\n",
              "      border-bottom-color: var(--fill-color);\n",
              "    }\n",
              "    90% {\n",
              "      border-color: transparent;\n",
              "      border-bottom-color: var(--fill-color);\n",
              "    }\n",
              "  }\n",
              "</style>\n",
              "\n",
              "  <script>\n",
              "    async function quickchart(key) {\n",
              "      const quickchartButtonEl =\n",
              "        document.querySelector('#' + key + ' button');\n",
              "      quickchartButtonEl.disabled = true;  // To prevent multiple clicks.\n",
              "      quickchartButtonEl.classList.add('colab-df-spinner');\n",
              "      try {\n",
              "        const charts = await google.colab.kernel.invokeFunction(\n",
              "            'suggestCharts', [key], {});\n",
              "      } catch (error) {\n",
              "        console.error('Error during call to suggestCharts:', error);\n",
              "      }\n",
              "      quickchartButtonEl.classList.remove('colab-df-spinner');\n",
              "      quickchartButtonEl.classList.add('colab-df-quickchart-complete');\n",
              "    }\n",
              "    (() => {\n",
              "      let quickchartButtonEl =\n",
              "        document.querySelector('#df-16199c3b-ef25-4925-85c2-5f7790b3fe69 button');\n",
              "      quickchartButtonEl.style.display =\n",
              "        google.colab.kernel.accessAllowed ? 'block' : 'none';\n",
              "    })();\n",
              "  </script>\n",
              "</div>\n",
              "    </div>\n",
              "  </div>\n"
            ],
            "text/plain": [
              "        0         1         2         3         4         5         6    \\\n",
              "0 -0.028033  0.056780  0.091350  0.032315  0.048531  0.024905 -0.001665   \n",
              "1 -0.051320  0.087537  0.055453 -0.061086  0.071453 -0.035208  0.104684   \n",
              "2  0.010958  0.092103  0.051115  0.013316  0.018948  0.023738 -0.033800   \n",
              "3 -0.009012 -0.036221  0.051822  0.067826  0.083256  0.101421 -0.041176   \n",
              "4 -0.108289 -0.002620 -0.120247 -0.031936  0.018257  0.051597 -0.008284   \n",
              "\n",
              "        7         8         9    ...       374       375       376       377  \\\n",
              "0 -0.035811  0.015926 -0.019791  ... -0.001886  0.004119  0.005928  0.077336   \n",
              "1 -0.090925 -0.009081 -0.010960  ...  0.082233 -0.088611  0.035271  0.029772   \n",
              "2 -0.098386  0.031458  0.026289  ... -0.015570  0.027781  0.109071  0.068101   \n",
              "3  0.040358 -0.090684  0.007777  ...  0.019424  0.046546  0.025812 -0.015300   \n",
              "4 -0.025604 -0.056420  0.014543  ... -0.022339 -0.015537  0.059215 -0.016928   \n",
              "\n",
              "        378       379       380       381       382       383  \n",
              "0 -0.058341 -0.031362  0.001371  0.014139 -0.026163 -0.041901  \n",
              "1  0.046203  0.039858  0.092982  0.020118 -0.092164  0.018549  \n",
              "2  0.047131  0.015144  0.022232 -0.060034  0.014200  0.009034  \n",
              "3  0.046243 -0.013108  0.030476  0.031271  0.016119  0.054877  \n",
              "4  0.009169 -0.014318  0.112808  0.089494 -0.086648 -0.038295  \n",
              "\n",
              "[5 rows x 384 columns]"
            ]
          },
          "execution_count": 26,
          "metadata": {},
          "output_type": "execute_result"
        }
      ],
      "source": [
        "# визуализация признаков (эбеддингов)\n",
        "pd.DataFrame(ST_embeddings).head()"
      ]
    },
    {
      "cell_type": "code",
      "execution_count": 27,
      "metadata": {
        "colab": {
          "base_uri": "https://localhost:8080/"
        },
        "id": "uL90ppX4prAE",
        "outputId": "8678cc70-8154-4e7a-96a7-90599867d3c2"
      },
      "outputs": [
        {
          "name": "stdout",
          "output_type": "stream",
          "text": [
            "Количество признаков: 384\n"
          ]
        }
      ],
      "source": [
        "# подготовка обучающей выборки\n",
        "target = df['toxic']\n",
        "features = ST_embeddings\n",
        "\n",
        "# выделение тренировочной выборки\n",
        "X_train_emb, X_other, Y_train_emb, Y_other = train_test_split(features,\n",
        "                                                              target,\n",
        "                                                              stratify = target,\n",
        "                                                              train_size = 0.80,\n",
        "                                                              random_state = RANDOM_STATE)\n",
        "# выделение валидационной и тестовой выборок\n",
        "X_valid_emb, X_test_emb, Y_valid_emb, Y_test_emb = train_test_split(X_other,\n",
        "                                                                    Y_other,\n",
        "                                                                    stratify = Y_other,\n",
        "                                                                    test_size = 0.50,\n",
        "                                                                    random_state = RANDOM_STATE)\n",
        "\n",
        "print('Количество признаков:', X_train_emb.shape[1])"
      ]
    },
    {
      "cell_type": "markdown",
      "metadata": {
        "id": "5FT_nbXeFHN9"
      },
      "source": [
        "<a id='section_4A'></a>\n",
        "### LogisticRegression"
      ]
    },
    {
      "cell_type": "code",
      "execution_count": 28,
      "metadata": {
        "colab": {
          "base_uri": "https://localhost:8080/",
          "height": 616
        },
        "id": "ex-vEylFsEsN",
        "outputId": "37696938-5637-4268-f99a-c9b2f4458064"
      },
      "outputs": [
        {
          "data": {
            "image/png": "[encoded data removed]",
            "text/plain": [
              "<Figure size 700x600 with 1 Axes>"
            ]
          },
          "metadata": {},
          "output_type": "display_data"
        },
        {
          "name": "stdout",
          "output_type": "stream",
          "text": [
            "F1 = 0.716\n",
            "Recall = 0.631\n",
            "Precision = 0.829\n"
          ]
        }
      ],
      "source": [
        "# тестирование SentanceTranformer на Logistic Regression\n",
        "LogRer_emb = LogisticRegression(solver = 'sag', random_state = RANDOM_STATE)\n",
        "LogRer_emb.fit(X_train_emb, Y_train_emb)\n",
        "prediction_valid = LogRer_emb.predict(X_valid_emb)\n",
        "proba_valid = LogRer_emb.predict_proba(X_valid_emb)\n",
        "precision, recall, thresholds = precision_recall_curve(Y_valid_emb, proba_valid[:, 1])\n",
        "\n",
        "# PR-кривая\n",
        "plt.figure(figsize=FIG_SIZE)\n",
        "plt.plot(recall, precision)\n",
        "plt.title('PR-кривая')\n",
        "plt.xlabel('Recall')\n",
        "plt.ylabel('Precision')\n",
        "plt.grid()\n",
        "plt.show()\n",
        "\n",
        "# метрики\n",
        "print('F1 = {:.3f}'.format(f1_score(Y_valid_emb, prediction_valid)))\n",
        "print('Recall = {:.3f}'.format(recall_score(Y_valid_emb, prediction_valid)))\n",
        "print('Precision = {:.3f}'.format(precision_score(Y_valid_emb, prediction_valid)))"
      ]
    },
    {
      "cell_type": "markdown",
      "metadata": {
        "id": "gU3F2LmOFOcF"
      },
      "source": [
        "<a id='section_4B'></a>\n",
        "### CatBoost (CPU)"
      ]
    },
    {
      "cell_type": "code",
      "execution_count": 29,
      "metadata": {
        "id": "kza_geLC3_Kj"
      },
      "outputs": [],
      "source": [
        "# модель градиентного бустинга CatBoost\n",
        "CatBoost_cpu_emb = CatBoostClassifier(verbose = 100,\n",
        "                                      task_type = \"CPU\",\n",
        "                                      eval_metric = 'F1', # метрика оценки модели\n",
        "                                      early_stopping_rounds = 200) # макс. кол-во итераций обучения"
      ]
    },
    {
      "cell_type": "code",
      "execution_count": 30,
      "metadata": {
        "colab": {
          "base_uri": "https://localhost:8080/"
        },
        "id": "CGU40RMM1fbL",
        "outputId": "911c7548-c128-487b-cd08-eca503b4f5d4"
      },
      "outputs": [
        {
          "name": "stdout",
          "output_type": "stream",
          "text": [
            "Learning rate set to 0.081637\n",
            "0:\tlearn: 0.2639841\ttotal: 537ms\tremaining: 8m 56s\n",
            "100:\tlearn: 0.6463136\ttotal: 33.2s\tremaining: 4m 55s\n",
            "200:\tlearn: 0.6965147\ttotal: 1m 3s\tremaining: 4m 11s\n",
            "300:\tlearn: 0.7302132\ttotal: 1m 30s\tremaining: 3m 29s\n",
            "400:\tlearn: 0.7578543\ttotal: 1m 57s\tremaining: 2m 55s\n",
            "500:\tlearn: 0.7790229\ttotal: 2m 25s\tremaining: 2m 24s\n",
            "600:\tlearn: 0.7969403\ttotal: 2m 52s\tremaining: 1m 54s\n",
            "700:\tlearn: 0.8135194\ttotal: 3m 15s\tremaining: 1m 23s\n",
            "800:\tlearn: 0.8288812\ttotal: 3m 42s\tremaining: 55.3s\n",
            "900:\tlearn: 0.8432302\ttotal: 4m 9s\tremaining: 27.4s\n",
            "999:\tlearn: 0.8574366\ttotal: 4m 34s\tremaining: 0us\n"
          ]
        },
        {
          "data": {
            "text/plain": [
              "<catboost.core.CatBoostClassifier at 0x798b143807c0>"
            ]
          },
          "execution_count": 30,
          "metadata": {},
          "output_type": "execute_result"
        }
      ],
      "source": [
        "# обучение CatBoost на фичах SentanceTranformer (CPU)\n",
        "CatBoost_cpu_emb.fit(X_train_emb, Y_train_emb)"
      ]
    },
    {
      "cell_type": "code",
      "execution_count": 31,
      "metadata": {
        "colab": {
          "base_uri": "https://localhost:8080/",
          "height": 616
        },
        "id": "XkDatRMobM9g",
        "outputId": "dfdcd00d-8192-48dd-fef2-40baba028f2e"
      },
      "outputs": [
        {
          "data": {
            "image/png": "[encoded data removed]",
            "text/plain": [
              "<Figure size 700x600 with 1 Axes>"
            ]
          },
          "metadata": {},
          "output_type": "display_data"
        },
        {
          "name": "stdout",
          "output_type": "stream",
          "text": [
            "F1 = 0.712\n",
            "Recall = 0.616\n",
            "Precision = 0.844\n"
          ]
        }
      ],
      "source": [
        "# тестирование SentanceTranformer на CatBoost (CPU)\n",
        "prediction_valid = CatBoost_cpu_emb.predict(X_valid_emb)\n",
        "proba_valid = CatBoost_cpu_emb.predict_proba(X_valid_emb)\n",
        "precision, recall, thresholds = precision_recall_curve(Y_valid_emb, proba_valid[:, 1])\n",
        "\n",
        "# PR-кривая\n",
        "plt.figure(figsize=FIG_SIZE)\n",
        "plt.plot(recall, precision)\n",
        "plt.title('PR-кривая')\n",
        "plt.xlabel('Recall')\n",
        "plt.ylabel('Precision')\n",
        "plt.grid()\n",
        "plt.show()\n",
        "\n",
        "# метрики\n",
        "print('F1 = {:.3f}'.format(f1_score(Y_valid_emb, prediction_valid)))\n",
        "print('Recall = {:.3f}'.format(recall_score(Y_valid_emb, prediction_valid)))\n",
        "print('Precision = {:.3f}'.format(precision_score(Y_valid_emb, prediction_valid)))"
      ]
    },
    {
      "cell_type": "markdown",
      "metadata": {
        "id": "X2Bv5Wn2Fc7c"
      },
      "source": [
        "<a id='section_4C'></a>\n",
        "### CatBoost (+ GPU)"
      ]
    },
    {
      "cell_type": "code",
      "execution_count": 32,
      "metadata": {
        "id": "dxphzOefpS_u"
      },
      "outputs": [],
      "source": [
        "# модель градиентного бустинга CatBoost (GPU)\n",
        "CatBoost_gpu_emb = CatBoostClassifier(verbose = 100,\n",
        "                                      task_type = \"GPU\",\n",
        "                                      eval_metric = 'F1',\n",
        "                                      early_stopping_rounds = 200)"
      ]
    },
    {
      "cell_type": "code",
      "execution_count": 33,
      "metadata": {
        "colab": {
          "base_uri": "https://localhost:8080/"
        },
        "id": "ae6usRmFxXKZ",
        "outputId": "5b9947f6-3b39-41f2-edb7-d62228595f40"
      },
      "outputs": [
        {
          "name": "stdout",
          "output_type": "stream",
          "text": [
            "Learning rate set to 0.025822\n",
            "0:\tlearn: 0.3334906\ttotal: 23.7ms\tremaining: 23.7s\n",
            "100:\tlearn: 0.5009477\ttotal: 1.41s\tremaining: 12.6s\n",
            "200:\tlearn: 0.5994065\ttotal: 2.68s\tremaining: 10.7s\n",
            "300:\tlearn: 0.6403855\ttotal: 3.94s\tremaining: 9.14s\n",
            "400:\tlearn: 0.6600538\ttotal: 5.16s\tremaining: 7.71s\n",
            "500:\tlearn: 0.6749021\ttotal: 9s\tremaining: 8.96s\n",
            "600:\tlearn: 0.6870116\ttotal: 11.5s\tremaining: 7.65s\n",
            "700:\tlearn: 0.6970031\ttotal: 12.7s\tremaining: 5.41s\n",
            "800:\tlearn: 0.7047950\ttotal: 13.8s\tremaining: 3.44s\n",
            "900:\tlearn: 0.7120591\ttotal: 15s\tremaining: 1.64s\n",
            "999:\tlearn: 0.7196618\ttotal: 16.1s\tremaining: 0us\n"
          ]
        },
        {
          "data": {
            "text/plain": [
              "<catboost.core.CatBoostClassifier at 0x798b16a775e0>"
            ]
          },
          "execution_count": 33,
          "metadata": {},
          "output_type": "execute_result"
        }
      ],
      "source": [
        "# обучение CatBoost на фичах SentanceTranformer (GPU)\n",
        "CatBoost_gpu_emb.fit(X_train_emb, Y_train_emb)"
      ]
    },
    {
      "cell_type": "code",
      "execution_count": 34,
      "metadata": {
        "colab": {
          "base_uri": "https://localhost:8080/",
          "height": 616
        },
        "id": "GhDysa2JQOBL",
        "outputId": "6e0c67f5-efd7-410c-84ad-8be95fe75e13"
      },
      "outputs": [
        {
          "data": {
            "image/png": "[encoded data removed]",
            "text/plain": [
              "<Figure size 700x600 with 1 Axes>"
            ]
          },
          "metadata": {},
          "output_type": "display_data"
        },
        {
          "name": "stdout",
          "output_type": "stream",
          "text": [
            "F1 = 0.682\n",
            "Recall = 0.578\n",
            "Precision = 0.831\n"
          ]
        }
      ],
      "source": [
        "# тестирование SentanceTranformer на CatBoost (GPU)\n",
        "prediction_valid = CatBoost_gpu_emb.predict(X_valid_emb)\n",
        "proba_valid = CatBoost_gpu_emb.predict_proba(X_valid_emb)\n",
        "precision, recall, thresholds = precision_recall_curve(Y_valid_emb, proba_valid[:, 1])\n",
        "\n",
        "# PR-кривая\n",
        "plt.figure(figsize=FIG_SIZE)\n",
        "plt.plot(recall, precision)\n",
        "plt.title('PR-кривая')\n",
        "plt.xlabel('Recall')\n",
        "plt.ylabel('Precision')\n",
        "plt.grid()\n",
        "plt.show()\n",
        "\n",
        "# метрики\n",
        "print('F1 = {:.3f}'.format(f1_score(Y_valid_emb, prediction_valid)))\n",
        "print('Recall = {:.3f}'.format(recall_score(Y_valid_emb, prediction_valid)))\n",
        "print('Precision = {:.3f}'.format(precision_score(Y_valid_emb, prediction_valid)))"
      ]
    },
    {
      "cell_type": "markdown",
      "metadata": {
        "id": "JdHkh6N7mKW_"
      },
      "source": [
        "**Итог:**\n",
        "- Кодирование текста (создание эбеддингов) с помощью GPU и предобученной модели из SentenceTransformer: 3,5 минуты (CPU 2 часа).\n",
        "- Логистическая регрессия F1 = 0.70 и небольшое общее время работы: 20 секунд (обучение и предсказание).\n",
        "- Градиентный бустинг CatBoost (CPU) F1 = 0.71 и 4,5 минут время обучения.\n",
        "- Градиентный бустинг CatBoost (GPU) F1 = 0.68 и 25 секунд время обучения.\n",
        "\n",
        "Это промежуточные результаты, поскольку в следующем разделе эти же модели будут тестироваться с учётом присутствующим дисбалансом.\n",
        "\n",
        "___"
      ]
    },
    {
      "cell_type": "markdown",
      "metadata": {
        "id": "0veGy9HK5Ywj"
      },
      "source": [
        "<a id='section_5'></a>\n",
        "## Борьба с дисбалансом"
      ]
    },
    {
      "cell_type": "markdown",
      "metadata": {
        "id": "Hi9T11nqVB0a"
      },
      "source": [
        "<a id='section_5A'></a>\n",
        "### Баланс классов"
      ]
    },
    {
      "cell_type": "markdown",
      "metadata": {
        "id": "229G12nvKYfT"
      },
      "source": [
        "Использование встроенных средств модели, позволяющие стабилизировать разность между классами назначив им разные веса."
      ]
    },
    {
      "cell_type": "code",
      "execution_count": 35,
      "metadata": {
        "id": "URkjmsFKUSc4"
      },
      "outputs": [],
      "source": [
        "# объявление Логистической регрессии с балансом классов\n",
        "LR_balanced = LogisticRegression(solver = 'sag',\n",
        "                                 class_weight = 'balanced',\n",
        "                                 random_state = RANDOM_STATE)"
      ]
    },
    {
      "cell_type": "code",
      "execution_count": 36,
      "metadata": {
        "colab": {
          "base_uri": "https://localhost:8080/"
        },
        "id": "OTTYp3Mcc209",
        "outputId": "0fe44128-9668-4faf-aab6-36131b69530e"
      },
      "outputs": [
        {
          "name": "stdout",
          "output_type": "stream",
          "text": [
            "F1 = 0.751\n",
            "Recall = 0.855\n",
            "Precision = 0.670\n"
          ]
        }
      ],
      "source": [
        "# тестирование TF-IDF на Logistic Regression + баланс классов\n",
        "LR_balanced.fit(X_train_tfidf, Y_train_tfidf)\n",
        "balanced_prediction_valid = LR_balanced.predict(X_valid_tfidf)\n",
        "\n",
        "print('F1 = {:.3f}'.format(f1_score(Y_valid_tfidf, balanced_prediction_valid)))\n",
        "print('Recall = {:.3f}'.format(recall_score(Y_valid_tfidf, balanced_prediction_valid)))\n",
        "print('Precision = {:.3f}'.format(precision_score(Y_valid_tfidf, balanced_prediction_valid)))"
      ]
    },
    {
      "cell_type": "code",
      "execution_count": 37,
      "metadata": {
        "colab": {
          "base_uri": "https://localhost:8080/"
        },
        "id": "gP0pQ7d6Q9Op",
        "outputId": "e397e5d8-1cb3-49d3-a06e-4314a3b32cdf"
      },
      "outputs": [
        {
          "name": "stdout",
          "output_type": "stream",
          "text": [
            "F1 = 0.648\n",
            "Recall = 0.888\n",
            "Precision = 0.510\n"
          ]
        }
      ],
      "source": [
        "# тестирование SentanceTranformer на Logistic Regression + баланс классов\n",
        "LR_balanced.fit(X_train_emb, Y_train_emb)\n",
        "balanced_prediction_valid = LR_balanced.predict(X_valid_emb)\n",
        "\n",
        "print('F1 = {:.3f}'.format(f1_score(Y_valid_emb, balanced_prediction_valid)))\n",
        "print('Recall = {:.3f}'.format(recall_score(Y_valid_emb, balanced_prediction_valid)))\n",
        "print('Precision = {:.3f}'.format(precision_score(Y_valid_emb, balanced_prediction_valid)))"
      ]
    },
    {
      "cell_type": "markdown",
      "metadata": {
        "id": "PrLBnWU6K13p"
      },
      "source": [
        "Если ранее наблюдались заниженные значения полноты (Recall), то балансировка классов, за счёт изменения их веса, изменила положение на противоположное. Метрика F1 либо не изменилась либо ухудшилась."
      ]
    },
    {
      "cell_type": "markdown",
      "metadata": {
        "id": "NB2QfaGJVNiy"
      },
      "source": [
        "<a id='section_5B'></a>\n",
        "### Изменение порога классификации"
      ]
    },
    {
      "cell_type": "markdown",
      "metadata": {
        "id": "fkhi3bjBMH8q"
      },
      "source": [
        "Поскольку в датасете присутствуют 2 класса, то по-умолчанию объекты распределяются либо в один класс либо в другой с вероятностью 50%.\n",
        "\n",
        "Но в данной ситуации классы имеют разное соотношение друг к другу, а именно 1:9, не в пользу целевого класса (токсичные комментарии). В данном разделе будет смещаться порог классификации, ради повышения качества предсказания."
      ]
    },
    {
      "cell_type": "code",
      "execution_count": 38,
      "metadata": {
        "colab": {
          "base_uri": "https://localhost:8080/",
          "height": 66,
          "referenced_widgets": [
            "4336bdb944b74f1cbd0a6d5150e74ed2",
            "82e5fee8b9244d79998a0cd7e2f9181e",
            "f754d94498f040669b4f03446a6f092b",
            "de6d21bfc309409d8bd7a99de0a9ed6c",
            "df2506c4de80437eb909e9f24c503ed3",
            "76d89dce8257477e9922b859b6004b2c",
            "2037a78270d2460c97bf97abcf02f4aa",
            "6ff31141cabf459692ec629ff1daf05a",
            "4b7975bcf6454ed5aae6dc9453c92b12",
            "802a194cdfad405cbb6a54a4d15c480a",
            "020c52efbf1643aaa5b25cf601ba3e3e"
          ]
        },
        "id": "dLo4AtNBncY4",
        "outputId": "8fe31950-6812-44c0-9ec6-79489ccff51f"
      },
      "outputs": [
        {
          "data": {
            "application/vnd.jupyter.widget-view+json": {
              "model_id": "4336bdb944b74f1cbd0a6d5150e74ed2",
              "version_major": 2,
              "version_minor": 0
            },
            "text/plain": [
              "  0%|          | 0/15819 [00:00<?, ?it/s]"
            ]
          },
          "metadata": {},
          "output_type": "display_data"
        },
        {
          "name": "stdout",
          "output_type": "stream",
          "text": [
            "Наивысший показатель F1 = 0.785, при смещении порога до значения 0.40\n"
          ]
        }
      ],
      "source": [
        "# тестирование TF-IDF на Logistic Regression + смещение порога классификации (2 minutes)\n",
        "proba_valid = LogRer_tfidf.predict_proba(X_valid_tfidf)\n",
        "precision, recall, thresholds = precision_recall_curve(Y_valid_tfidf, proba_valid[:, 1])\n",
        "\n",
        "best_f1 = 0\n",
        "for threshold in tqdm(thresholds):\n",
        "    prediction_valid = proba_valid[:, 1] > threshold\n",
        "    f1 = f1_score(Y_valid_tfidf, prediction_valid)\n",
        "    if best_f1 < f1:\n",
        "        best_f1 = f1\n",
        "        best_threshold = threshold\n",
        "\n",
        "print(\"Наивысший показатель F1 = {:.3f}, при смещении порога до значения {:.2f}\".format(best_f1, best_threshold))"
      ]
    },
    {
      "cell_type": "code",
      "execution_count": 39,
      "metadata": {
        "colab": {
          "base_uri": "https://localhost:8080/",
          "height": 66,
          "referenced_widgets": [
            "964c71a12c9b451b9df4fb7366ac7924",
            "b481815d555c4ffaa6b3994cf014467e",
            "ec4a53a66f804a2e9b7a7644d0b80c4d",
            "a071d375492b470e89cedaeae08fd46c",
            "3c95038355a5418caacbff4534193451",
            "46f75b5d759e4b34b2cfa8a125ba8e45",
            "20578416ef234fe2a279cb5bb2564b44",
            "e9349c135c6f43258fd87fe05ca46228",
            "f7340faabc244291aea2bfaac6663119",
            "f4f501159f1d40d2ab664355378d81d1",
            "122a192bb5164888a179a630088733c8"
          ]
        },
        "id": "ukKtEw7sRQ0b",
        "outputId": "67530a3d-215a-4b8b-adab-e9ce2aa238ad"
      },
      "outputs": [
        {
          "data": {
            "application/vnd.jupyter.widget-view+json": {
              "model_id": "964c71a12c9b451b9df4fb7366ac7924",
              "version_major": 2,
              "version_minor": 0
            },
            "text/plain": [
              "  0%|          | 0/15917 [00:00<?, ?it/s]"
            ]
          },
          "metadata": {},
          "output_type": "display_data"
        },
        {
          "name": "stdout",
          "output_type": "stream",
          "text": [
            "Наивысший показатель F1 = 0.732, при смещении порога до значения 0.34\n"
          ]
        }
      ],
      "source": [
        "# тестирование SentanceTranformer на Logistic Regression + смещение порога классификации (2:20 minutes)\n",
        "proba_valid = LogRer_emb.predict_proba(X_valid_emb)\n",
        "precision, recall, thresholds = precision_recall_curve(Y_valid_emb, proba_valid[:, 1])\n",
        "\n",
        "best_f1 = 0\n",
        "for threshold in tqdm(thresholds):\n",
        "    prediction_valid = proba_valid[:, 1] > threshold\n",
        "    f1 = f1_score(Y_valid_emb, prediction_valid)\n",
        "    if best_f1 < f1:\n",
        "        best_f1 = f1\n",
        "        best_threshold = threshold\n",
        "\n",
        "print(\"Наивысший показатель F1 = {:.3f}, при смещении порога до значения {:.2f}\".format(best_f1, best_threshold))"
      ]
    },
    {
      "cell_type": "code",
      "execution_count": 40,
      "metadata": {
        "colab": {
          "base_uri": "https://localhost:8080/",
          "height": 66,
          "referenced_widgets": [
            "a2096f5855b2406d9188fab4dcf4de16",
            "914ae68d767844409b8c8b48c9a99b7c",
            "1c94b9b1a7384c9486fe04457a483827",
            "802990d5617b40c9a09a17ffbe043dd0",
            "d1b4c0edfb754fe4a7006eec5f881fda",
            "fad4f2925fd24bc8996db7ff4f7e2744",
            "44d038a955d948018ce147e019a06182",
            "9e1ce26aefc44a8c847051b7f12ed8d7",
            "5c3146c7b11a4f3b995b9cbcefef89dd",
            "4331ba267a4e4fac81e5f2b7bb6bc639",
            "bbcd026e20194a25a9cd6a9ca617f49f"
          ]
        },
        "id": "mdTBIADNTJv2",
        "outputId": "046c4b19-2e35-4c03-a9ef-d692261d0653"
      },
      "outputs": [
        {
          "data": {
            "application/vnd.jupyter.widget-view+json": {
              "model_id": "a2096f5855b2406d9188fab4dcf4de16",
              "version_major": 2,
              "version_minor": 0
            },
            "text/plain": [
              "  0%|          | 0/10999 [00:00<?, ?it/s]"
            ]
          },
          "metadata": {},
          "output_type": "display_data"
        },
        {
          "name": "stdout",
          "output_type": "stream",
          "text": [
            "Наивысший показатель F1 = 0.755, при смещении порога до значения 0.34\n"
          ]
        }
      ],
      "source": [
        "# CatBoost TF-IDF + смещение порога классификации (1 minutes)\n",
        "proba_valid = CatBoost_tfidf.predict_proba(X_valid_tfidf)\n",
        "precision, recall, thresholds = precision_recall_curve(Y_valid_tfidf, proba_valid[:, 1])\n",
        "\n",
        "best_f1 = 0\n",
        "for threshold in tqdm(thresholds):\n",
        "    prediction_valid = proba_valid[:, 1] > threshold\n",
        "    f1 = f1_score(Y_valid_tfidf, prediction_valid)\n",
        "    if best_f1 < f1:\n",
        "        best_f1 = f1\n",
        "        best_threshold = threshold\n",
        "\n",
        "print(\"Наивысший показатель F1 = {:.3f}, при смещении порога до значения {:.2f}\".format(best_f1, best_threshold))"
      ]
    },
    {
      "cell_type": "code",
      "execution_count": 41,
      "metadata": {
        "colab": {
          "base_uri": "https://localhost:8080/",
          "height": 66,
          "referenced_widgets": [
            "638503e578a446d59cf73e252475b7e4",
            "67c26fd82202497e841465579eb592b3",
            "8679128f1cf74af28e86a1943af9e61d",
            "56965969dcd441c0b7e8a3170490d5f9",
            "6133abb22fff486ea3b45dc1e7917b80",
            "3fe56e67ba634ba9b2b8a2c0f515ef3c",
            "f89f26d625594f47bb081dbc1df00e31",
            "7f27d77099ad45d09746bebcc22140b2",
            "4d24560933f0436cac3690fbecb6cd5e",
            "04373177e9a24be19bc8523b32579a33",
            "269c19a7f30c4670a4c7c961611a8118"
          ]
        },
        "id": "qqvM1P9zRVWI",
        "outputId": "82778a8c-de1f-49f6-e027-c3172dd78d8a"
      },
      "outputs": [
        {
          "data": {
            "application/vnd.jupyter.widget-view+json": {
              "model_id": "638503e578a446d59cf73e252475b7e4",
              "version_major": 2,
              "version_minor": 0
            },
            "text/plain": [
              "  0%|          | 0/15923 [00:00<?, ?it/s]"
            ]
          },
          "metadata": {},
          "output_type": "display_data"
        },
        {
          "name": "stdout",
          "output_type": "stream",
          "text": [
            "Наивысший показатель F1 = 0.739, при смещении порога до значения 0.32\n"
          ]
        }
      ],
      "source": [
        "# CatBoost SentanceTransformer + смещение порога классификации (2 minutes)\n",
        "proba_valid = CatBoost_cpu_emb.predict_proba(X_valid_emb)\n",
        "precision, recall, thresholds = precision_recall_curve(Y_valid_emb, proba_valid[:, 1])\n",
        "\n",
        "best_f1 = 0\n",
        "for threshold in tqdm(thresholds):\n",
        "    prediction_valid = proba_valid[:, 1] > threshold\n",
        "    f1 = f1_score(Y_valid_emb, prediction_valid)\n",
        "    if best_f1 < f1:\n",
        "        best_f1 = f1\n",
        "        best_threshold = threshold\n",
        "\n",
        "print(\"Наивысший показатель F1 = {:.3f}, при смещении порога до значения {:.2f}\".format(best_f1, best_threshold))"
      ]
    },
    {
      "cell_type": "markdown",
      "metadata": {
        "id": "RjIateRyMF_P"
      },
      "source": [
        "Смещение порога классификации однозначно помогает учесть дисбаланс и повысить численность верно классифицированных объектов."
      ]
    },
    {
      "cell_type": "markdown",
      "metadata": {
        "id": "PgOlJvlEFl0y"
      },
      "source": [
        "<a id='section_5C'></a>\n",
        "### Уменьшение выборки (DownSampling)"
      ]
    },
    {
      "cell_type": "markdown",
      "metadata": {
        "id": "x0uoDkp2OjWv"
      },
      "source": [
        "Поскольку исходный  датасет содержит большое количество объектов (160 тыс.), есть возможность воспользоваться этим, чтобы уменьшить многочисленный класс и воссоздать баланс."
      ]
    },
    {
      "cell_type": "code",
      "execution_count": 42,
      "metadata": {
        "id": "nY_tYuf2FlU0"
      },
      "outputs": [],
      "source": [
        "# деление признаков по классам\n",
        "target_1   = Y_train_tfidf[Y_train_tfidf == 1]\n",
        "target_0   = Y_train_tfidf[Y_train_tfidf == 0]\n",
        "features_1 = df.loc[target_1.index, 'lemm_text']\n",
        "features_0 = df.loc[target_0.index, 'lemm_text']\n",
        "\n",
        "# уменьшение выборки многочисленного класса\n",
        "Y_downsampled = pd.concat([target_0.sample(frac=(1/9),   random_state=RANDOM_STATE)] + [target_1])\n",
        "X_downsampled = pd.concat([features_0.sample(frac=(1/9), random_state=RANDOM_STATE)] + [features_1])\n",
        "X_downsampled = count_tf_idf.transform(X_downsampled)"
      ]
    },
    {
      "cell_type": "code",
      "execution_count": 43,
      "metadata": {
        "colab": {
          "base_uri": "https://localhost:8080/"
        },
        "id": "D9XSoUO4kJPI",
        "outputId": "24d89444-7d88-42df-bf39-be88790d723e"
      },
      "outputs": [
        {
          "name": "stdout",
          "output_type": "stream",
          "text": [
            "F1 = 0.697\n",
            "Recall = 0.870\n",
            "Precision = 0.582\n"
          ]
        }
      ],
      "source": [
        "# тестирование TF-IDF на Logistic Regression\n",
        "LogRer_tfidf_sd = LogisticRegression(solver = 'sag', random_state = RANDOM_STATE)\n",
        "LogRer_tfidf_sd.fit(X_downsampled, Y_downsampled)\n",
        "prediction_valid = LogRer_tfidf_sd.predict(X_valid_tfidf)\n",
        "proba_valid = LogRer_tfidf_sd.predict_proba(X_valid_tfidf)\n",
        "precision, recall, thresholds = precision_recall_curve(Y_valid_tfidf, proba_valid[:, 1])\n",
        "\n",
        "# метрики\n",
        "print('F1 = {:.3f}'.format(f1_score(Y_valid_tfidf, prediction_valid)))\n",
        "print('Recall = {:.3f}'.format(recall_score(Y_valid_tfidf, prediction_valid)))\n",
        "print('Precision = {:.3f}'.format(precision_score(Y_valid_tfidf, prediction_valid)))"
      ]
    },
    {
      "cell_type": "code",
      "execution_count": 44,
      "metadata": {
        "colab": {
          "base_uri": "https://localhost:8080/"
        },
        "id": "S_AQV3ySbjmE",
        "outputId": "31c8829f-dfba-40e3-bd08-bc57bd6a8149"
      },
      "outputs": [
        {
          "name": "stdout",
          "output_type": "stream",
          "text": [
            "Learning rate set to 0.041186\n",
            "0:\tlearn: 0.5098735\ttotal: 1.05s\tremaining: 17m 34s\n",
            "100:\tlearn: 0.7992996\ttotal: 1m\tremaining: 9m 2s\n",
            "200:\tlearn: 0.8385563\ttotal: 1m 55s\tremaining: 7m 40s\n",
            "300:\tlearn: 0.8615111\ttotal: 2m 51s\tremaining: 6m 38s\n",
            "400:\tlearn: 0.8765783\ttotal: 3m 46s\tremaining: 5m 37s\n",
            "500:\tlearn: 0.8893765\ttotal: 4m 40s\tremaining: 4m 39s\n",
            "600:\tlearn: 0.8996713\ttotal: 5m 35s\tremaining: 3m 42s\n",
            "700:\tlearn: 0.9068105\ttotal: 6m 28s\tremaining: 2m 45s\n",
            "800:\tlearn: 0.9135351\ttotal: 7m 23s\tremaining: 1m 50s\n",
            "900:\tlearn: 0.9180620\ttotal: 8m 18s\tremaining: 54.8s\n",
            "999:\tlearn: 0.9231702\ttotal: 9m 10s\tremaining: 0us\n"
          ]
        },
        {
          "data": {
            "text/plain": [
              "<catboost.core.CatBoostClassifier at 0x798b16b619c0>"
            ]
          },
          "execution_count": 44,
          "metadata": {},
          "output_type": "execute_result"
        }
      ],
      "source": [
        "# обучение CatBoost на ресемплированных фичах TF-IDF\n",
        "CatBoost_tfidf_sd = CatBoostClassifier(verbose = 100, eval_metric = 'F1', early_stopping_rounds = 200)\n",
        "CatBoost_tfidf_sd.fit(X_downsampled, Y_downsampled)"
      ]
    },
    {
      "cell_type": "code",
      "execution_count": 45,
      "metadata": {
        "colab": {
          "base_uri": "https://localhost:8080/"
        },
        "id": "afWbc4l6kJPT",
        "outputId": "2a73631b-e0f2-4844-fd85-95884071c4d7"
      },
      "outputs": [
        {
          "name": "stdout",
          "output_type": "stream",
          "text": [
            "F1 = 0.750\n",
            "Recall = 0.684\n",
            "Precision = 0.832\n"
          ]
        }
      ],
      "source": [
        "# тестирование TF-IDF на CatBoost (CPU)\n",
        "prediction_valid = CatBoost_tfidf.predict(X_valid_tfidf)\n",
        "proba_valid = CatBoost_tfidf.predict_proba(X_valid_tfidf)\n",
        "\n",
        "# метрики\n",
        "print('F1 = {:.3f}'.format(f1_score(Y_valid_tfidf, prediction_valid)))\n",
        "print('Recall = {:.3f}'.format(recall_score(Y_valid_tfidf, prediction_valid)))\n",
        "print('Precision = {:.3f}'.format(precision_score(Y_valid_tfidf, prediction_valid)))"
      ]
    },
    {
      "cell_type": "markdown",
      "metadata": {
        "id": "iWKQp1yQPDjD"
      },
      "source": [
        "Уменьшение выборки не позволило повысить значения рассматриваемых метрик, и фактически результат искусственный, поскольку игнорирует действительность.\n",
        "___"
      ]
    },
    {
      "cell_type": "markdown",
      "metadata": {
        "id": "09cqiXhw03EA"
      },
      "source": [
        "<a id='section_6'></a>\n",
        "## Итоговое тестирование"
      ]
    },
    {
      "cell_type": "code",
      "execution_count": 46,
      "metadata": {
        "colab": {
          "base_uri": "https://localhost:8080/",
          "height": 616
        },
        "id": "imE6abOXgbe0",
        "outputId": "23a43980-0a86-4818-ffb0-99c45248047a"
      },
      "outputs": [
        {
          "data": {
            "image/png": "[encoded data removed]",
            "text/plain": [
              "<Figure size 700x600 with 1 Axes>"
            ]
          },
          "metadata": {},
          "output_type": "display_data"
        },
        {
          "name": "stdout",
          "output_type": "stream",
          "text": [
            "F1 = 0.774\n",
            "Recall = 0.771\n",
            "Precision = 0.777\n"
          ]
        }
      ],
      "source": [
        "# финальный тест TF-IDF на Logistic Regression + смещение порога классификации\n",
        "proba_test = LogRer_tfidf.predict_proba(X_test_tfidf)\n",
        "prediction_test = proba_test[:, 1] > 0.25\n",
        "precision, recall, thresholds = precision_recall_curve(Y_valid_tfidf, proba_valid[:, 1])\n",
        "\n",
        "# PR-кривая\n",
        "plt.figure(figsize=FIG_SIZE)\n",
        "plt.plot(recall, precision)\n",
        "plt.title('PR-кривая')\n",
        "plt.xlabel('Recall')\n",
        "plt.ylabel('Precision')\n",
        "plt.grid()\n",
        "plt.show()\n",
        "\n",
        "# метрики\n",
        "print('F1 = {:.3f}'.format(f1_score(Y_test_tfidf, prediction_test)))\n",
        "print('Recall = {:.3f}'.format(recall_score(Y_test_tfidf, prediction_test)))\n",
        "print('Precision = {:.3f}'.format(precision_score(Y_test_tfidf, prediction_test)))"
      ]
    },
    {
      "cell_type": "code",
      "execution_count": 47,
      "metadata": {
        "colab": {
          "base_uri": "https://localhost:8080/",
          "height": 616
        },
        "id": "pQSnx_bnQpow",
        "outputId": "b467756d-4ee1-44fa-a39b-ed010cfd9e06"
      },
      "outputs": [
        {
          "data": {
            "image/png": "[encoded data removed]",
            "text/plain": [
              "<Figure size 700x600 with 1 Axes>"
            ]
          },
          "metadata": {},
          "output_type": "display_data"
        },
        {
          "name": "stdout",
          "output_type": "stream",
          "text": [
            "F1 = 0.757\n",
            "Recall = 0.692\n",
            "Precision = 0.835\n"
          ]
        }
      ],
      "source": [
        "# финальный тест TF-IDF на CatBoost + смещение порога классификации\n",
        "proba_test = CatBoost_tfidf.predict_proba(X_test_tfidf)\n",
        "prediction_test = proba_test[:, 1] > 0.49\n",
        "precision, recall, thresholds = precision_recall_curve(Y_valid_tfidf, proba_valid[:, 1])\n",
        "\n",
        "# PR-кривая\n",
        "plt.figure(figsize=FIG_SIZE)\n",
        "plt.plot(recall, precision)\n",
        "plt.title('PR-кривая')\n",
        "plt.xlabel('Recall')\n",
        "plt.ylabel('Precision')\n",
        "plt.grid()\n",
        "plt.show()\n",
        "\n",
        "# метрики\n",
        "print('F1 = {:.3f}'.format(f1_score(Y_test_tfidf, prediction_test)))\n",
        "print('Recall = {:.3f}'.format(recall_score(Y_test_tfidf, prediction_test)))\n",
        "print('Precision = {:.3f}'.format(precision_score(Y_test_tfidf, prediction_test)))"
      ]
    },
    {
      "cell_type": "markdown",
      "metadata": {
        "id": "Wlqudol1mkq8"
      },
      "source": [
        "**Выводы**\n",
        "\n",
        "Можно выделить основные критерии оценки модели:\n",
        "- Время и ресурсы кодирование текста\n",
        "- Время и ресурсы обучения модели\n",
        "- Время предсказания\n",
        "- Итоговое значение метрики\n",
        "\n",
        "**Логистическая регрессия в кооперативе с TF-IDF векторизатором** являются наилучшим результатом (_F1 =  0.77_), поскольку подготовка и кодирование занимает около 25 минут, обучение регрессии (20 секунд), предсказание - мгновенное. Для работы такой пары не требуется GPU в качестве аппаратного ускорителя. Итоговое значение метрики F1 выше у Логистической регрессии, и в добавок метрики более _сбалансированны_, если посмотреть на значения Recall и Precision.\n",
        "\n",
        "Модель **CatBoost** может выдать предсказания более высшего качества, но для этого требуется более кропотливая настройка её гиперпараметров и дополнительное время работы. Процесс сильно зависим от технических мощностей компьютера/сервера."
      ]
    }
  ],
  "metadata": {
    "accelerator": "GPU",
    "colab": {
      "collapsed_sections": [
        "XM8wNiE903D3",
        "-TKA7ipV03D6"
      ],
      "gpuType": "T4",
      "provenance": []
    },
    "kernelspec": {
      "display_name": "Python 3",
      "language": "python",
      "name": "python3"
    },
    "language_info": {
      "codemirror_mode": {
        "name": "ipython",
        "version": 3
      },
      "file_extension": ".py",
      "mimetype": "text/x-python",
      "name": "python",
      "nbconvert_exporter": "python",
      "pygments_lexer": "ipython3",
      "version": "3.8.8"
    },
    "toc": {
      "base_numbering": 1,
      "nav_menu": {},
      "number_sections": true,
      "sideBar": true,
      "skip_h1_title": true,
      "title_cell": "Содержание",
      "title_sidebar": "Contents",
      "toc_cell": true,
      "toc_position": {
        "height": "calc(100% - 180px)",
        "left": "10px",
        "top": "150px",
        "width": "302.391px"
      },
      "toc_section_display": true,
      "toc_window_display": false
    },
    "widgets": {
      "application/vnd.jupyter.widget-state+json": {
        "020c52efbf1643aaa5b25cf601ba3e3e": {
          "model_module": "@jupyter-widgets/controls",
          "model_module_version": "1.5.0",
          "model_name": "DescriptionStyleModel",
          "state": {
            "_model_module": "@jupyter-widgets/controls",
            "_model_module_version": "1.5.0",
            "_model_name": "DescriptionStyleModel",
            "_view_count": null,
            "_view_module": "@jupyter-widgets/base",
            "_view_module_version": "1.2.0",
            "_view_name": "StyleView",
            "description_width": ""
          }
        },
        "04373177e9a24be19bc8523b32579a33": {
          "model_module": "@jupyter-widgets/base",
          "model_module_version": "1.2.0",
          "model_name": "LayoutModel",
          "state": {
            "_model_module": "@jupyter-widgets/base",
            "_model_module_version": "1.2.0",
            "_model_name": "LayoutModel",
            "_view_count": null,
            "_view_module": "@jupyter-widgets/base",
            "_view_module_version": "1.2.0",
            "_view_name": "LayoutView",
            "align_content": null,
            "align_items": null,
            "align_self": null,
            "border": null,
            "bottom": null,
            "display": null,
            "flex": null,
            "flex_flow": null,
            "grid_area": null,
            "grid_auto_columns": null,
            "grid_auto_flow": null,
            "grid_auto_rows": null,
            "grid_column": null,
            "grid_gap": null,
            "grid_row": null,
            "grid_template_areas": null,
            "grid_template_columns": null,
            "grid_template_rows": null,
            "height": null,
            "justify_content": null,
            "justify_items": null,
            "left": null,
            "margin": null,
            "max_height": null,
            "max_width": null,
            "min_height": null,
            "min_width": null,
            "object_fit": null,
            "object_position": null,
            "order": null,
            "overflow": null,
            "overflow_x": null,
            "overflow_y": null,
            "padding": null,
            "right": null,
            "top": null,
            "visibility": null,
            "width": null
          }
        },
        "122a192bb5164888a179a630088733c8": {
          "model_module": "@jupyter-widgets/controls",
          "model_module_version": "1.5.0",
          "model_name": "DescriptionStyleModel",
          "state": {
            "_model_module": "@jupyter-widgets/controls",
            "_model_module_version": "1.5.0",
            "_model_name": "DescriptionStyleModel",
            "_view_count": null,
            "_view_module": "@jupyter-widgets/base",
            "_view_module_version": "1.2.0",
            "_view_name": "StyleView",
            "description_width": ""
          }
        },
        "15f5dba3e1094f178164ae9032529530": {
          "model_module": "@jupyter-widgets/controls",
          "model_module_version": "1.5.0",
          "model_name": "ProgressStyleModel",
          "state": {
            "_model_module": "@jupyter-widgets/controls",
            "_model_module_version": "1.5.0",
            "_model_name": "ProgressStyleModel",
            "_view_count": null,
            "_view_module": "@jupyter-widgets/base",
            "_view_module_version": "1.2.0",
            "_view_name": "StyleView",
            "bar_color": null,
            "description_width": ""
          }
        },
        "1c94b9b1a7384c9486fe04457a483827": {
          "model_module": "@jupyter-widgets/controls",
          "model_module_version": "1.5.0",
          "model_name": "FloatProgressModel",
          "state": {
            "_dom_classes": [],
            "_model_module": "@jupyter-widgets/controls",
            "_model_module_version": "1.5.0",
            "_model_name": "FloatProgressModel",
            "_view_count": null,
            "_view_module": "@jupyter-widgets/controls",
            "_view_module_version": "1.5.0",
            "_view_name": "ProgressView",
            "bar_style": "success",
            "description": "",
            "description_tooltip": null,
            "layout": "IPY_MODEL_9e1ce26aefc44a8c847051b7f12ed8d7",
            "max": 10999,
            "min": 0,
            "orientation": "horizontal",
            "style": "IPY_MODEL_5c3146c7b11a4f3b995b9cbcefef89dd",
            "value": 10999
          }
        },
        "1d70c084cdad4433a245871d5c5617b3": {
          "model_module": "@jupyter-widgets/base",
          "model_module_version": "1.2.0",
          "model_name": "LayoutModel",
          "state": {
            "_model_module": "@jupyter-widgets/base",
            "_model_module_version": "1.2.0",
            "_model_name": "LayoutModel",
            "_view_count": null,
            "_view_module": "@jupyter-widgets/base",
            "_view_module_version": "1.2.0",
            "_view_name": "LayoutView",
            "align_content": null,
            "align_items": null,
            "align_self": null,
            "border": null,
            "bottom": null,
            "display": null,
            "flex": null,
            "flex_flow": null,
            "grid_area": null,
            "grid_auto_columns": null,
            "grid_auto_flow": null,
            "grid_auto_rows": null,
            "grid_column": null,
            "grid_gap": null,
            "grid_row": null,
            "grid_template_areas": null,
            "grid_template_columns": null,
            "grid_template_rows": null,
            "height": null,
            "justify_content": null,
            "justify_items": null,
            "left": null,
            "margin": null,
            "max_height": null,
            "max_width": null,
            "min_height": null,
            "min_width": null,
            "object_fit": null,
            "object_position": null,
            "order": null,
            "overflow": null,
            "overflow_x": null,
            "overflow_y": null,
            "padding": null,
            "right": null,
            "top": null,
            "visibility": null,
            "width": null
          }
        },
        "2037a78270d2460c97bf97abcf02f4aa": {
          "model_module": "@jupyter-widgets/controls",
          "model_module_version": "1.5.0",
          "model_name": "DescriptionStyleModel",
          "state": {
            "_model_module": "@jupyter-widgets/controls",
            "_model_module_version": "1.5.0",
            "_model_name": "DescriptionStyleModel",
            "_view_count": null,
            "_view_module": "@jupyter-widgets/base",
            "_view_module_version": "1.2.0",
            "_view_name": "StyleView",
            "description_width": ""
          }
        },
        "20578416ef234fe2a279cb5bb2564b44": {
          "model_module": "@jupyter-widgets/controls",
          "model_module_version": "1.5.0",
          "model_name": "DescriptionStyleModel",
          "state": {
            "_model_module": "@jupyter-widgets/controls",
            "_model_module_version": "1.5.0",
            "_model_name": "DescriptionStyleModel",
            "_view_count": null,
            "_view_module": "@jupyter-widgets/base",
            "_view_module_version": "1.2.0",
            "_view_name": "StyleView",
            "description_width": ""
          }
        },
        "269c19a7f30c4670a4c7c961611a8118": {
          "model_module": "@jupyter-widgets/controls",
          "model_module_version": "1.5.0",
          "model_name": "DescriptionStyleModel",
          "state": {
            "_model_module": "@jupyter-widgets/controls",
            "_model_module_version": "1.5.0",
            "_model_name": "DescriptionStyleModel",
            "_view_count": null,
            "_view_module": "@jupyter-widgets/base",
            "_view_module_version": "1.2.0",
            "_view_name": "StyleView",
            "description_width": ""
          }
        },
        "2f3ee8da99724f2f8845fd5ecdfe680f": {
          "model_module": "@jupyter-widgets/controls",
          "model_module_version": "1.5.0",
          "model_name": "FloatProgressModel",
          "state": {
            "_dom_classes": [],
            "_model_module": "@jupyter-widgets/controls",
            "_model_module_version": "1.5.0",
            "_model_name": "FloatProgressModel",
            "_view_count": null,
            "_view_module": "@jupyter-widgets/controls",
            "_view_module_version": "1.5.0",
            "_view_name": "ProgressView",
            "bar_style": "success",
            "description": "",
            "description_tooltip": null,
            "layout": "IPY_MODEL_61cc6664c06144308bc399fa5e6cede8",
            "max": 159292,
            "min": 0,
            "orientation": "horizontal",
            "style": "IPY_MODEL_15f5dba3e1094f178164ae9032529530",
            "value": 159292
          }
        },
        "3c95038355a5418caacbff4534193451": {
          "model_module": "@jupyter-widgets/base",
          "model_module_version": "1.2.0",
          "model_name": "LayoutModel",
          "state": {
            "_model_module": "@jupyter-widgets/base",
            "_model_module_version": "1.2.0",
            "_model_name": "LayoutModel",
            "_view_count": null,
            "_view_module": "@jupyter-widgets/base",
            "_view_module_version": "1.2.0",
            "_view_name": "LayoutView",
            "align_content": null,
            "align_items": null,
            "align_self": null,
            "border": null,
            "bottom": null,
            "display": null,
            "flex": null,
            "flex_flow": null,
            "grid_area": null,
            "grid_auto_columns": null,
            "grid_auto_flow": null,
            "grid_auto_rows": null,
            "grid_column": null,
            "grid_gap": null,
            "grid_row": null,
            "grid_template_areas": null,
            "grid_template_columns": null,
            "grid_template_rows": null,
            "height": null,
            "justify_content": null,
            "justify_items": null,
            "left": null,
            "margin": null,
            "max_height": null,
            "max_width": null,
            "min_height": null,
            "min_width": null,
            "object_fit": null,
            "object_position": null,
            "order": null,
            "overflow": null,
            "overflow_x": null,
            "overflow_y": null,
            "padding": null,
            "right": null,
            "top": null,
            "visibility": null,
            "width": null
          }
        },
        "3fe56e67ba634ba9b2b8a2c0f515ef3c": {
          "model_module": "@jupyter-widgets/base",
          "model_module_version": "1.2.0",
          "model_name": "LayoutModel",
          "state": {
            "_model_module": "@jupyter-widgets/base",
            "_model_module_version": "1.2.0",
            "_model_name": "LayoutModel",
            "_view_count": null,
            "_view_module": "@jupyter-widgets/base",
            "_view_module_version": "1.2.0",
            "_view_name": "LayoutView",
            "align_content": null,
            "align_items": null,
            "align_self": null,
            "border": null,
            "bottom": null,
            "display": null,
            "flex": null,
            "flex_flow": null,
            "grid_area": null,
            "grid_auto_columns": null,
            "grid_auto_flow": null,
            "grid_auto_rows": null,
            "grid_column": null,
            "grid_gap": null,
            "grid_row": null,
            "grid_template_areas": null,
            "grid_template_columns": null,
            "grid_template_rows": null,
            "height": null,
            "justify_content": null,
            "justify_items": null,
            "left": null,
            "margin": null,
            "max_height": null,
            "max_width": null,
            "min_height": null,
            "min_width": null,
            "object_fit": null,
            "object_position": null,
            "order": null,
            "overflow": null,
            "overflow_x": null,
            "overflow_y": null,
            "padding": null,
            "right": null,
            "top": null,
            "visibility": null,
            "width": null
          }
        },
        "4331ba267a4e4fac81e5f2b7bb6bc639": {
          "model_module": "@jupyter-widgets/base",
          "model_module_version": "1.2.0",
          "model_name": "LayoutModel",
          "state": {
            "_model_module": "@jupyter-widgets/base",
            "_model_module_version": "1.2.0",
            "_model_name": "LayoutModel",
            "_view_count": null,
            "_view_module": "@jupyter-widgets/base",
            "_view_module_version": "1.2.0",
            "_view_name": "LayoutView",
            "align_content": null,
            "align_items": null,
            "align_self": null,
            "border": null,
            "bottom": null,
            "display": null,
            "flex": null,
            "flex_flow": null,
            "grid_area": null,
            "grid_auto_columns": null,
            "grid_auto_flow": null,
            "grid_auto_rows": null,
            "grid_column": null,
            "grid_gap": null,
            "grid_row": null,
            "grid_template_areas": null,
            "grid_template_columns": null,
            "grid_template_rows": null,
            "height": null,
            "justify_content": null,
            "justify_items": null,
            "left": null,
            "margin": null,
            "max_height": null,
            "max_width": null,
            "min_height": null,
            "min_width": null,
            "object_fit": null,
            "object_position": null,
            "order": null,
            "overflow": null,
            "overflow_x": null,
            "overflow_y": null,
            "padding": null,
            "right": null,
            "top": null,
            "visibility": null,
            "width": null
          }
        },
        "4336bdb944b74f1cbd0a6d5150e74ed2": {
          "model_module": "@jupyter-widgets/controls",
          "model_module_version": "1.5.0",
          "model_name": "HBoxModel",
          "state": {
            "_dom_classes": [],
            "_model_module": "@jupyter-widgets/controls",
            "_model_module_version": "1.5.0",
            "_model_name": "HBoxModel",
            "_view_count": null,
            "_view_module": "@jupyter-widgets/controls",
            "_view_module_version": "1.5.0",
            "_view_name": "HBoxView",
            "box_style": "",
            "children": [
              "IPY_MODEL_82e5fee8b9244d79998a0cd7e2f9181e",
              "IPY_MODEL_f754d94498f040669b4f03446a6f092b",
              "IPY_MODEL_de6d21bfc309409d8bd7a99de0a9ed6c"
            ],
            "layout": "IPY_MODEL_df2506c4de80437eb909e9f24c503ed3"
          }
        },
        "44d038a955d948018ce147e019a06182": {
          "model_module": "@jupyter-widgets/controls",
          "model_module_version": "1.5.0",
          "model_name": "DescriptionStyleModel",
          "state": {
            "_model_module": "@jupyter-widgets/controls",
            "_model_module_version": "1.5.0",
            "_model_name": "DescriptionStyleModel",
            "_view_count": null,
            "_view_module": "@jupyter-widgets/base",
            "_view_module_version": "1.2.0",
            "_view_name": "StyleView",
            "description_width": ""
          }
        },
        "46f75b5d759e4b34b2cfa8a125ba8e45": {
          "model_module": "@jupyter-widgets/base",
          "model_module_version": "1.2.0",
          "model_name": "LayoutModel",
          "state": {
            "_model_module": "@jupyter-widgets/base",
            "_model_module_version": "1.2.0",
            "_model_name": "LayoutModel",
            "_view_count": null,
            "_view_module": "@jupyter-widgets/base",
            "_view_module_version": "1.2.0",
            "_view_name": "LayoutView",
            "align_content": null,
            "align_items": null,
            "align_self": null,
            "border": null,
            "bottom": null,
            "display": null,
            "flex": null,
            "flex_flow": null,
            "grid_area": null,
            "grid_auto_columns": null,
            "grid_auto_flow": null,
            "grid_auto_rows": null,
            "grid_column": null,
            "grid_gap": null,
            "grid_row": null,
            "grid_template_areas": null,
            "grid_template_columns": null,
            "grid_template_rows": null,
            "height": null,
            "justify_content": null,
            "justify_items": null,
            "left": null,
            "margin": null,
            "max_height": null,
            "max_width": null,
            "min_height": null,
            "min_width": null,
            "object_fit": null,
            "object_position": null,
            "order": null,
            "overflow": null,
            "overflow_x": null,
            "overflow_y": null,
            "padding": null,
            "right": null,
            "top": null,
            "visibility": null,
            "width": null
          }
        },
        "4adfb2d0689b471b8f8360dab569a1db": {
          "model_module": "@jupyter-widgets/controls",
          "model_module_version": "1.5.0",
          "model_name": "DescriptionStyleModel",
          "state": {
            "_model_module": "@jupyter-widgets/controls",
            "_model_module_version": "1.5.0",
            "_model_name": "DescriptionStyleModel",
            "_view_count": null,
            "_view_module": "@jupyter-widgets/base",
            "_view_module_version": "1.2.0",
            "_view_name": "StyleView",
            "description_width": ""
          }
        },
        "4b7975bcf6454ed5aae6dc9453c92b12": {
          "model_module": "@jupyter-widgets/controls",
          "model_module_version": "1.5.0",
          "model_name": "ProgressStyleModel",
          "state": {
            "_model_module": "@jupyter-widgets/controls",
            "_model_module_version": "1.5.0",
            "_model_name": "ProgressStyleModel",
            "_view_count": null,
            "_view_module": "@jupyter-widgets/base",
            "_view_module_version": "1.2.0",
            "_view_name": "StyleView",
            "bar_color": null,
            "description_width": ""
          }
        },
        "4d24560933f0436cac3690fbecb6cd5e": {
          "model_module": "@jupyter-widgets/controls",
          "model_module_version": "1.5.0",
          "model_name": "ProgressStyleModel",
          "state": {
            "_model_module": "@jupyter-widgets/controls",
            "_model_module_version": "1.5.0",
            "_model_name": "ProgressStyleModel",
            "_view_count": null,
            "_view_module": "@jupyter-widgets/base",
            "_view_module_version": "1.2.0",
            "_view_name": "StyleView",
            "bar_color": null,
            "description_width": ""
          }
        },
        "56965969dcd441c0b7e8a3170490d5f9": {
          "model_module": "@jupyter-widgets/controls",
          "model_module_version": "1.5.0",
          "model_name": "HTMLModel",
          "state": {
            "_dom_classes": [],
            "_model_module": "@jupyter-widgets/controls",
            "_model_module_version": "1.5.0",
            "_model_name": "HTMLModel",
            "_view_count": null,
            "_view_module": "@jupyter-widgets/controls",
            "_view_module_version": "1.5.0",
            "_view_name": "HTMLView",
            "description": "",
            "description_tooltip": null,
            "layout": "IPY_MODEL_04373177e9a24be19bc8523b32579a33",
            "placeholder": "​",
            "style": "IPY_MODEL_269c19a7f30c4670a4c7c961611a8118",
            "value": " 15923/15923 [02:02&lt;00:00, 190.98it/s]"
          }
        },
        "5739e20828284ab6b7dc608b52ec4c6a": {
          "model_module": "@jupyter-widgets/controls",
          "model_module_version": "1.5.0",
          "model_name": "DescriptionStyleModel",
          "state": {
            "_model_module": "@jupyter-widgets/controls",
            "_model_module_version": "1.5.0",
            "_model_name": "DescriptionStyleModel",
            "_view_count": null,
            "_view_module": "@jupyter-widgets/base",
            "_view_module_version": "1.2.0",
            "_view_name": "StyleView",
            "description_width": ""
          }
        },
        "5c3146c7b11a4f3b995b9cbcefef89dd": {
          "model_module": "@jupyter-widgets/controls",
          "model_module_version": "1.5.0",
          "model_name": "ProgressStyleModel",
          "state": {
            "_model_module": "@jupyter-widgets/controls",
            "_model_module_version": "1.5.0",
            "_model_name": "ProgressStyleModel",
            "_view_count": null,
            "_view_module": "@jupyter-widgets/base",
            "_view_module_version": "1.2.0",
            "_view_name": "StyleView",
            "bar_color": null,
            "description_width": ""
          }
        },
        "5dcbce49688d48299216757cb1423c5e": {
          "model_module": "@jupyter-widgets/base",
          "model_module_version": "1.2.0",
          "model_name": "LayoutModel",
          "state": {
            "_model_module": "@jupyter-widgets/base",
            "_model_module_version": "1.2.0",
            "_model_name": "LayoutModel",
            "_view_count": null,
            "_view_module": "@jupyter-widgets/base",
            "_view_module_version": "1.2.0",
            "_view_name": "LayoutView",
            "align_content": null,
            "align_items": null,
            "align_self": null,
            "border": null,
            "bottom": null,
            "display": null,
            "flex": null,
            "flex_flow": null,
            "grid_area": null,
            "grid_auto_columns": null,
            "grid_auto_flow": null,
            "grid_auto_rows": null,
            "grid_column": null,
            "grid_gap": null,
            "grid_row": null,
            "grid_template_areas": null,
            "grid_template_columns": null,
            "grid_template_rows": null,
            "height": null,
            "justify_content": null,
            "justify_items": null,
            "left": null,
            "margin": null,
            "max_height": null,
            "max_width": null,
            "min_height": null,
            "min_width": null,
            "object_fit": null,
            "object_position": null,
            "order": null,
            "overflow": null,
            "overflow_x": null,
            "overflow_y": null,
            "padding": null,
            "right": null,
            "top": null,
            "visibility": null,
            "width": null
          }
        },
        "6133abb22fff486ea3b45dc1e7917b80": {
          "model_module": "@jupyter-widgets/base",
          "model_module_version": "1.2.0",
          "model_name": "LayoutModel",
          "state": {
            "_model_module": "@jupyter-widgets/base",
            "_model_module_version": "1.2.0",
            "_model_name": "LayoutModel",
            "_view_count": null,
            "_view_module": "@jupyter-widgets/base",
            "_view_module_version": "1.2.0",
            "_view_name": "LayoutView",
            "align_content": null,
            "align_items": null,
            "align_self": null,
            "border": null,
            "bottom": null,
            "display": null,
            "flex": null,
            "flex_flow": null,
            "grid_area": null,
            "grid_auto_columns": null,
            "grid_auto_flow": null,
            "grid_auto_rows": null,
            "grid_column": null,
            "grid_gap": null,
            "grid_row": null,
            "grid_template_areas": null,
            "grid_template_columns": null,
            "grid_template_rows": null,
            "height": null,
            "justify_content": null,
            "justify_items": null,
            "left": null,
            "margin": null,
            "max_height": null,
            "max_width": null,
            "min_height": null,
            "min_width": null,
            "object_fit": null,
            "object_position": null,
            "order": null,
            "overflow": null,
            "overflow_x": null,
            "overflow_y": null,
            "padding": null,
            "right": null,
            "top": null,
            "visibility": null,
            "width": null
          }
        },
        "61cc6664c06144308bc399fa5e6cede8": {
          "model_module": "@jupyter-widgets/base",
          "model_module_version": "1.2.0",
          "model_name": "LayoutModel",
          "state": {
            "_model_module": "@jupyter-widgets/base",
            "_model_module_version": "1.2.0",
            "_model_name": "LayoutModel",
            "_view_count": null,
            "_view_module": "@jupyter-widgets/base",
            "_view_module_version": "1.2.0",
            "_view_name": "LayoutView",
            "align_content": null,
            "align_items": null,
            "align_self": null,
            "border": null,
            "bottom": null,
            "display": null,
            "flex": null,
            "flex_flow": null,
            "grid_area": null,
            "grid_auto_columns": null,
            "grid_auto_flow": null,
            "grid_auto_rows": null,
            "grid_column": null,
            "grid_gap": null,
            "grid_row": null,
            "grid_template_areas": null,
            "grid_template_columns": null,
            "grid_template_rows": null,
            "height": null,
            "justify_content": null,
            "justify_items": null,
            "left": null,
            "margin": null,
            "max_height": null,
            "max_width": null,
            "min_height": null,
            "min_width": null,
            "object_fit": null,
            "object_position": null,
            "order": null,
            "overflow": null,
            "overflow_x": null,
            "overflow_y": null,
            "padding": null,
            "right": null,
            "top": null,
            "visibility": null,
            "width": null
          }
        },
        "638503e578a446d59cf73e252475b7e4": {
          "model_module": "@jupyter-widgets/controls",
          "model_module_version": "1.5.0",
          "model_name": "HBoxModel",
          "state": {
            "_dom_classes": [],
            "_model_module": "@jupyter-widgets/controls",
            "_model_module_version": "1.5.0",
            "_model_name": "HBoxModel",
            "_view_count": null,
            "_view_module": "@jupyter-widgets/controls",
            "_view_module_version": "1.5.0",
            "_view_name": "HBoxView",
            "box_style": "",
            "children": [
              "IPY_MODEL_67c26fd82202497e841465579eb592b3",
              "IPY_MODEL_8679128f1cf74af28e86a1943af9e61d",
              "IPY_MODEL_56965969dcd441c0b7e8a3170490d5f9"
            ],
            "layout": "IPY_MODEL_6133abb22fff486ea3b45dc1e7917b80"
          }
        },
        "67c26fd82202497e841465579eb592b3": {
          "model_module": "@jupyter-widgets/controls",
          "model_module_version": "1.5.0",
          "model_name": "HTMLModel",
          "state": {
            "_dom_classes": [],
            "_model_module": "@jupyter-widgets/controls",
            "_model_module_version": "1.5.0",
            "_model_name": "HTMLModel",
            "_view_count": null,
            "_view_module": "@jupyter-widgets/controls",
            "_view_module_version": "1.5.0",
            "_view_name": "HTMLView",
            "description": "",
            "description_tooltip": null,
            "layout": "IPY_MODEL_3fe56e67ba634ba9b2b8a2c0f515ef3c",
            "placeholder": "​",
            "style": "IPY_MODEL_f89f26d625594f47bb081dbc1df00e31",
            "value": "100%"
          }
        },
        "6d5282f27c6f4bf9858e08408b25ec51": {
          "model_module": "@jupyter-widgets/controls",
          "model_module_version": "1.5.0",
          "model_name": "HTMLModel",
          "state": {
            "_dom_classes": [],
            "_model_module": "@jupyter-widgets/controls",
            "_model_module_version": "1.5.0",
            "_model_name": "HTMLModel",
            "_view_count": null,
            "_view_module": "@jupyter-widgets/controls",
            "_view_module_version": "1.5.0",
            "_view_name": "HTMLView",
            "description": "",
            "description_tooltip": null,
            "layout": "IPY_MODEL_5dcbce49688d48299216757cb1423c5e",
            "placeholder": "​",
            "style": "IPY_MODEL_4adfb2d0689b471b8f8360dab569a1db",
            "value": "100%"
          }
        },
        "6ff31141cabf459692ec629ff1daf05a": {
          "model_module": "@jupyter-widgets/base",
          "model_module_version": "1.2.0",
          "model_name": "LayoutModel",
          "state": {
            "_model_module": "@jupyter-widgets/base",
            "_model_module_version": "1.2.0",
            "_model_name": "LayoutModel",
            "_view_count": null,
            "_view_module": "@jupyter-widgets/base",
            "_view_module_version": "1.2.0",
            "_view_name": "LayoutView",
            "align_content": null,
            "align_items": null,
            "align_self": null,
            "border": null,
            "bottom": null,
            "display": null,
            "flex": null,
            "flex_flow": null,
            "grid_area": null,
            "grid_auto_columns": null,
            "grid_auto_flow": null,
            "grid_auto_rows": null,
            "grid_column": null,
            "grid_gap": null,
            "grid_row": null,
            "grid_template_areas": null,
            "grid_template_columns": null,
            "grid_template_rows": null,
            "height": null,
            "justify_content": null,
            "justify_items": null,
            "left": null,
            "margin": null,
            "max_height": null,
            "max_width": null,
            "min_height": null,
            "min_width": null,
            "object_fit": null,
            "object_position": null,
            "order": null,
            "overflow": null,
            "overflow_x": null,
            "overflow_y": null,
            "padding": null,
            "right": null,
            "top": null,
            "visibility": null,
            "width": null
          }
        },
        "76d89dce8257477e9922b859b6004b2c": {
          "model_module": "@jupyter-widgets/base",
          "model_module_version": "1.2.0",
          "model_name": "LayoutModel",
          "state": {
            "_model_module": "@jupyter-widgets/base",
            "_model_module_version": "1.2.0",
            "_model_name": "LayoutModel",
            "_view_count": null,
            "_view_module": "@jupyter-widgets/base",
            "_view_module_version": "1.2.0",
            "_view_name": "LayoutView",
            "align_content": null,
            "align_items": null,
            "align_self": null,
            "border": null,
            "bottom": null,
            "display": null,
            "flex": null,
            "flex_flow": null,
            "grid_area": null,
            "grid_auto_columns": null,
            "grid_auto_flow": null,
            "grid_auto_rows": null,
            "grid_column": null,
            "grid_gap": null,
            "grid_row": null,
            "grid_template_areas": null,
            "grid_template_columns": null,
            "grid_template_rows": null,
            "height": null,
            "justify_content": null,
            "justify_items": null,
            "left": null,
            "margin": null,
            "max_height": null,
            "max_width": null,
            "min_height": null,
            "min_width": null,
            "object_fit": null,
            "object_position": null,
            "order": null,
            "overflow": null,
            "overflow_x": null,
            "overflow_y": null,
            "padding": null,
            "right": null,
            "top": null,
            "visibility": null,
            "width": null
          }
        },
        "7f27d77099ad45d09746bebcc22140b2": {
          "model_module": "@jupyter-widgets/base",
          "model_module_version": "1.2.0",
          "model_name": "LayoutModel",
          "state": {
            "_model_module": "@jupyter-widgets/base",
            "_model_module_version": "1.2.0",
            "_model_name": "LayoutModel",
            "_view_count": null,
            "_view_module": "@jupyter-widgets/base",
            "_view_module_version": "1.2.0",
            "_view_name": "LayoutView",
            "align_content": null,
            "align_items": null,
            "align_self": null,
            "border": null,
            "bottom": null,
            "display": null,
            "flex": null,
            "flex_flow": null,
            "grid_area": null,
            "grid_auto_columns": null,
            "grid_auto_flow": null,
            "grid_auto_rows": null,
            "grid_column": null,
            "grid_gap": null,
            "grid_row": null,
            "grid_template_areas": null,
            "grid_template_columns": null,
            "grid_template_rows": null,
            "height": null,
            "justify_content": null,
            "justify_items": null,
            "left": null,
            "margin": null,
            "max_height": null,
            "max_width": null,
            "min_height": null,
            "min_width": null,
            "object_fit": null,
            "object_position": null,
            "order": null,
            "overflow": null,
            "overflow_x": null,
            "overflow_y": null,
            "padding": null,
            "right": null,
            "top": null,
            "visibility": null,
            "width": null
          }
        },
        "802990d5617b40c9a09a17ffbe043dd0": {
          "model_module": "@jupyter-widgets/controls",
          "model_module_version": "1.5.0",
          "model_name": "HTMLModel",
          "state": {
            "_dom_classes": [],
            "_model_module": "@jupyter-widgets/controls",
            "_model_module_version": "1.5.0",
            "_model_name": "HTMLModel",
            "_view_count": null,
            "_view_module": "@jupyter-widgets/controls",
            "_view_module_version": "1.5.0",
            "_view_name": "HTMLView",
            "description": "",
            "description_tooltip": null,
            "layout": "IPY_MODEL_4331ba267a4e4fac81e5f2b7bb6bc639",
            "placeholder": "​",
            "style": "IPY_MODEL_bbcd026e20194a25a9cd6a9ca617f49f",
            "value": " 10999/10999 [01:21&lt;00:00, 111.58it/s]"
          }
        },
        "802a194cdfad405cbb6a54a4d15c480a": {
          "model_module": "@jupyter-widgets/base",
          "model_module_version": "1.2.0",
          "model_name": "LayoutModel",
          "state": {
            "_model_module": "@jupyter-widgets/base",
            "_model_module_version": "1.2.0",
            "_model_name": "LayoutModel",
            "_view_count": null,
            "_view_module": "@jupyter-widgets/base",
            "_view_module_version": "1.2.0",
            "_view_name": "LayoutView",
            "align_content": null,
            "align_items": null,
            "align_self": null,
            "border": null,
            "bottom": null,
            "display": null,
            "flex": null,
            "flex_flow": null,
            "grid_area": null,
            "grid_auto_columns": null,
            "grid_auto_flow": null,
            "grid_auto_rows": null,
            "grid_column": null,
            "grid_gap": null,
            "grid_row": null,
            "grid_template_areas": null,
            "grid_template_columns": null,
            "grid_template_rows": null,
            "height": null,
            "justify_content": null,
            "justify_items": null,
            "left": null,
            "margin": null,
            "max_height": null,
            "max_width": null,
            "min_height": null,
            "min_width": null,
            "object_fit": null,
            "object_position": null,
            "order": null,
            "overflow": null,
            "overflow_x": null,
            "overflow_y": null,
            "padding": null,
            "right": null,
            "top": null,
            "visibility": null,
            "width": null
          }
        },
        "82e5fee8b9244d79998a0cd7e2f9181e": {
          "model_module": "@jupyter-widgets/controls",
          "model_module_version": "1.5.0",
          "model_name": "HTMLModel",
          "state": {
            "_dom_classes": [],
            "_model_module": "@jupyter-widgets/controls",
            "_model_module_version": "1.5.0",
            "_model_name": "HTMLModel",
            "_view_count": null,
            "_view_module": "@jupyter-widgets/controls",
            "_view_module_version": "1.5.0",
            "_view_name": "HTMLView",
            "description": "",
            "description_tooltip": null,
            "layout": "IPY_MODEL_76d89dce8257477e9922b859b6004b2c",
            "placeholder": "​",
            "style": "IPY_MODEL_2037a78270d2460c97bf97abcf02f4aa",
            "value": "100%"
          }
        },
        "8679128f1cf74af28e86a1943af9e61d": {
          "model_module": "@jupyter-widgets/controls",
          "model_module_version": "1.5.0",
          "model_name": "FloatProgressModel",
          "state": {
            "_dom_classes": [],
            "_model_module": "@jupyter-widgets/controls",
            "_model_module_version": "1.5.0",
            "_model_name": "FloatProgressModel",
            "_view_count": null,
            "_view_module": "@jupyter-widgets/controls",
            "_view_module_version": "1.5.0",
            "_view_name": "ProgressView",
            "bar_style": "success",
            "description": "",
            "description_tooltip": null,
            "layout": "IPY_MODEL_7f27d77099ad45d09746bebcc22140b2",
            "max": 15923,
            "min": 0,
            "orientation": "horizontal",
            "style": "IPY_MODEL_4d24560933f0436cac3690fbecb6cd5e",
            "value": 15923
          }
        },
        "8fb6c795b3fe44fd825e1c15fb9a86f1": {
          "model_module": "@jupyter-widgets/controls",
          "model_module_version": "1.5.0",
          "model_name": "HTMLModel",
          "state": {
            "_dom_classes": [],
            "_model_module": "@jupyter-widgets/controls",
            "_model_module_version": "1.5.0",
            "_model_name": "HTMLModel",
            "_view_count": null,
            "_view_module": "@jupyter-widgets/controls",
            "_view_module_version": "1.5.0",
            "_view_name": "HTMLView",
            "description": "",
            "description_tooltip": null,
            "layout": "IPY_MODEL_1d70c084cdad4433a245871d5c5617b3",
            "placeholder": "​",
            "style": "IPY_MODEL_5739e20828284ab6b7dc608b52ec4c6a",
            "value": " 159292/159292 [25:31&lt;00:00, 146.93it/s]"
          }
        },
        "914ae68d767844409b8c8b48c9a99b7c": {
          "model_module": "@jupyter-widgets/controls",
          "model_module_version": "1.5.0",
          "model_name": "HTMLModel",
          "state": {
            "_dom_classes": [],
            "_model_module": "@jupyter-widgets/controls",
            "_model_module_version": "1.5.0",
            "_model_name": "HTMLModel",
            "_view_count": null,
            "_view_module": "@jupyter-widgets/controls",
            "_view_module_version": "1.5.0",
            "_view_name": "HTMLView",
            "description": "",
            "description_tooltip": null,
            "layout": "IPY_MODEL_fad4f2925fd24bc8996db7ff4f7e2744",
            "placeholder": "​",
            "style": "IPY_MODEL_44d038a955d948018ce147e019a06182",
            "value": "100%"
          }
        },
        "964c71a12c9b451b9df4fb7366ac7924": {
          "model_module": "@jupyter-widgets/controls",
          "model_module_version": "1.5.0",
          "model_name": "HBoxModel",
          "state": {
            "_dom_classes": [],
            "_model_module": "@jupyter-widgets/controls",
            "_model_module_version": "1.5.0",
            "_model_name": "HBoxModel",
            "_view_count": null,
            "_view_module": "@jupyter-widgets/controls",
            "_view_module_version": "1.5.0",
            "_view_name": "HBoxView",
            "box_style": "",
            "children": [
              "IPY_MODEL_b481815d555c4ffaa6b3994cf014467e",
              "IPY_MODEL_ec4a53a66f804a2e9b7a7644d0b80c4d",
              "IPY_MODEL_a071d375492b470e89cedaeae08fd46c"
            ],
            "layout": "IPY_MODEL_3c95038355a5418caacbff4534193451"
          }
        },
        "9e1ce26aefc44a8c847051b7f12ed8d7": {
          "model_module": "@jupyter-widgets/base",
          "model_module_version": "1.2.0",
          "model_name": "LayoutModel",
          "state": {
            "_model_module": "@jupyter-widgets/base",
            "_model_module_version": "1.2.0",
            "_model_name": "LayoutModel",
            "_view_count": null,
            "_view_module": "@jupyter-widgets/base",
            "_view_module_version": "1.2.0",
            "_view_name": "LayoutView",
            "align_content": null,
            "align_items": null,
            "align_self": null,
            "border": null,
            "bottom": null,
            "display": null,
            "flex": null,
            "flex_flow": null,
            "grid_area": null,
            "grid_auto_columns": null,
            "grid_auto_flow": null,
            "grid_auto_rows": null,
            "grid_column": null,
            "grid_gap": null,
            "grid_row": null,
            "grid_template_areas": null,
            "grid_template_columns": null,
            "grid_template_rows": null,
            "height": null,
            "justify_content": null,
            "justify_items": null,
            "left": null,
            "margin": null,
            "max_height": null,
            "max_width": null,
            "min_height": null,
            "min_width": null,
            "object_fit": null,
            "object_position": null,
            "order": null,
            "overflow": null,
            "overflow_x": null,
            "overflow_y": null,
            "padding": null,
            "right": null,
            "top": null,
            "visibility": null,
            "width": null
          }
        },
        "a071d375492b470e89cedaeae08fd46c": {
          "model_module": "@jupyter-widgets/controls",
          "model_module_version": "1.5.0",
          "model_name": "HTMLModel",
          "state": {
            "_dom_classes": [],
            "_model_module": "@jupyter-widgets/controls",
            "_model_module_version": "1.5.0",
            "_model_name": "HTMLModel",
            "_view_count": null,
            "_view_module": "@jupyter-widgets/controls",
            "_view_module_version": "1.5.0",
            "_view_name": "HTMLView",
            "description": "",
            "description_tooltip": null,
            "layout": "IPY_MODEL_f4f501159f1d40d2ab664355378d81d1",
            "placeholder": "​",
            "style": "IPY_MODEL_122a192bb5164888a179a630088733c8",
            "value": " 15917/15917 [01:55&lt;00:00, 183.25it/s]"
          }
        },
        "a2096f5855b2406d9188fab4dcf4de16": {
          "model_module": "@jupyter-widgets/controls",
          "model_module_version": "1.5.0",
          "model_name": "HBoxModel",
          "state": {
            "_dom_classes": [],
            "_model_module": "@jupyter-widgets/controls",
            "_model_module_version": "1.5.0",
            "_model_name": "HBoxModel",
            "_view_count": null,
            "_view_module": "@jupyter-widgets/controls",
            "_view_module_version": "1.5.0",
            "_view_name": "HBoxView",
            "box_style": "",
            "children": [
              "IPY_MODEL_914ae68d767844409b8c8b48c9a99b7c",
              "IPY_MODEL_1c94b9b1a7384c9486fe04457a483827",
              "IPY_MODEL_802990d5617b40c9a09a17ffbe043dd0"
            ],
            "layout": "IPY_MODEL_d1b4c0edfb754fe4a7006eec5f881fda"
          }
        },
        "afa72b78ca2c4bd8bbf2c3bf632f07b8": {
          "model_module": "@jupyter-widgets/base",
          "model_module_version": "1.2.0",
          "model_name": "LayoutModel",
          "state": {
            "_model_module": "@jupyter-widgets/base",
            "_model_module_version": "1.2.0",
            "_model_name": "LayoutModel",
            "_view_count": null,
            "_view_module": "@jupyter-widgets/base",
            "_view_module_version": "1.2.0",
            "_view_name": "LayoutView",
            "align_content": null,
            "align_items": null,
            "align_self": null,
            "border": null,
            "bottom": null,
            "display": null,
            "flex": null,
            "flex_flow": null,
            "grid_area": null,
            "grid_auto_columns": null,
            "grid_auto_flow": null,
            "grid_auto_rows": null,
            "grid_column": null,
            "grid_gap": null,
            "grid_row": null,
            "grid_template_areas": null,
            "grid_template_columns": null,
            "grid_template_rows": null,
            "height": null,
            "justify_content": null,
            "justify_items": null,
            "left": null,
            "margin": null,
            "max_height": null,
            "max_width": null,
            "min_height": null,
            "min_width": null,
            "object_fit": null,
            "object_position": null,
            "order": null,
            "overflow": null,
            "overflow_x": null,
            "overflow_y": null,
            "padding": null,
            "right": null,
            "top": null,
            "visibility": null,
            "width": null
          }
        },
        "b481815d555c4ffaa6b3994cf014467e": {
          "model_module": "@jupyter-widgets/controls",
          "model_module_version": "1.5.0",
          "model_name": "HTMLModel",
          "state": {
            "_dom_classes": [],
            "_model_module": "@jupyter-widgets/controls",
            "_model_module_version": "1.5.0",
            "_model_name": "HTMLModel",
            "_view_count": null,
            "_view_module": "@jupyter-widgets/controls",
            "_view_module_version": "1.5.0",
            "_view_name": "HTMLView",
            "description": "",
            "description_tooltip": null,
            "layout": "IPY_MODEL_46f75b5d759e4b34b2cfa8a125ba8e45",
            "placeholder": "​",
            "style": "IPY_MODEL_20578416ef234fe2a279cb5bb2564b44",
            "value": "100%"
          }
        },
        "bbcd026e20194a25a9cd6a9ca617f49f": {
          "model_module": "@jupyter-widgets/controls",
          "model_module_version": "1.5.0",
          "model_name": "DescriptionStyleModel",
          "state": {
            "_model_module": "@jupyter-widgets/controls",
            "_model_module_version": "1.5.0",
            "_model_name": "DescriptionStyleModel",
            "_view_count": null,
            "_view_module": "@jupyter-widgets/base",
            "_view_module_version": "1.2.0",
            "_view_name": "StyleView",
            "description_width": ""
          }
        },
        "d1b4c0edfb754fe4a7006eec5f881fda": {
          "model_module": "@jupyter-widgets/base",
          "model_module_version": "1.2.0",
          "model_name": "LayoutModel",
          "state": {
            "_model_module": "@jupyter-widgets/base",
            "_model_module_version": "1.2.0",
            "_model_name": "LayoutModel",
            "_view_count": null,
            "_view_module": "@jupyter-widgets/base",
            "_view_module_version": "1.2.0",
            "_view_name": "LayoutView",
            "align_content": null,
            "align_items": null,
            "align_self": null,
            "border": null,
            "bottom": null,
            "display": null,
            "flex": null,
            "flex_flow": null,
            "grid_area": null,
            "grid_auto_columns": null,
            "grid_auto_flow": null,
            "grid_auto_rows": null,
            "grid_column": null,
            "grid_gap": null,
            "grid_row": null,
            "grid_template_areas": null,
            "grid_template_columns": null,
            "grid_template_rows": null,
            "height": null,
            "justify_content": null,
            "justify_items": null,
            "left": null,
            "margin": null,
            "max_height": null,
            "max_width": null,
            "min_height": null,
            "min_width": null,
            "object_fit": null,
            "object_position": null,
            "order": null,
            "overflow": null,
            "overflow_x": null,
            "overflow_y": null,
            "padding": null,
            "right": null,
            "top": null,
            "visibility": null,
            "width": null
          }
        },
        "de6d21bfc309409d8bd7a99de0a9ed6c": {
          "model_module": "@jupyter-widgets/controls",
          "model_module_version": "1.5.0",
          "model_name": "HTMLModel",
          "state": {
            "_dom_classes": [],
            "_model_module": "@jupyter-widgets/controls",
            "_model_module_version": "1.5.0",
            "_model_name": "HTMLModel",
            "_view_count": null,
            "_view_module": "@jupyter-widgets/controls",
            "_view_module_version": "1.5.0",
            "_view_name": "HTMLView",
            "description": "",
            "description_tooltip": null,
            "layout": "IPY_MODEL_802a194cdfad405cbb6a54a4d15c480a",
            "placeholder": "​",
            "style": "IPY_MODEL_020c52efbf1643aaa5b25cf601ba3e3e",
            "value": " 15819/15819 [02:06&lt;00:00, 181.64it/s]"
          }
        },
        "df2506c4de80437eb909e9f24c503ed3": {
          "model_module": "@jupyter-widgets/base",
          "model_module_version": "1.2.0",
          "model_name": "LayoutModel",
          "state": {
            "_model_module": "@jupyter-widgets/base",
            "_model_module_version": "1.2.0",
            "_model_name": "LayoutModel",
            "_view_count": null,
            "_view_module": "@jupyter-widgets/base",
            "_view_module_version": "1.2.0",
            "_view_name": "LayoutView",
            "align_content": null,
            "align_items": null,
            "align_self": null,
            "border": null,
            "bottom": null,
            "display": null,
            "flex": null,
            "flex_flow": null,
            "grid_area": null,
            "grid_auto_columns": null,
            "grid_auto_flow": null,
            "grid_auto_rows": null,
            "grid_column": null,
            "grid_gap": null,
            "grid_row": null,
            "grid_template_areas": null,
            "grid_template_columns": null,
            "grid_template_rows": null,
            "height": null,
            "justify_content": null,
            "justify_items": null,
            "left": null,
            "margin": null,
            "max_height": null,
            "max_width": null,
            "min_height": null,
            "min_width": null,
            "object_fit": null,
            "object_position": null,
            "order": null,
            "overflow": null,
            "overflow_x": null,
            "overflow_y": null,
            "padding": null,
            "right": null,
            "top": null,
            "visibility": null,
            "width": null
          }
        },
        "e9349c135c6f43258fd87fe05ca46228": {
          "model_module": "@jupyter-widgets/base",
          "model_module_version": "1.2.0",
          "model_name": "LayoutModel",
          "state": {
            "_model_module": "@jupyter-widgets/base",
            "_model_module_version": "1.2.0",
            "_model_name": "LayoutModel",
            "_view_count": null,
            "_view_module": "@jupyter-widgets/base",
            "_view_module_version": "1.2.0",
            "_view_name": "LayoutView",
            "align_content": null,
            "align_items": null,
            "align_self": null,
            "border": null,
            "bottom": null,
            "display": null,
            "flex": null,
            "flex_flow": null,
            "grid_area": null,
            "grid_auto_columns": null,
            "grid_auto_flow": null,
            "grid_auto_rows": null,
            "grid_column": null,
            "grid_gap": null,
            "grid_row": null,
            "grid_template_areas": null,
            "grid_template_columns": null,
            "grid_template_rows": null,
            "height": null,
            "justify_content": null,
            "justify_items": null,
            "left": null,
            "margin": null,
            "max_height": null,
            "max_width": null,
            "min_height": null,
            "min_width": null,
            "object_fit": null,
            "object_position": null,
            "order": null,
            "overflow": null,
            "overflow_x": null,
            "overflow_y": null,
            "padding": null,
            "right": null,
            "top": null,
            "visibility": null,
            "width": null
          }
        },
        "ec4a53a66f804a2e9b7a7644d0b80c4d": {
          "model_module": "@jupyter-widgets/controls",
          "model_module_version": "1.5.0",
          "model_name": "FloatProgressModel",
          "state": {
            "_dom_classes": [],
            "_model_module": "@jupyter-widgets/controls",
            "_model_module_version": "1.5.0",
            "_model_name": "FloatProgressModel",
            "_view_count": null,
            "_view_module": "@jupyter-widgets/controls",
            "_view_module_version": "1.5.0",
            "_view_name": "ProgressView",
            "bar_style": "success",
            "description": "",
            "description_tooltip": null,
            "layout": "IPY_MODEL_e9349c135c6f43258fd87fe05ca46228",
            "max": 15917,
            "min": 0,
            "orientation": "horizontal",
            "style": "IPY_MODEL_f7340faabc244291aea2bfaac6663119",
            "value": 15917
          }
        },
        "f4f501159f1d40d2ab664355378d81d1": {
          "model_module": "@jupyter-widgets/base",
          "model_module_version": "1.2.0",
          "model_name": "LayoutModel",
          "state": {
            "_model_module": "@jupyter-widgets/base",
            "_model_module_version": "1.2.0",
            "_model_name": "LayoutModel",
            "_view_count": null,
            "_view_module": "@jupyter-widgets/base",
            "_view_module_version": "1.2.0",
            "_view_name": "LayoutView",
            "align_content": null,
            "align_items": null,
            "align_self": null,
            "border": null,
            "bottom": null,
            "display": null,
            "flex": null,
            "flex_flow": null,
            "grid_area": null,
            "grid_auto_columns": null,
            "grid_auto_flow": null,
            "grid_auto_rows": null,
            "grid_column": null,
            "grid_gap": null,
            "grid_row": null,
            "grid_template_areas": null,
            "grid_template_columns": null,
            "grid_template_rows": null,
            "height": null,
            "justify_content": null,
            "justify_items": null,
            "left": null,
            "margin": null,
            "max_height": null,
            "max_width": null,
            "min_height": null,
            "min_width": null,
            "object_fit": null,
            "object_position": null,
            "order": null,
            "overflow": null,
            "overflow_x": null,
            "overflow_y": null,
            "padding": null,
            "right": null,
            "top": null,
            "visibility": null,
            "width": null
          }
        },
        "f7340faabc244291aea2bfaac6663119": {
          "model_module": "@jupyter-widgets/controls",
          "model_module_version": "1.5.0",
          "model_name": "ProgressStyleModel",
          "state": {
            "_model_module": "@jupyter-widgets/controls",
            "_model_module_version": "1.5.0",
            "_model_name": "ProgressStyleModel",
            "_view_count": null,
            "_view_module": "@jupyter-widgets/base",
            "_view_module_version": "1.2.0",
            "_view_name": "StyleView",
            "bar_color": null,
            "description_width": ""
          }
        },
        "f754d94498f040669b4f03446a6f092b": {
          "model_module": "@jupyter-widgets/controls",
          "model_module_version": "1.5.0",
          "model_name": "FloatProgressModel",
          "state": {
            "_dom_classes": [],
            "_model_module": "@jupyter-widgets/controls",
            "_model_module_version": "1.5.0",
            "_model_name": "FloatProgressModel",
            "_view_count": null,
            "_view_module": "@jupyter-widgets/controls",
            "_view_module_version": "1.5.0",
            "_view_name": "ProgressView",
            "bar_style": "success",
            "description": "",
            "description_tooltip": null,
            "layout": "IPY_MODEL_6ff31141cabf459692ec629ff1daf05a",
            "max": 15819,
            "min": 0,
            "orientation": "horizontal",
            "style": "IPY_MODEL_4b7975bcf6454ed5aae6dc9453c92b12",
            "value": 15819
          }
        },
        "f89f26d625594f47bb081dbc1df00e31": {
          "model_module": "@jupyter-widgets/controls",
          "model_module_version": "1.5.0",
          "model_name": "DescriptionStyleModel",
          "state": {
            "_model_module": "@jupyter-widgets/controls",
            "_model_module_version": "1.5.0",
            "_model_name": "DescriptionStyleModel",
            "_view_count": null,
            "_view_module": "@jupyter-widgets/base",
            "_view_module_version": "1.2.0",
            "_view_name": "StyleView",
            "description_width": ""
          }
        },
        "fad4f2925fd24bc8996db7ff4f7e2744": {
          "model_module": "@jupyter-widgets/base",
          "model_module_version": "1.2.0",
          "model_name": "LayoutModel",
          "state": {
            "_model_module": "@jupyter-widgets/base",
            "_model_module_version": "1.2.0",
            "_model_name": "LayoutModel",
            "_view_count": null,
            "_view_module": "@jupyter-widgets/base",
            "_view_module_version": "1.2.0",
            "_view_name": "LayoutView",
            "align_content": null,
            "align_items": null,
            "align_self": null,
            "border": null,
            "bottom": null,
            "display": null,
            "flex": null,
            "flex_flow": null,
            "grid_area": null,
            "grid_auto_columns": null,
            "grid_auto_flow": null,
            "grid_auto_rows": null,
            "grid_column": null,
            "grid_gap": null,
            "grid_row": null,
            "grid_template_areas": null,
            "grid_template_columns": null,
            "grid_template_rows": null,
            "height": null,
            "justify_content": null,
            "justify_items": null,
            "left": null,
            "margin": null,
            "max_height": null,
            "max_width": null,
            "min_height": null,
            "min_width": null,
            "object_fit": null,
            "object_position": null,
            "order": null,
            "overflow": null,
            "overflow_x": null,
            "overflow_y": null,
            "padding": null,
            "right": null,
            "top": null,
            "visibility": null,
            "width": null
          }
        },
        "ff4538ab03714ef7a65c93f503fcc65d": {
          "model_module": "@jupyter-widgets/controls",
          "model_module_version": "1.5.0",
          "model_name": "HBoxModel",
          "state": {
            "_dom_classes": [],
            "_model_module": "@jupyter-widgets/controls",
            "_model_module_version": "1.5.0",
            "_model_name": "HBoxModel",
            "_view_count": null,
            "_view_module": "@jupyter-widgets/controls",
            "_view_module_version": "1.5.0",
            "_view_name": "HBoxView",
            "box_style": "",
            "children": [
              "IPY_MODEL_6d5282f27c6f4bf9858e08408b25ec51",
              "IPY_MODEL_2f3ee8da99724f2f8845fd5ecdfe680f",
              "IPY_MODEL_8fb6c795b3fe44fd825e1c15fb9a86f1"
            ],
            "layout": "IPY_MODEL_afa72b78ca2c4bd8bbf2c3bf632f07b8"
          }
        }
      }
    }
  },
  "nbformat": 4,
  "nbformat_minor": 0
}
